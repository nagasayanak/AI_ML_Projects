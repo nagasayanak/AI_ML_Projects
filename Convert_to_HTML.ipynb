{
 "cells": [
  {
   "cell_type": "code",
   "execution_count": null,
   "id": "fc21c86e",
   "metadata": {},
   "outputs": [],
   "source": [
    "# If you want to convert a notebook file (.ipynb) to HTML locally, use nbconvert.\n",
    "import subprocess\n",
    "\n",
    "# Replace this with your notebook filename\n",
    "notebook_filename = \"C:\\Users\\nagas\\Downloads\\AI_ML\\AI_ML_Projects\\Learner_Notebook_Full_Code.ipynb\"\n",
    "\n",
    "# Convert the notebook to HTML\n",
    "subprocess.run([\"jupyter\", \"nbconvert\", notebook_filename, \"--to\", \"html\"])\n",
    "\n",
    "print(f\"Conversion complete. Check the HTML file in your working directory.\")"
   ]
  }
 ],
 "metadata": {
  "language_info": {
   "name": "python"
  }
 },
 "nbformat": 4,
 "nbformat_minor": 5
}
