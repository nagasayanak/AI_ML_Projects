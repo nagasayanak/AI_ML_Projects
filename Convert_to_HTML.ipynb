{
 "cells": [
  {
   "cell_type": "code",
   "execution_count": null,
   "id": "fc21c86e",
   "metadata": {},
   "outputs": [
    {
     "name": "stdout",
     "output_type": "stream",
     "text": [
      "Conversion complete. Check the HTML file in your working directory.\n"
     ]
    }
   ],
   "source": [
    "# If you want to convert a notebook file (.ipynb) to HTML locally, use nbconvert.\n",
    "import subprocess\n",
    "\n",
    "# Replace this with your notebook filename\n",
    "notebook_filename = r\"C:\\Users\\nagas\\Downloads\\AI_ML\\AI_ML_Projects\\NagasayanaRaoKuchibhotla_Notebook_Full_Code.ipynb\"\n",
    "\n",
    "# Convert the notebook to HTML\n",
    "subprocess.run([\"jupyter\", \"nbconvert\", notebook_filename, \"--to\", \"html\"])\n",
    "\n",
    "print(f\"Conversion complete. Check the HTML file in your working directory.\")"
   ]
  }
 ],
 "metadata": {
  "kernelspec": {
   "display_name": "Python 3",
   "language": "python",
   "name": "python3"
  },
  "language_info": {
   "codemirror_mode": {
    "name": "ipython",
    "version": 3
   },
   "file_extension": ".py",
   "mimetype": "text/x-python",
   "name": "python",
   "nbconvert_exporter": "python",
   "pygments_lexer": "ipython3",
   "version": "3.11.9"
  }
 },
 "nbformat": 4,
 "nbformat_minor": 5
}
