{
  "cells": [
    {
      "cell_type": "markdown",
      "metadata": {
        "id": "dHp26RRERvXx"
      },
      "source": [
        "## Problem Statement"
      ]
    },
    {
      "cell_type": "markdown",
      "metadata": {
        "id": "m5MpauhvxIh6"
      },
      "source": [
        "### Context\n",
        "\n",
        "AllLife Bank is a US bank that has a growing customer base. The majority of these customers are liability customers (depositors) with varying sizes of deposits. The number of customers who are also borrowers (asset customers) is quite small, and the bank is interested in expanding this base rapidly to bring in more loan business and in the process, earn more through the interest on loans. In particular, the management wants to explore ways of converting its liability customers to personal loan customers (while retaining them as depositors).\n",
        "\n",
        "A campaign that the bank ran last year for liability customers showed a healthy conversion rate of over 9% success. This has encouraged the retail marketing department to devise campaigns with better target marketing to increase the success ratio.\n",
        "\n",
        "You as a Data scientist at AllLife bank have to build a model that will help the marketing department to identify the potential customers who have a higher probability of purchasing the loan."
      ]
    },
    {
      "cell_type": "markdown",
      "metadata": {
        "id": "s4T59mPjxMmc"
      },
      "source": [
        "### Objective\n",
        "\n",
        "To predict whether a liability customer will buy personal loans, to understand which customer attributes are most significant in driving purchases, and identify which segment of customers to target more."
      ]
    },
    {
      "cell_type": "markdown",
      "metadata": {
        "id": "FN8fKs4_xPLS"
      },
      "source": [
        "### Data Dictionary\n",
        "* `ID`: Customer ID\n",
        "* `Age`: Customer’s age in completed years\n",
        "* `Experience`: #years of professional experience\n",
        "* `Income`: Annual income of the customer (in thousand dollars)\n",
        "* `ZIP Code`: Home Address ZIP code.\n",
        "* `Family`: the Family size of the customer\n",
        "* `CCAvg`: Average spending on credit cards per month (in thousand dollars)\n",
        "* `Education`: Education Level. 1: Undergrad; 2: Graduate;3: Advanced/Professional\n",
        "* `Mortgage`: Value of house mortgage if any. (in thousand dollars)\n",
        "* `Personal_Loan`: Did this customer accept the personal loan offered in the last campaign? (0: No, 1: Yes)\n",
        "* `Securities_Account`: Does the customer have securities account with the bank? (0: No, 1: Yes)\n",
        "* `CD_Account`: Does the customer have a certificate of deposit (CD) account with the bank? (0: No, 1: Yes)\n",
        "* `Online`: Do customers use internet banking facilities? (0: No, 1: Yes)\n",
        "* `CreditCard`: Does the customer use a credit card issued by any other Bank (excluding All life Bank)? (0: No, 1: Yes)"
      ]
    },
    {
      "cell_type": "markdown",
      "metadata": {
        "id": "CP-77n_lxyBt"
      },
      "source": [
        "## Importing necessary libraries"
      ]
    },
    {
      "cell_type": "code",
      "execution_count": null,
      "metadata": {
        "id": "ryFwv2fwXqBw"
      },
      "outputs": [],
      "source": [
        "# Installing the libraries with the specified version.\n",
        "#!pip install numpy==1.25.2 pandas==1.5.3 matplotlib==3.7.1 seaborn==0.13.1 scikit-learn==1.2.2 sklearn-pandas==2.2.0 -q --user"
      ]
    },
    {
      "cell_type": "markdown",
      "metadata": {
        "id": "Id5iPySmwVCi"
      },
      "source": [
        "**Note**:\n",
        "\n",
        "1. After running the above cell, kindly restart the notebook kernel (for Jupyter Notebook) or runtime (for Google Colab), write the relevant code for the project from the next cell, and run all cells sequentially from the next cell.\n",
        "\n",
        "2. On executing the above line of code, you might see a warning regarding package dependencies. This error message can be ignored as the above code ensures that all necessary libraries and their dependencies are maintained to successfully execute the code in this notebook."
      ]
    },
    {
      "cell_type": "code",
      "execution_count": 2,
      "metadata": {
        "id": "O36RnISpw679"
      },
      "outputs": [],
      "source": [
        "# Import required libraries\n",
        "\n",
        "# Data Handling\n",
        "import pandas as pd  \n",
        "import numpy as np  \n",
        "\n",
        "# Visualization\n",
        "import matplotlib.pyplot as plt  \n",
        "import seaborn as sns  \n",
        "\n",
        "# Machine Learning - Model Selection & Preprocessing\n",
        "from sklearn.model_selection import train_test_split  \n",
        "from sklearn.preprocessing import StandardScaler, LabelEncoder  \n",
        "\n",
        "# Machine Learning - Classification Models\n",
        "from sklearn.ensemble import RandomForestClassifier  \n",
        "from sklearn.tree import DecisionTreeClassifier  \n",
        "from sklearn.linear_model import LogisticRegression  \n",
        "\n",
        "# Evaluation Metrics\n",
        "from sklearn.metrics import (\n",
        "    accuracy_score, classification_report, confusion_matrix, \n",
        "    f1_score, recall_score, precision_score, \n",
        "    roc_auc_score, roc_curve\n",
        ")"
      ]
    },
    {
      "cell_type": "markdown",
      "metadata": {
        "id": "D0cilOy9yeK7"
      },
      "source": [
        "## Loading the dataset"
      ]
    },
    {
      "cell_type": "code",
      "execution_count": 3,
      "metadata": {
        "id": "veW9EM12yd5M"
      },
      "outputs": [],
      "source": [
        "# Load the dataset\n",
        "Loan_df = pd.read_csv(\"Loan_Modelling.csv\")"
      ]
    },
    {
      "cell_type": "code",
      "execution_count": 4,
      "metadata": {},
      "outputs": [
        {
          "data": {
            "application/vnd.microsoft.datawrangler.viewer.v0+json": {
              "columns": [
                {
                  "name": "index",
                  "rawType": "int64",
                  "type": "integer"
                },
                {
                  "name": "ID",
                  "rawType": "int64",
                  "type": "integer"
                },
                {
                  "name": "Age",
                  "rawType": "int64",
                  "type": "integer"
                },
                {
                  "name": "Experience",
                  "rawType": "int64",
                  "type": "integer"
                },
                {
                  "name": "Income",
                  "rawType": "int64",
                  "type": "integer"
                },
                {
                  "name": "ZIPCode",
                  "rawType": "int64",
                  "type": "integer"
                },
                {
                  "name": "Family",
                  "rawType": "int64",
                  "type": "integer"
                },
                {
                  "name": "CCAvg",
                  "rawType": "float64",
                  "type": "float"
                },
                {
                  "name": "Education",
                  "rawType": "int64",
                  "type": "integer"
                },
                {
                  "name": "Mortgage",
                  "rawType": "int64",
                  "type": "integer"
                },
                {
                  "name": "Personal_Loan",
                  "rawType": "int64",
                  "type": "integer"
                },
                {
                  "name": "Securities_Account",
                  "rawType": "int64",
                  "type": "integer"
                },
                {
                  "name": "CD_Account",
                  "rawType": "int64",
                  "type": "integer"
                },
                {
                  "name": "Online",
                  "rawType": "int64",
                  "type": "integer"
                },
                {
                  "name": "CreditCard",
                  "rawType": "int64",
                  "type": "integer"
                }
              ],
              "ref": "269f3bcc-138b-4e47-b07b-d773484d681b",
              "rows": [
                [
                  "0",
                  "1",
                  "25",
                  "1",
                  "49",
                  "91107",
                  "4",
                  "1.6",
                  "1",
                  "0",
                  "0",
                  "1",
                  "0",
                  "0",
                  "0"
                ],
                [
                  "1",
                  "2",
                  "45",
                  "19",
                  "34",
                  "90089",
                  "3",
                  "1.5",
                  "1",
                  "0",
                  "0",
                  "1",
                  "0",
                  "0",
                  "0"
                ],
                [
                  "2",
                  "3",
                  "39",
                  "15",
                  "11",
                  "94720",
                  "1",
                  "1.0",
                  "1",
                  "0",
                  "0",
                  "0",
                  "0",
                  "0",
                  "0"
                ],
                [
                  "3",
                  "4",
                  "35",
                  "9",
                  "100",
                  "94112",
                  "1",
                  "2.7",
                  "2",
                  "0",
                  "0",
                  "0",
                  "0",
                  "0",
                  "0"
                ],
                [
                  "4",
                  "5",
                  "35",
                  "8",
                  "45",
                  "91330",
                  "4",
                  "1.0",
                  "2",
                  "0",
                  "0",
                  "0",
                  "0",
                  "0",
                  "1"
                ],
                [
                  "5",
                  "6",
                  "37",
                  "13",
                  "29",
                  "92121",
                  "4",
                  "0.4",
                  "2",
                  "155",
                  "0",
                  "0",
                  "0",
                  "1",
                  "0"
                ],
                [
                  "6",
                  "7",
                  "53",
                  "27",
                  "72",
                  "91711",
                  "2",
                  "1.5",
                  "2",
                  "0",
                  "0",
                  "0",
                  "0",
                  "1",
                  "0"
                ],
                [
                  "7",
                  "8",
                  "50",
                  "24",
                  "22",
                  "93943",
                  "1",
                  "0.3",
                  "3",
                  "0",
                  "0",
                  "0",
                  "0",
                  "0",
                  "1"
                ],
                [
                  "8",
                  "9",
                  "35",
                  "10",
                  "81",
                  "90089",
                  "3",
                  "0.6",
                  "2",
                  "104",
                  "0",
                  "0",
                  "0",
                  "1",
                  "0"
                ],
                [
                  "9",
                  "10",
                  "34",
                  "9",
                  "180",
                  "93023",
                  "1",
                  "8.9",
                  "3",
                  "0",
                  "1",
                  "0",
                  "0",
                  "0",
                  "0"
                ],
                [
                  "10",
                  "11",
                  "65",
                  "39",
                  "105",
                  "94710",
                  "4",
                  "2.4",
                  "3",
                  "0",
                  "0",
                  "0",
                  "0",
                  "0",
                  "0"
                ],
                [
                  "11",
                  "12",
                  "29",
                  "5",
                  "45",
                  "90277",
                  "3",
                  "0.1",
                  "2",
                  "0",
                  "0",
                  "0",
                  "0",
                  "1",
                  "0"
                ],
                [
                  "12",
                  "13",
                  "48",
                  "23",
                  "114",
                  "93106",
                  "2",
                  "3.8",
                  "3",
                  "0",
                  "0",
                  "1",
                  "0",
                  "0",
                  "0"
                ],
                [
                  "13",
                  "14",
                  "59",
                  "32",
                  "40",
                  "94920",
                  "4",
                  "2.5",
                  "2",
                  "0",
                  "0",
                  "0",
                  "0",
                  "1",
                  "0"
                ],
                [
                  "14",
                  "15",
                  "67",
                  "41",
                  "112",
                  "91741",
                  "1",
                  "2.0",
                  "1",
                  "0",
                  "0",
                  "1",
                  "0",
                  "0",
                  "0"
                ],
                [
                  "15",
                  "16",
                  "60",
                  "30",
                  "22",
                  "95054",
                  "1",
                  "1.5",
                  "3",
                  "0",
                  "0",
                  "0",
                  "0",
                  "1",
                  "1"
                ],
                [
                  "16",
                  "17",
                  "38",
                  "14",
                  "130",
                  "95010",
                  "4",
                  "4.7",
                  "3",
                  "134",
                  "1",
                  "0",
                  "0",
                  "0",
                  "0"
                ],
                [
                  "17",
                  "18",
                  "42",
                  "18",
                  "81",
                  "94305",
                  "4",
                  "2.4",
                  "1",
                  "0",
                  "0",
                  "0",
                  "0",
                  "0",
                  "0"
                ],
                [
                  "18",
                  "19",
                  "46",
                  "21",
                  "193",
                  "91604",
                  "2",
                  "8.1",
                  "3",
                  "0",
                  "1",
                  "0",
                  "0",
                  "0",
                  "0"
                ],
                [
                  "19",
                  "20",
                  "55",
                  "28",
                  "21",
                  "94720",
                  "1",
                  "0.5",
                  "2",
                  "0",
                  "0",
                  "1",
                  "0",
                  "0",
                  "1"
                ],
                [
                  "20",
                  "21",
                  "56",
                  "31",
                  "25",
                  "94015",
                  "4",
                  "0.9",
                  "2",
                  "111",
                  "0",
                  "0",
                  "0",
                  "1",
                  "0"
                ],
                [
                  "21",
                  "22",
                  "57",
                  "27",
                  "63",
                  "90095",
                  "3",
                  "2.0",
                  "3",
                  "0",
                  "0",
                  "0",
                  "0",
                  "1",
                  "0"
                ],
                [
                  "22",
                  "23",
                  "29",
                  "5",
                  "62",
                  "90277",
                  "1",
                  "1.2",
                  "1",
                  "260",
                  "0",
                  "0",
                  "0",
                  "1",
                  "0"
                ],
                [
                  "23",
                  "24",
                  "44",
                  "18",
                  "43",
                  "91320",
                  "2",
                  "0.7",
                  "1",
                  "163",
                  "0",
                  "1",
                  "0",
                  "0",
                  "0"
                ],
                [
                  "24",
                  "25",
                  "36",
                  "11",
                  "152",
                  "95521",
                  "2",
                  "3.9",
                  "1",
                  "159",
                  "0",
                  "0",
                  "0",
                  "0",
                  "1"
                ],
                [
                  "25",
                  "26",
                  "43",
                  "19",
                  "29",
                  "94305",
                  "3",
                  "0.5",
                  "1",
                  "97",
                  "0",
                  "0",
                  "0",
                  "1",
                  "0"
                ],
                [
                  "26",
                  "27",
                  "40",
                  "16",
                  "83",
                  "95064",
                  "4",
                  "0.2",
                  "3",
                  "0",
                  "0",
                  "0",
                  "0",
                  "0",
                  "0"
                ],
                [
                  "27",
                  "28",
                  "46",
                  "20",
                  "158",
                  "90064",
                  "1",
                  "2.4",
                  "1",
                  "0",
                  "0",
                  "0",
                  "0",
                  "1",
                  "1"
                ],
                [
                  "28",
                  "29",
                  "56",
                  "30",
                  "48",
                  "94539",
                  "1",
                  "2.2",
                  "3",
                  "0",
                  "0",
                  "0",
                  "0",
                  "1",
                  "1"
                ],
                [
                  "29",
                  "30",
                  "38",
                  "13",
                  "119",
                  "94104",
                  "1",
                  "3.3",
                  "2",
                  "0",
                  "1",
                  "0",
                  "1",
                  "1",
                  "1"
                ],
                [
                  "30",
                  "31",
                  "59",
                  "35",
                  "35",
                  "93106",
                  "1",
                  "1.2",
                  "3",
                  "122",
                  "0",
                  "0",
                  "0",
                  "1",
                  "0"
                ],
                [
                  "31",
                  "32",
                  "40",
                  "16",
                  "29",
                  "94117",
                  "1",
                  "2.0",
                  "2",
                  "0",
                  "0",
                  "0",
                  "0",
                  "1",
                  "0"
                ],
                [
                  "32",
                  "33",
                  "53",
                  "28",
                  "41",
                  "94801",
                  "2",
                  "0.6",
                  "3",
                  "193",
                  "0",
                  "0",
                  "0",
                  "0",
                  "0"
                ],
                [
                  "33",
                  "34",
                  "30",
                  "6",
                  "18",
                  "91330",
                  "3",
                  "0.9",
                  "3",
                  "0",
                  "0",
                  "0",
                  "0",
                  "0",
                  "0"
                ],
                [
                  "34",
                  "35",
                  "31",
                  "5",
                  "50",
                  "94035",
                  "4",
                  "1.8",
                  "3",
                  "0",
                  "0",
                  "0",
                  "0",
                  "1",
                  "0"
                ],
                [
                  "35",
                  "36",
                  "48",
                  "24",
                  "81",
                  "92647",
                  "3",
                  "0.7",
                  "1",
                  "0",
                  "0",
                  "0",
                  "0",
                  "0",
                  "0"
                ],
                [
                  "36",
                  "37",
                  "59",
                  "35",
                  "121",
                  "94720",
                  "1",
                  "2.9",
                  "1",
                  "0",
                  "0",
                  "0",
                  "0",
                  "0",
                  "1"
                ],
                [
                  "37",
                  "38",
                  "51",
                  "25",
                  "71",
                  "95814",
                  "1",
                  "1.4",
                  "3",
                  "198",
                  "0",
                  "0",
                  "0",
                  "0",
                  "0"
                ],
                [
                  "38",
                  "39",
                  "42",
                  "18",
                  "141",
                  "94114",
                  "3",
                  "5.0",
                  "3",
                  "0",
                  "1",
                  "1",
                  "1",
                  "1",
                  "0"
                ],
                [
                  "39",
                  "40",
                  "38",
                  "13",
                  "80",
                  "94115",
                  "4",
                  "0.7",
                  "3",
                  "285",
                  "0",
                  "0",
                  "0",
                  "1",
                  "0"
                ],
                [
                  "40",
                  "41",
                  "57",
                  "32",
                  "84",
                  "92672",
                  "3",
                  "1.6",
                  "3",
                  "0",
                  "0",
                  "1",
                  "0",
                  "0",
                  "0"
                ],
                [
                  "41",
                  "42",
                  "34",
                  "9",
                  "60",
                  "94122",
                  "3",
                  "2.3",
                  "1",
                  "0",
                  "0",
                  "0",
                  "0",
                  "0",
                  "0"
                ],
                [
                  "42",
                  "43",
                  "32",
                  "7",
                  "132",
                  "90019",
                  "4",
                  "1.1",
                  "2",
                  "412",
                  "1",
                  "0",
                  "0",
                  "1",
                  "0"
                ],
                [
                  "43",
                  "44",
                  "39",
                  "15",
                  "45",
                  "95616",
                  "1",
                  "0.7",
                  "1",
                  "0",
                  "0",
                  "0",
                  "0",
                  "1",
                  "0"
                ],
                [
                  "44",
                  "45",
                  "46",
                  "20",
                  "104",
                  "94065",
                  "1",
                  "5.7",
                  "1",
                  "0",
                  "0",
                  "0",
                  "0",
                  "1",
                  "1"
                ],
                [
                  "45",
                  "46",
                  "57",
                  "31",
                  "52",
                  "94720",
                  "4",
                  "2.5",
                  "1",
                  "0",
                  "0",
                  "0",
                  "0",
                  "0",
                  "1"
                ],
                [
                  "46",
                  "47",
                  "39",
                  "14",
                  "43",
                  "95014",
                  "3",
                  "0.7",
                  "2",
                  "153",
                  "0",
                  "0",
                  "0",
                  "1",
                  "0"
                ],
                [
                  "47",
                  "48",
                  "37",
                  "12",
                  "194",
                  "91380",
                  "4",
                  "0.2",
                  "3",
                  "211",
                  "1",
                  "1",
                  "1",
                  "1",
                  "1"
                ],
                [
                  "48",
                  "49",
                  "56",
                  "26",
                  "81",
                  "95747",
                  "2",
                  "4.5",
                  "3",
                  "0",
                  "0",
                  "0",
                  "0",
                  "0",
                  "1"
                ],
                [
                  "49",
                  "50",
                  "40",
                  "16",
                  "49",
                  "92373",
                  "1",
                  "1.8",
                  "1",
                  "0",
                  "0",
                  "0",
                  "0",
                  "0",
                  "1"
                ]
              ],
              "shape": {
                "columns": 14,
                "rows": 5000
              }
            },
            "text/html": [
              "<div>\n",
              "<style scoped>\n",
              "    .dataframe tbody tr th:only-of-type {\n",
              "        vertical-align: middle;\n",
              "    }\n",
              "\n",
              "    .dataframe tbody tr th {\n",
              "        vertical-align: top;\n",
              "    }\n",
              "\n",
              "    .dataframe thead th {\n",
              "        text-align: right;\n",
              "    }\n",
              "</style>\n",
              "<table border=\"1\" class=\"dataframe\">\n",
              "  <thead>\n",
              "    <tr style=\"text-align: right;\">\n",
              "      <th></th>\n",
              "      <th>ID</th>\n",
              "      <th>Age</th>\n",
              "      <th>Experience</th>\n",
              "      <th>Income</th>\n",
              "      <th>ZIPCode</th>\n",
              "      <th>Family</th>\n",
              "      <th>CCAvg</th>\n",
              "      <th>Education</th>\n",
              "      <th>Mortgage</th>\n",
              "      <th>Personal_Loan</th>\n",
              "      <th>Securities_Account</th>\n",
              "      <th>CD_Account</th>\n",
              "      <th>Online</th>\n",
              "      <th>CreditCard</th>\n",
              "    </tr>\n",
              "  </thead>\n",
              "  <tbody>\n",
              "    <tr>\n",
              "      <th>0</th>\n",
              "      <td>1</td>\n",
              "      <td>25</td>\n",
              "      <td>1</td>\n",
              "      <td>49</td>\n",
              "      <td>91107</td>\n",
              "      <td>4</td>\n",
              "      <td>1.6</td>\n",
              "      <td>1</td>\n",
              "      <td>0</td>\n",
              "      <td>0</td>\n",
              "      <td>1</td>\n",
              "      <td>0</td>\n",
              "      <td>0</td>\n",
              "      <td>0</td>\n",
              "    </tr>\n",
              "    <tr>\n",
              "      <th>1</th>\n",
              "      <td>2</td>\n",
              "      <td>45</td>\n",
              "      <td>19</td>\n",
              "      <td>34</td>\n",
              "      <td>90089</td>\n",
              "      <td>3</td>\n",
              "      <td>1.5</td>\n",
              "      <td>1</td>\n",
              "      <td>0</td>\n",
              "      <td>0</td>\n",
              "      <td>1</td>\n",
              "      <td>0</td>\n",
              "      <td>0</td>\n",
              "      <td>0</td>\n",
              "    </tr>\n",
              "    <tr>\n",
              "      <th>2</th>\n",
              "      <td>3</td>\n",
              "      <td>39</td>\n",
              "      <td>15</td>\n",
              "      <td>11</td>\n",
              "      <td>94720</td>\n",
              "      <td>1</td>\n",
              "      <td>1.0</td>\n",
              "      <td>1</td>\n",
              "      <td>0</td>\n",
              "      <td>0</td>\n",
              "      <td>0</td>\n",
              "      <td>0</td>\n",
              "      <td>0</td>\n",
              "      <td>0</td>\n",
              "    </tr>\n",
              "    <tr>\n",
              "      <th>3</th>\n",
              "      <td>4</td>\n",
              "      <td>35</td>\n",
              "      <td>9</td>\n",
              "      <td>100</td>\n",
              "      <td>94112</td>\n",
              "      <td>1</td>\n",
              "      <td>2.7</td>\n",
              "      <td>2</td>\n",
              "      <td>0</td>\n",
              "      <td>0</td>\n",
              "      <td>0</td>\n",
              "      <td>0</td>\n",
              "      <td>0</td>\n",
              "      <td>0</td>\n",
              "    </tr>\n",
              "    <tr>\n",
              "      <th>4</th>\n",
              "      <td>5</td>\n",
              "      <td>35</td>\n",
              "      <td>8</td>\n",
              "      <td>45</td>\n",
              "      <td>91330</td>\n",
              "      <td>4</td>\n",
              "      <td>1.0</td>\n",
              "      <td>2</td>\n",
              "      <td>0</td>\n",
              "      <td>0</td>\n",
              "      <td>0</td>\n",
              "      <td>0</td>\n",
              "      <td>0</td>\n",
              "      <td>1</td>\n",
              "    </tr>\n",
              "    <tr>\n",
              "      <th>...</th>\n",
              "      <td>...</td>\n",
              "      <td>...</td>\n",
              "      <td>...</td>\n",
              "      <td>...</td>\n",
              "      <td>...</td>\n",
              "      <td>...</td>\n",
              "      <td>...</td>\n",
              "      <td>...</td>\n",
              "      <td>...</td>\n",
              "      <td>...</td>\n",
              "      <td>...</td>\n",
              "      <td>...</td>\n",
              "      <td>...</td>\n",
              "      <td>...</td>\n",
              "    </tr>\n",
              "    <tr>\n",
              "      <th>4995</th>\n",
              "      <td>4996</td>\n",
              "      <td>29</td>\n",
              "      <td>3</td>\n",
              "      <td>40</td>\n",
              "      <td>92697</td>\n",
              "      <td>1</td>\n",
              "      <td>1.9</td>\n",
              "      <td>3</td>\n",
              "      <td>0</td>\n",
              "      <td>0</td>\n",
              "      <td>0</td>\n",
              "      <td>0</td>\n",
              "      <td>1</td>\n",
              "      <td>0</td>\n",
              "    </tr>\n",
              "    <tr>\n",
              "      <th>4996</th>\n",
              "      <td>4997</td>\n",
              "      <td>30</td>\n",
              "      <td>4</td>\n",
              "      <td>15</td>\n",
              "      <td>92037</td>\n",
              "      <td>4</td>\n",
              "      <td>0.4</td>\n",
              "      <td>1</td>\n",
              "      <td>85</td>\n",
              "      <td>0</td>\n",
              "      <td>0</td>\n",
              "      <td>0</td>\n",
              "      <td>1</td>\n",
              "      <td>0</td>\n",
              "    </tr>\n",
              "    <tr>\n",
              "      <th>4997</th>\n",
              "      <td>4998</td>\n",
              "      <td>63</td>\n",
              "      <td>39</td>\n",
              "      <td>24</td>\n",
              "      <td>93023</td>\n",
              "      <td>2</td>\n",
              "      <td>0.3</td>\n",
              "      <td>3</td>\n",
              "      <td>0</td>\n",
              "      <td>0</td>\n",
              "      <td>0</td>\n",
              "      <td>0</td>\n",
              "      <td>0</td>\n",
              "      <td>0</td>\n",
              "    </tr>\n",
              "    <tr>\n",
              "      <th>4998</th>\n",
              "      <td>4999</td>\n",
              "      <td>65</td>\n",
              "      <td>40</td>\n",
              "      <td>49</td>\n",
              "      <td>90034</td>\n",
              "      <td>3</td>\n",
              "      <td>0.5</td>\n",
              "      <td>2</td>\n",
              "      <td>0</td>\n",
              "      <td>0</td>\n",
              "      <td>0</td>\n",
              "      <td>0</td>\n",
              "      <td>1</td>\n",
              "      <td>0</td>\n",
              "    </tr>\n",
              "    <tr>\n",
              "      <th>4999</th>\n",
              "      <td>5000</td>\n",
              "      <td>28</td>\n",
              "      <td>4</td>\n",
              "      <td>83</td>\n",
              "      <td>92612</td>\n",
              "      <td>3</td>\n",
              "      <td>0.8</td>\n",
              "      <td>1</td>\n",
              "      <td>0</td>\n",
              "      <td>0</td>\n",
              "      <td>0</td>\n",
              "      <td>0</td>\n",
              "      <td>1</td>\n",
              "      <td>1</td>\n",
              "    </tr>\n",
              "  </tbody>\n",
              "</table>\n",
              "<p>5000 rows × 14 columns</p>\n",
              "</div>"
            ],
            "text/plain": [
              "        ID  Age  Experience  Income  ZIPCode  Family  CCAvg  Education  \\\n",
              "0        1   25           1      49    91107       4    1.6          1   \n",
              "1        2   45          19      34    90089       3    1.5          1   \n",
              "2        3   39          15      11    94720       1    1.0          1   \n",
              "3        4   35           9     100    94112       1    2.7          2   \n",
              "4        5   35           8      45    91330       4    1.0          2   \n",
              "...    ...  ...         ...     ...      ...     ...    ...        ...   \n",
              "4995  4996   29           3      40    92697       1    1.9          3   \n",
              "4996  4997   30           4      15    92037       4    0.4          1   \n",
              "4997  4998   63          39      24    93023       2    0.3          3   \n",
              "4998  4999   65          40      49    90034       3    0.5          2   \n",
              "4999  5000   28           4      83    92612       3    0.8          1   \n",
              "\n",
              "      Mortgage  Personal_Loan  Securities_Account  CD_Account  Online  \\\n",
              "0            0              0                   1           0       0   \n",
              "1            0              0                   1           0       0   \n",
              "2            0              0                   0           0       0   \n",
              "3            0              0                   0           0       0   \n",
              "4            0              0                   0           0       0   \n",
              "...        ...            ...                 ...         ...     ...   \n",
              "4995         0              0                   0           0       1   \n",
              "4996        85              0                   0           0       1   \n",
              "4997         0              0                   0           0       0   \n",
              "4998         0              0                   0           0       1   \n",
              "4999         0              0                   0           0       1   \n",
              "\n",
              "      CreditCard  \n",
              "0              0  \n",
              "1              0  \n",
              "2              0  \n",
              "3              0  \n",
              "4              1  \n",
              "...          ...  \n",
              "4995           0  \n",
              "4996           0  \n",
              "4997           0  \n",
              "4998           0  \n",
              "4999           1  \n",
              "\n",
              "[5000 rows x 14 columns]"
            ]
          },
          "execution_count": 4,
          "metadata": {},
          "output_type": "execute_result"
        }
      ],
      "source": [
        "#create a copy of the dataset to avoid modifying the original data\n",
        "Loan_Copy_df = Loan_df.copy()\n",
        "Loan_Copy_df"
      ]
    },
    {
      "cell_type": "markdown",
      "metadata": {
        "id": "vUbDMkrLQb8U"
      },
      "source": [
        "## Data Overview"
      ]
    },
    {
      "cell_type": "markdown",
      "metadata": {
        "id": "yPQbY4cIQaK4"
      },
      "source": [
        "* Observations\n",
        "* Sanity checks"
      ]
    },
    {
      "cell_type": "markdown",
      "metadata": {},
      "source": [
        "I am doing the sanity checks first. Some of the things that I will do are \n",
        "1. Data Dimensions and Types\n",
        "2. Missing Values/Duplicated values or non-null values\n",
        "3. Constant or Near-Constant columns\n",
        "4. Outlier Inspections using plots. This can be done continuous numerical variables like Age, Experience, Income, CCAvg, Mortgage."
      ]
    },
    {
      "cell_type": "markdown",
      "metadata": {},
      "source": [
        "Showing the shape of the data set. \n",
        "From the results below the dataset has 5000 rows and 14 columns. A moderate-sized dataset which is large enough for training meaningful models without performance issues. "
      ]
    },
    {
      "cell_type": "code",
      "execution_count": 7,
      "metadata": {},
      "outputs": [
        {
          "name": "stdout",
          "output_type": "stream",
          "text": [
            "The dataset has 5000 rows and 14 columns.\n"
          ]
        }
      ],
      "source": [
        "#show the shape of the dataset\n",
        "Loan_Copy_df.shape\n",
        "print(f\"The dataset has {Loan_Copy_df.shape[0]} rows and {Loan_Copy_df.shape[1]} columns.\")"
      ]
    },
    {
      "cell_type": "code",
      "execution_count": 13,
      "metadata": {},
      "outputs": [
        {
          "data": {
            "application/vnd.microsoft.datawrangler.viewer.v0+json": {
              "columns": [
                {
                  "name": "index",
                  "rawType": "object",
                  "type": "string"
                },
                {
                  "name": "0",
                  "rawType": "object",
                  "type": "string"
                }
              ],
              "ref": "4945f622-3d91-40e5-bf06-d2bae6277b85",
              "rows": [
                [
                  "ID",
                  "int64"
                ],
                [
                  "Age",
                  "int64"
                ],
                [
                  "Experience",
                  "int64"
                ],
                [
                  "Income",
                  "int64"
                ],
                [
                  "ZIPCode",
                  "int64"
                ],
                [
                  "Family",
                  "int64"
                ],
                [
                  "CCAvg",
                  "float64"
                ],
                [
                  "Education",
                  "int64"
                ],
                [
                  "Mortgage",
                  "int64"
                ],
                [
                  "Personal_Loan",
                  "int64"
                ],
                [
                  "Securities_Account",
                  "int64"
                ],
                [
                  "CD_Account",
                  "int64"
                ],
                [
                  "Online",
                  "int64"
                ],
                [
                  "CreditCard",
                  "int64"
                ]
              ],
              "shape": {
                "columns": 1,
                "rows": 14
              }
            },
            "text/plain": [
              "ID                      int64\n",
              "Age                     int64\n",
              "Experience              int64\n",
              "Income                  int64\n",
              "ZIPCode                 int64\n",
              "Family                  int64\n",
              "CCAvg                 float64\n",
              "Education               int64\n",
              "Mortgage                int64\n",
              "Personal_Loan           int64\n",
              "Securities_Account      int64\n",
              "CD_Account              int64\n",
              "Online                  int64\n",
              "CreditCard              int64\n",
              "dtype: object"
            ]
          },
          "execution_count": 13,
          "metadata": {},
          "output_type": "execute_result"
        }
      ],
      "source": [
        "#display the data types of the columns\n",
        "Loan_Copy_df.dtypes"
      ]
    },
    {
      "cell_type": "code",
      "execution_count": 14,
      "metadata": {},
      "outputs": [
        {
          "name": "stdout",
          "output_type": "stream",
          "text": [
            "<class 'pandas.core.frame.DataFrame'>\n",
            "RangeIndex: 5000 entries, 0 to 4999\n",
            "Data columns (total 14 columns):\n",
            " #   Column              Non-Null Count  Dtype  \n",
            "---  ------              --------------  -----  \n",
            " 0   ID                  5000 non-null   int64  \n",
            " 1   Age                 5000 non-null   int64  \n",
            " 2   Experience          5000 non-null   int64  \n",
            " 3   Income              5000 non-null   int64  \n",
            " 4   ZIPCode             5000 non-null   int64  \n",
            " 5   Family              5000 non-null   int64  \n",
            " 6   CCAvg               5000 non-null   float64\n",
            " 7   Education           5000 non-null   int64  \n",
            " 8   Mortgage            5000 non-null   int64  \n",
            " 9   Personal_Loan       5000 non-null   int64  \n",
            " 10  Securities_Account  5000 non-null   int64  \n",
            " 11  CD_Account          5000 non-null   int64  \n",
            " 12  Online              5000 non-null   int64  \n",
            " 13  CreditCard          5000 non-null   int64  \n",
            "dtypes: float64(1), int64(13)\n",
            "memory usage: 547.0 KB\n"
          ]
        }
      ],
      "source": [
        "Loan_Copy_df.info()"
      ]
    },
    {
      "cell_type": "code",
      "execution_count": 10,
      "metadata": {
        "id": "EKrLdS4fZmpk"
      },
      "outputs": [
        {
          "data": {
            "application/vnd.microsoft.datawrangler.viewer.v0+json": {
              "columns": [
                {
                  "name": "index",
                  "rawType": "int64",
                  "type": "integer"
                },
                {
                  "name": "ID",
                  "rawType": "int64",
                  "type": "integer"
                },
                {
                  "name": "Age",
                  "rawType": "int64",
                  "type": "integer"
                },
                {
                  "name": "Experience",
                  "rawType": "int64",
                  "type": "integer"
                },
                {
                  "name": "Income",
                  "rawType": "int64",
                  "type": "integer"
                },
                {
                  "name": "ZIPCode",
                  "rawType": "int64",
                  "type": "integer"
                },
                {
                  "name": "Family",
                  "rawType": "int64",
                  "type": "integer"
                },
                {
                  "name": "CCAvg",
                  "rawType": "float64",
                  "type": "float"
                },
                {
                  "name": "Education",
                  "rawType": "int64",
                  "type": "integer"
                },
                {
                  "name": "Mortgage",
                  "rawType": "int64",
                  "type": "integer"
                },
                {
                  "name": "Personal_Loan",
                  "rawType": "int64",
                  "type": "integer"
                },
                {
                  "name": "Securities_Account",
                  "rawType": "int64",
                  "type": "integer"
                },
                {
                  "name": "CD_Account",
                  "rawType": "int64",
                  "type": "integer"
                },
                {
                  "name": "Online",
                  "rawType": "int64",
                  "type": "integer"
                },
                {
                  "name": "CreditCard",
                  "rawType": "int64",
                  "type": "integer"
                }
              ],
              "ref": "5cb6ace5-191d-4283-ae16-14b79b87374c",
              "rows": [
                [
                  "0",
                  "1",
                  "25",
                  "1",
                  "49",
                  "91107",
                  "4",
                  "1.6",
                  "1",
                  "0",
                  "0",
                  "1",
                  "0",
                  "0",
                  "0"
                ],
                [
                  "1",
                  "2",
                  "45",
                  "19",
                  "34",
                  "90089",
                  "3",
                  "1.5",
                  "1",
                  "0",
                  "0",
                  "1",
                  "0",
                  "0",
                  "0"
                ],
                [
                  "2",
                  "3",
                  "39",
                  "15",
                  "11",
                  "94720",
                  "1",
                  "1.0",
                  "1",
                  "0",
                  "0",
                  "0",
                  "0",
                  "0",
                  "0"
                ],
                [
                  "3",
                  "4",
                  "35",
                  "9",
                  "100",
                  "94112",
                  "1",
                  "2.7",
                  "2",
                  "0",
                  "0",
                  "0",
                  "0",
                  "0",
                  "0"
                ],
                [
                  "4",
                  "5",
                  "35",
                  "8",
                  "45",
                  "91330",
                  "4",
                  "1.0",
                  "2",
                  "0",
                  "0",
                  "0",
                  "0",
                  "0",
                  "1"
                ]
              ],
              "shape": {
                "columns": 14,
                "rows": 5
              }
            },
            "text/html": [
              "<div>\n",
              "<style scoped>\n",
              "    .dataframe tbody tr th:only-of-type {\n",
              "        vertical-align: middle;\n",
              "    }\n",
              "\n",
              "    .dataframe tbody tr th {\n",
              "        vertical-align: top;\n",
              "    }\n",
              "\n",
              "    .dataframe thead th {\n",
              "        text-align: right;\n",
              "    }\n",
              "</style>\n",
              "<table border=\"1\" class=\"dataframe\">\n",
              "  <thead>\n",
              "    <tr style=\"text-align: right;\">\n",
              "      <th></th>\n",
              "      <th>ID</th>\n",
              "      <th>Age</th>\n",
              "      <th>Experience</th>\n",
              "      <th>Income</th>\n",
              "      <th>ZIPCode</th>\n",
              "      <th>Family</th>\n",
              "      <th>CCAvg</th>\n",
              "      <th>Education</th>\n",
              "      <th>Mortgage</th>\n",
              "      <th>Personal_Loan</th>\n",
              "      <th>Securities_Account</th>\n",
              "      <th>CD_Account</th>\n",
              "      <th>Online</th>\n",
              "      <th>CreditCard</th>\n",
              "    </tr>\n",
              "  </thead>\n",
              "  <tbody>\n",
              "    <tr>\n",
              "      <th>0</th>\n",
              "      <td>1</td>\n",
              "      <td>25</td>\n",
              "      <td>1</td>\n",
              "      <td>49</td>\n",
              "      <td>91107</td>\n",
              "      <td>4</td>\n",
              "      <td>1.6</td>\n",
              "      <td>1</td>\n",
              "      <td>0</td>\n",
              "      <td>0</td>\n",
              "      <td>1</td>\n",
              "      <td>0</td>\n",
              "      <td>0</td>\n",
              "      <td>0</td>\n",
              "    </tr>\n",
              "    <tr>\n",
              "      <th>1</th>\n",
              "      <td>2</td>\n",
              "      <td>45</td>\n",
              "      <td>19</td>\n",
              "      <td>34</td>\n",
              "      <td>90089</td>\n",
              "      <td>3</td>\n",
              "      <td>1.5</td>\n",
              "      <td>1</td>\n",
              "      <td>0</td>\n",
              "      <td>0</td>\n",
              "      <td>1</td>\n",
              "      <td>0</td>\n",
              "      <td>0</td>\n",
              "      <td>0</td>\n",
              "    </tr>\n",
              "    <tr>\n",
              "      <th>2</th>\n",
              "      <td>3</td>\n",
              "      <td>39</td>\n",
              "      <td>15</td>\n",
              "      <td>11</td>\n",
              "      <td>94720</td>\n",
              "      <td>1</td>\n",
              "      <td>1.0</td>\n",
              "      <td>1</td>\n",
              "      <td>0</td>\n",
              "      <td>0</td>\n",
              "      <td>0</td>\n",
              "      <td>0</td>\n",
              "      <td>0</td>\n",
              "      <td>0</td>\n",
              "    </tr>\n",
              "    <tr>\n",
              "      <th>3</th>\n",
              "      <td>4</td>\n",
              "      <td>35</td>\n",
              "      <td>9</td>\n",
              "      <td>100</td>\n",
              "      <td>94112</td>\n",
              "      <td>1</td>\n",
              "      <td>2.7</td>\n",
              "      <td>2</td>\n",
              "      <td>0</td>\n",
              "      <td>0</td>\n",
              "      <td>0</td>\n",
              "      <td>0</td>\n",
              "      <td>0</td>\n",
              "      <td>0</td>\n",
              "    </tr>\n",
              "    <tr>\n",
              "      <th>4</th>\n",
              "      <td>5</td>\n",
              "      <td>35</td>\n",
              "      <td>8</td>\n",
              "      <td>45</td>\n",
              "      <td>91330</td>\n",
              "      <td>4</td>\n",
              "      <td>1.0</td>\n",
              "      <td>2</td>\n",
              "      <td>0</td>\n",
              "      <td>0</td>\n",
              "      <td>0</td>\n",
              "      <td>0</td>\n",
              "      <td>0</td>\n",
              "      <td>1</td>\n",
              "    </tr>\n",
              "  </tbody>\n",
              "</table>\n",
              "</div>"
            ],
            "text/plain": [
              "   ID  Age  Experience  Income  ZIPCode  Family  CCAvg  Education  Mortgage  \\\n",
              "0   1   25           1      49    91107       4    1.6          1         0   \n",
              "1   2   45          19      34    90089       3    1.5          1         0   \n",
              "2   3   39          15      11    94720       1    1.0          1         0   \n",
              "3   4   35           9     100    94112       1    2.7          2         0   \n",
              "4   5   35           8      45    91330       4    1.0          2         0   \n",
              "\n",
              "   Personal_Loan  Securities_Account  CD_Account  Online  CreditCard  \n",
              "0              0                   1           0       0           0  \n",
              "1              0                   1           0       0           0  \n",
              "2              0                   0           0       0           0  \n",
              "3              0                   0           0       0           0  \n",
              "4              0                   0           0       0           1  "
            ]
          },
          "execution_count": 10,
          "metadata": {},
          "output_type": "execute_result"
        }
      ],
      "source": [
        "#Show the first few rows of the dataset\n",
        "Loan_Copy_df.head()"
      ]
    },
    {
      "cell_type": "code",
      "execution_count": 11,
      "metadata": {},
      "outputs": [
        {
          "data": {
            "application/vnd.microsoft.datawrangler.viewer.v0+json": {
              "columns": [
                {
                  "name": "index",
                  "rawType": "int64",
                  "type": "integer"
                },
                {
                  "name": "ID",
                  "rawType": "int64",
                  "type": "integer"
                },
                {
                  "name": "Age",
                  "rawType": "int64",
                  "type": "integer"
                },
                {
                  "name": "Experience",
                  "rawType": "int64",
                  "type": "integer"
                },
                {
                  "name": "Income",
                  "rawType": "int64",
                  "type": "integer"
                },
                {
                  "name": "ZIPCode",
                  "rawType": "int64",
                  "type": "integer"
                },
                {
                  "name": "Family",
                  "rawType": "int64",
                  "type": "integer"
                },
                {
                  "name": "CCAvg",
                  "rawType": "float64",
                  "type": "float"
                },
                {
                  "name": "Education",
                  "rawType": "int64",
                  "type": "integer"
                },
                {
                  "name": "Mortgage",
                  "rawType": "int64",
                  "type": "integer"
                },
                {
                  "name": "Personal_Loan",
                  "rawType": "int64",
                  "type": "integer"
                },
                {
                  "name": "Securities_Account",
                  "rawType": "int64",
                  "type": "integer"
                },
                {
                  "name": "CD_Account",
                  "rawType": "int64",
                  "type": "integer"
                },
                {
                  "name": "Online",
                  "rawType": "int64",
                  "type": "integer"
                },
                {
                  "name": "CreditCard",
                  "rawType": "int64",
                  "type": "integer"
                }
              ],
              "ref": "080fce58-1b0e-493b-90cf-13f4a0b957c1",
              "rows": [
                [
                  "4995",
                  "4996",
                  "29",
                  "3",
                  "40",
                  "92697",
                  "1",
                  "1.9",
                  "3",
                  "0",
                  "0",
                  "0",
                  "0",
                  "1",
                  "0"
                ],
                [
                  "4996",
                  "4997",
                  "30",
                  "4",
                  "15",
                  "92037",
                  "4",
                  "0.4",
                  "1",
                  "85",
                  "0",
                  "0",
                  "0",
                  "1",
                  "0"
                ],
                [
                  "4997",
                  "4998",
                  "63",
                  "39",
                  "24",
                  "93023",
                  "2",
                  "0.3",
                  "3",
                  "0",
                  "0",
                  "0",
                  "0",
                  "0",
                  "0"
                ],
                [
                  "4998",
                  "4999",
                  "65",
                  "40",
                  "49",
                  "90034",
                  "3",
                  "0.5",
                  "2",
                  "0",
                  "0",
                  "0",
                  "0",
                  "1",
                  "0"
                ],
                [
                  "4999",
                  "5000",
                  "28",
                  "4",
                  "83",
                  "92612",
                  "3",
                  "0.8",
                  "1",
                  "0",
                  "0",
                  "0",
                  "0",
                  "1",
                  "1"
                ]
              ],
              "shape": {
                "columns": 14,
                "rows": 5
              }
            },
            "text/html": [
              "<div>\n",
              "<style scoped>\n",
              "    .dataframe tbody tr th:only-of-type {\n",
              "        vertical-align: middle;\n",
              "    }\n",
              "\n",
              "    .dataframe tbody tr th {\n",
              "        vertical-align: top;\n",
              "    }\n",
              "\n",
              "    .dataframe thead th {\n",
              "        text-align: right;\n",
              "    }\n",
              "</style>\n",
              "<table border=\"1\" class=\"dataframe\">\n",
              "  <thead>\n",
              "    <tr style=\"text-align: right;\">\n",
              "      <th></th>\n",
              "      <th>ID</th>\n",
              "      <th>Age</th>\n",
              "      <th>Experience</th>\n",
              "      <th>Income</th>\n",
              "      <th>ZIPCode</th>\n",
              "      <th>Family</th>\n",
              "      <th>CCAvg</th>\n",
              "      <th>Education</th>\n",
              "      <th>Mortgage</th>\n",
              "      <th>Personal_Loan</th>\n",
              "      <th>Securities_Account</th>\n",
              "      <th>CD_Account</th>\n",
              "      <th>Online</th>\n",
              "      <th>CreditCard</th>\n",
              "    </tr>\n",
              "  </thead>\n",
              "  <tbody>\n",
              "    <tr>\n",
              "      <th>4995</th>\n",
              "      <td>4996</td>\n",
              "      <td>29</td>\n",
              "      <td>3</td>\n",
              "      <td>40</td>\n",
              "      <td>92697</td>\n",
              "      <td>1</td>\n",
              "      <td>1.9</td>\n",
              "      <td>3</td>\n",
              "      <td>0</td>\n",
              "      <td>0</td>\n",
              "      <td>0</td>\n",
              "      <td>0</td>\n",
              "      <td>1</td>\n",
              "      <td>0</td>\n",
              "    </tr>\n",
              "    <tr>\n",
              "      <th>4996</th>\n",
              "      <td>4997</td>\n",
              "      <td>30</td>\n",
              "      <td>4</td>\n",
              "      <td>15</td>\n",
              "      <td>92037</td>\n",
              "      <td>4</td>\n",
              "      <td>0.4</td>\n",
              "      <td>1</td>\n",
              "      <td>85</td>\n",
              "      <td>0</td>\n",
              "      <td>0</td>\n",
              "      <td>0</td>\n",
              "      <td>1</td>\n",
              "      <td>0</td>\n",
              "    </tr>\n",
              "    <tr>\n",
              "      <th>4997</th>\n",
              "      <td>4998</td>\n",
              "      <td>63</td>\n",
              "      <td>39</td>\n",
              "      <td>24</td>\n",
              "      <td>93023</td>\n",
              "      <td>2</td>\n",
              "      <td>0.3</td>\n",
              "      <td>3</td>\n",
              "      <td>0</td>\n",
              "      <td>0</td>\n",
              "      <td>0</td>\n",
              "      <td>0</td>\n",
              "      <td>0</td>\n",
              "      <td>0</td>\n",
              "    </tr>\n",
              "    <tr>\n",
              "      <th>4998</th>\n",
              "      <td>4999</td>\n",
              "      <td>65</td>\n",
              "      <td>40</td>\n",
              "      <td>49</td>\n",
              "      <td>90034</td>\n",
              "      <td>3</td>\n",
              "      <td>0.5</td>\n",
              "      <td>2</td>\n",
              "      <td>0</td>\n",
              "      <td>0</td>\n",
              "      <td>0</td>\n",
              "      <td>0</td>\n",
              "      <td>1</td>\n",
              "      <td>0</td>\n",
              "    </tr>\n",
              "    <tr>\n",
              "      <th>4999</th>\n",
              "      <td>5000</td>\n",
              "      <td>28</td>\n",
              "      <td>4</td>\n",
              "      <td>83</td>\n",
              "      <td>92612</td>\n",
              "      <td>3</td>\n",
              "      <td>0.8</td>\n",
              "      <td>1</td>\n",
              "      <td>0</td>\n",
              "      <td>0</td>\n",
              "      <td>0</td>\n",
              "      <td>0</td>\n",
              "      <td>1</td>\n",
              "      <td>1</td>\n",
              "    </tr>\n",
              "  </tbody>\n",
              "</table>\n",
              "</div>"
            ],
            "text/plain": [
              "        ID  Age  Experience  Income  ZIPCode  Family  CCAvg  Education  \\\n",
              "4995  4996   29           3      40    92697       1    1.9          3   \n",
              "4996  4997   30           4      15    92037       4    0.4          1   \n",
              "4997  4998   63          39      24    93023       2    0.3          3   \n",
              "4998  4999   65          40      49    90034       3    0.5          2   \n",
              "4999  5000   28           4      83    92612       3    0.8          1   \n",
              "\n",
              "      Mortgage  Personal_Loan  Securities_Account  CD_Account  Online  \\\n",
              "4995         0              0                   0           0       1   \n",
              "4996        85              0                   0           0       1   \n",
              "4997         0              0                   0           0       0   \n",
              "4998         0              0                   0           0       1   \n",
              "4999         0              0                   0           0       1   \n",
              "\n",
              "      CreditCard  \n",
              "4995           0  \n",
              "4996           0  \n",
              "4997           0  \n",
              "4998           0  \n",
              "4999           1  "
            ]
          },
          "execution_count": 11,
          "metadata": {},
          "output_type": "execute_result"
        }
      ],
      "source": [
        "#show the last few rows of the dataset\n",
        "Loan_Copy_df.tail()"
      ]
    },
    {
      "cell_type": "code",
      "execution_count": 15,
      "metadata": {},
      "outputs": [
        {
          "data": {
            "application/vnd.microsoft.datawrangler.viewer.v0+json": {
              "columns": [
                {
                  "name": "index",
                  "rawType": "object",
                  "type": "string"
                },
                {
                  "name": "0",
                  "rawType": "int64",
                  "type": "integer"
                }
              ],
              "ref": "82c6520d-927c-4842-b17d-b58066897f7a",
              "rows": [
                [
                  "ID",
                  "0"
                ],
                [
                  "Age",
                  "0"
                ],
                [
                  "Experience",
                  "0"
                ],
                [
                  "Income",
                  "0"
                ],
                [
                  "ZIPCode",
                  "0"
                ],
                [
                  "Family",
                  "0"
                ],
                [
                  "CCAvg",
                  "0"
                ],
                [
                  "Education",
                  "0"
                ],
                [
                  "Mortgage",
                  "0"
                ],
                [
                  "Personal_Loan",
                  "0"
                ],
                [
                  "Securities_Account",
                  "0"
                ],
                [
                  "CD_Account",
                  "0"
                ],
                [
                  "Online",
                  "0"
                ],
                [
                  "CreditCard",
                  "0"
                ]
              ],
              "shape": {
                "columns": 1,
                "rows": 14
              }
            },
            "text/plain": [
              "ID                    0\n",
              "Age                   0\n",
              "Experience            0\n",
              "Income                0\n",
              "ZIPCode               0\n",
              "Family                0\n",
              "CCAvg                 0\n",
              "Education             0\n",
              "Mortgage              0\n",
              "Personal_Loan         0\n",
              "Securities_Account    0\n",
              "CD_Account            0\n",
              "Online                0\n",
              "CreditCard            0\n",
              "dtype: int64"
            ]
          },
          "execution_count": 15,
          "metadata": {},
          "output_type": "execute_result"
        }
      ],
      "source": [
        "# Check for missing values in Loan_Copy_df (not the original)\n",
        "Loan_Copy_df.isnull().sum()"
      ]
    },
    {
      "cell_type": "code",
      "execution_count": 17,
      "metadata": {},
      "outputs": [
        {
          "name": "stdout",
          "output_type": "stream",
          "text": [
            "The dataset has no duplicate rows.\n"
          ]
        }
      ],
      "source": [
        "duplicate_Count = Loan_Copy_df.duplicated().sum()\n",
        "if duplicate_Count > 0:\n",
        "    print(\"The dataset has\", duplicate_Count, \"duplicate rows.\")\n",
        "else:\n",
        "    print(\"The dataset has no duplicate rows.\")"
      ]
    },
    {
      "cell_type": "code",
      "execution_count": 28,
      "metadata": {},
      "outputs": [
        {
          "name": "stdout",
          "output_type": "stream",
          "text": [
            "\n",
            "Unique Values in Each Column:\n"
          ]
        },
        {
          "data": {
            "application/vnd.microsoft.datawrangler.viewer.v0+json": {
              "columns": [
                {
                  "name": "index",
                  "rawType": "int64",
                  "type": "integer"
                },
                {
                  "name": "Column",
                  "rawType": "object",
                  "type": "string"
                },
                {
                  "name": "Unique Values",
                  "rawType": "int64",
                  "type": "integer"
                }
              ],
              "ref": "c55ee671-eab6-4ddf-9b82-02c56b5315d3",
              "rows": [
                [
                  "0",
                  "ID",
                  "5000"
                ],
                [
                  "1",
                  "Age",
                  "45"
                ],
                [
                  "2",
                  "Experience",
                  "47"
                ],
                [
                  "3",
                  "Income",
                  "162"
                ],
                [
                  "4",
                  "ZIPCode",
                  "467"
                ],
                [
                  "5",
                  "Family",
                  "4"
                ],
                [
                  "6",
                  "CCAvg",
                  "108"
                ],
                [
                  "7",
                  "Education",
                  "3"
                ],
                [
                  "8",
                  "Mortgage",
                  "347"
                ],
                [
                  "9",
                  "Personal_Loan",
                  "2"
                ],
                [
                  "10",
                  "Securities_Account",
                  "2"
                ],
                [
                  "11",
                  "CD_Account",
                  "2"
                ],
                [
                  "12",
                  "Online",
                  "2"
                ],
                [
                  "13",
                  "CreditCard",
                  "2"
                ]
              ],
              "shape": {
                "columns": 2,
                "rows": 14
              }
            },
            "text/html": [
              "<div>\n",
              "<style scoped>\n",
              "    .dataframe tbody tr th:only-of-type {\n",
              "        vertical-align: middle;\n",
              "    }\n",
              "\n",
              "    .dataframe tbody tr th {\n",
              "        vertical-align: top;\n",
              "    }\n",
              "\n",
              "    .dataframe thead th {\n",
              "        text-align: right;\n",
              "    }\n",
              "</style>\n",
              "<table border=\"1\" class=\"dataframe\">\n",
              "  <thead>\n",
              "    <tr style=\"text-align: right;\">\n",
              "      <th></th>\n",
              "      <th>Column</th>\n",
              "      <th>Unique Values</th>\n",
              "    </tr>\n",
              "  </thead>\n",
              "  <tbody>\n",
              "    <tr>\n",
              "      <th>0</th>\n",
              "      <td>ID</td>\n",
              "      <td>5000</td>\n",
              "    </tr>\n",
              "    <tr>\n",
              "      <th>1</th>\n",
              "      <td>Age</td>\n",
              "      <td>45</td>\n",
              "    </tr>\n",
              "    <tr>\n",
              "      <th>2</th>\n",
              "      <td>Experience</td>\n",
              "      <td>47</td>\n",
              "    </tr>\n",
              "    <tr>\n",
              "      <th>3</th>\n",
              "      <td>Income</td>\n",
              "      <td>162</td>\n",
              "    </tr>\n",
              "    <tr>\n",
              "      <th>4</th>\n",
              "      <td>ZIPCode</td>\n",
              "      <td>467</td>\n",
              "    </tr>\n",
              "    <tr>\n",
              "      <th>5</th>\n",
              "      <td>Family</td>\n",
              "      <td>4</td>\n",
              "    </tr>\n",
              "    <tr>\n",
              "      <th>6</th>\n",
              "      <td>CCAvg</td>\n",
              "      <td>108</td>\n",
              "    </tr>\n",
              "    <tr>\n",
              "      <th>7</th>\n",
              "      <td>Education</td>\n",
              "      <td>3</td>\n",
              "    </tr>\n",
              "    <tr>\n",
              "      <th>8</th>\n",
              "      <td>Mortgage</td>\n",
              "      <td>347</td>\n",
              "    </tr>\n",
              "    <tr>\n",
              "      <th>9</th>\n",
              "      <td>Personal_Loan</td>\n",
              "      <td>2</td>\n",
              "    </tr>\n",
              "    <tr>\n",
              "      <th>10</th>\n",
              "      <td>Securities_Account</td>\n",
              "      <td>2</td>\n",
              "    </tr>\n",
              "    <tr>\n",
              "      <th>11</th>\n",
              "      <td>CD_Account</td>\n",
              "      <td>2</td>\n",
              "    </tr>\n",
              "    <tr>\n",
              "      <th>12</th>\n",
              "      <td>Online</td>\n",
              "      <td>2</td>\n",
              "    </tr>\n",
              "    <tr>\n",
              "      <th>13</th>\n",
              "      <td>CreditCard</td>\n",
              "      <td>2</td>\n",
              "    </tr>\n",
              "  </tbody>\n",
              "</table>\n",
              "</div>"
            ],
            "text/plain": [
              "                Column  Unique Values\n",
              "0                   ID           5000\n",
              "1                  Age             45\n",
              "2           Experience             47\n",
              "3               Income            162\n",
              "4              ZIPCode            467\n",
              "5               Family              4\n",
              "6                CCAvg            108\n",
              "7            Education              3\n",
              "8             Mortgage            347\n",
              "9        Personal_Loan              2\n",
              "10  Securities_Account              2\n",
              "11          CD_Account              2\n",
              "12              Online              2\n",
              "13          CreditCard              2"
            ]
          },
          "execution_count": 28,
          "metadata": {},
          "output_type": "execute_result"
        }
      ],
      "source": [
        "# Compute unique value counts\n",
        "unique_values = Loan_Copy_df.nunique().reset_index()\n",
        "unique_values.columns = ['Column', 'Unique Values']\n",
        "\n",
        "# Display as a formatted table\n",
        "print(\"\\nUnique Values in Each Column:\")\n",
        "unique_values"
      ]
    },
    {
      "cell_type": "code",
      "execution_count": 22,
      "metadata": {},
      "outputs": [
        {
          "data": {
            "application/vnd.microsoft.datawrangler.viewer.v0+json": {
              "columns": [
                {
                  "name": "index",
                  "rawType": "object",
                  "type": "string"
                },
                {
                  "name": "ID",
                  "rawType": "float64",
                  "type": "float"
                },
                {
                  "name": "Age",
                  "rawType": "float64",
                  "type": "float"
                },
                {
                  "name": "Experience",
                  "rawType": "float64",
                  "type": "float"
                },
                {
                  "name": "Income",
                  "rawType": "float64",
                  "type": "float"
                },
                {
                  "name": "ZIPCode",
                  "rawType": "float64",
                  "type": "float"
                },
                {
                  "name": "Family",
                  "rawType": "float64",
                  "type": "float"
                },
                {
                  "name": "CCAvg",
                  "rawType": "float64",
                  "type": "float"
                },
                {
                  "name": "Education",
                  "rawType": "float64",
                  "type": "float"
                },
                {
                  "name": "Mortgage",
                  "rawType": "float64",
                  "type": "float"
                },
                {
                  "name": "Personal_Loan",
                  "rawType": "float64",
                  "type": "float"
                },
                {
                  "name": "Securities_Account",
                  "rawType": "float64",
                  "type": "float"
                },
                {
                  "name": "CD_Account",
                  "rawType": "float64",
                  "type": "float"
                },
                {
                  "name": "Online",
                  "rawType": "float64",
                  "type": "float"
                },
                {
                  "name": "CreditCard",
                  "rawType": "float64",
                  "type": "float"
                }
              ],
              "ref": "5d081fc5-24d5-477e-a619-2285f328d522",
              "rows": [
                [
                  "count",
                  "5000.0",
                  "5000.0",
                  "5000.0",
                  "5000.0",
                  "5000.0",
                  "5000.0",
                  "5000.0",
                  "5000.0",
                  "5000.0",
                  "5000.0",
                  "5000.0",
                  "5000.0",
                  "5000.0",
                  "5000.0"
                ],
                [
                  "mean",
                  "2500.5",
                  "45.3384",
                  "20.1046",
                  "73.7742",
                  "93169.257",
                  "2.3964",
                  "1.9379380000000002",
                  "1.881",
                  "56.4988",
                  "0.096",
                  "0.1044",
                  "0.0604",
                  "0.5968",
                  "0.294"
                ],
                [
                  "std",
                  "1443.5200033252052",
                  "11.463165630542667",
                  "11.467953681120553",
                  "46.03372932108631",
                  "1759.4550864944745",
                  "1.1476630455378525",
                  "1.7476589800467675",
                  "0.8398690826641989",
                  "101.71380210211204",
                  "0.29462070577618",
                  "0.3058093260003261",
                  "0.23825027311322797",
                  "0.490589334962671",
                  "0.45563748869492815"
                ],
                [
                  "min",
                  "1.0",
                  "23.0",
                  "-3.0",
                  "8.0",
                  "90005.0",
                  "1.0",
                  "0.0",
                  "1.0",
                  "0.0",
                  "0.0",
                  "0.0",
                  "0.0",
                  "0.0",
                  "0.0"
                ],
                [
                  "25%",
                  "1250.75",
                  "35.0",
                  "10.0",
                  "39.0",
                  "91911.0",
                  "1.0",
                  "0.7",
                  "1.0",
                  "0.0",
                  "0.0",
                  "0.0",
                  "0.0",
                  "0.0",
                  "0.0"
                ],
                [
                  "50%",
                  "2500.5",
                  "45.0",
                  "20.0",
                  "64.0",
                  "93437.0",
                  "2.0",
                  "1.5",
                  "2.0",
                  "0.0",
                  "0.0",
                  "0.0",
                  "0.0",
                  "1.0",
                  "0.0"
                ],
                [
                  "75%",
                  "3750.25",
                  "55.0",
                  "30.0",
                  "98.0",
                  "94608.0",
                  "3.0",
                  "2.5",
                  "3.0",
                  "101.0",
                  "0.0",
                  "0.0",
                  "0.0",
                  "1.0",
                  "1.0"
                ],
                [
                  "max",
                  "5000.0",
                  "67.0",
                  "43.0",
                  "224.0",
                  "96651.0",
                  "4.0",
                  "10.0",
                  "3.0",
                  "635.0",
                  "1.0",
                  "1.0",
                  "1.0",
                  "1.0",
                  "1.0"
                ]
              ],
              "shape": {
                "columns": 14,
                "rows": 8
              }
            },
            "text/html": [
              "<div>\n",
              "<style scoped>\n",
              "    .dataframe tbody tr th:only-of-type {\n",
              "        vertical-align: middle;\n",
              "    }\n",
              "\n",
              "    .dataframe tbody tr th {\n",
              "        vertical-align: top;\n",
              "    }\n",
              "\n",
              "    .dataframe thead th {\n",
              "        text-align: right;\n",
              "    }\n",
              "</style>\n",
              "<table border=\"1\" class=\"dataframe\">\n",
              "  <thead>\n",
              "    <tr style=\"text-align: right;\">\n",
              "      <th></th>\n",
              "      <th>ID</th>\n",
              "      <th>Age</th>\n",
              "      <th>Experience</th>\n",
              "      <th>Income</th>\n",
              "      <th>ZIPCode</th>\n",
              "      <th>Family</th>\n",
              "      <th>CCAvg</th>\n",
              "      <th>Education</th>\n",
              "      <th>Mortgage</th>\n",
              "      <th>Personal_Loan</th>\n",
              "      <th>Securities_Account</th>\n",
              "      <th>CD_Account</th>\n",
              "      <th>Online</th>\n",
              "      <th>CreditCard</th>\n",
              "    </tr>\n",
              "  </thead>\n",
              "  <tbody>\n",
              "    <tr>\n",
              "      <th>count</th>\n",
              "      <td>5000.000000</td>\n",
              "      <td>5000.000000</td>\n",
              "      <td>5000.000000</td>\n",
              "      <td>5000.000000</td>\n",
              "      <td>5000.000000</td>\n",
              "      <td>5000.000000</td>\n",
              "      <td>5000.000000</td>\n",
              "      <td>5000.000000</td>\n",
              "      <td>5000.000000</td>\n",
              "      <td>5000.000000</td>\n",
              "      <td>5000.000000</td>\n",
              "      <td>5000.00000</td>\n",
              "      <td>5000.000000</td>\n",
              "      <td>5000.000000</td>\n",
              "    </tr>\n",
              "    <tr>\n",
              "      <th>mean</th>\n",
              "      <td>2500.500000</td>\n",
              "      <td>45.338400</td>\n",
              "      <td>20.104600</td>\n",
              "      <td>73.774200</td>\n",
              "      <td>93169.257000</td>\n",
              "      <td>2.396400</td>\n",
              "      <td>1.937938</td>\n",
              "      <td>1.881000</td>\n",
              "      <td>56.498800</td>\n",
              "      <td>0.096000</td>\n",
              "      <td>0.104400</td>\n",
              "      <td>0.06040</td>\n",
              "      <td>0.596800</td>\n",
              "      <td>0.294000</td>\n",
              "    </tr>\n",
              "    <tr>\n",
              "      <th>std</th>\n",
              "      <td>1443.520003</td>\n",
              "      <td>11.463166</td>\n",
              "      <td>11.467954</td>\n",
              "      <td>46.033729</td>\n",
              "      <td>1759.455086</td>\n",
              "      <td>1.147663</td>\n",
              "      <td>1.747659</td>\n",
              "      <td>0.839869</td>\n",
              "      <td>101.713802</td>\n",
              "      <td>0.294621</td>\n",
              "      <td>0.305809</td>\n",
              "      <td>0.23825</td>\n",
              "      <td>0.490589</td>\n",
              "      <td>0.455637</td>\n",
              "    </tr>\n",
              "    <tr>\n",
              "      <th>min</th>\n",
              "      <td>1.000000</td>\n",
              "      <td>23.000000</td>\n",
              "      <td>-3.000000</td>\n",
              "      <td>8.000000</td>\n",
              "      <td>90005.000000</td>\n",
              "      <td>1.000000</td>\n",
              "      <td>0.000000</td>\n",
              "      <td>1.000000</td>\n",
              "      <td>0.000000</td>\n",
              "      <td>0.000000</td>\n",
              "      <td>0.000000</td>\n",
              "      <td>0.00000</td>\n",
              "      <td>0.000000</td>\n",
              "      <td>0.000000</td>\n",
              "    </tr>\n",
              "    <tr>\n",
              "      <th>25%</th>\n",
              "      <td>1250.750000</td>\n",
              "      <td>35.000000</td>\n",
              "      <td>10.000000</td>\n",
              "      <td>39.000000</td>\n",
              "      <td>91911.000000</td>\n",
              "      <td>1.000000</td>\n",
              "      <td>0.700000</td>\n",
              "      <td>1.000000</td>\n",
              "      <td>0.000000</td>\n",
              "      <td>0.000000</td>\n",
              "      <td>0.000000</td>\n",
              "      <td>0.00000</td>\n",
              "      <td>0.000000</td>\n",
              "      <td>0.000000</td>\n",
              "    </tr>\n",
              "    <tr>\n",
              "      <th>50%</th>\n",
              "      <td>2500.500000</td>\n",
              "      <td>45.000000</td>\n",
              "      <td>20.000000</td>\n",
              "      <td>64.000000</td>\n",
              "      <td>93437.000000</td>\n",
              "      <td>2.000000</td>\n",
              "      <td>1.500000</td>\n",
              "      <td>2.000000</td>\n",
              "      <td>0.000000</td>\n",
              "      <td>0.000000</td>\n",
              "      <td>0.000000</td>\n",
              "      <td>0.00000</td>\n",
              "      <td>1.000000</td>\n",
              "      <td>0.000000</td>\n",
              "    </tr>\n",
              "    <tr>\n",
              "      <th>75%</th>\n",
              "      <td>3750.250000</td>\n",
              "      <td>55.000000</td>\n",
              "      <td>30.000000</td>\n",
              "      <td>98.000000</td>\n",
              "      <td>94608.000000</td>\n",
              "      <td>3.000000</td>\n",
              "      <td>2.500000</td>\n",
              "      <td>3.000000</td>\n",
              "      <td>101.000000</td>\n",
              "      <td>0.000000</td>\n",
              "      <td>0.000000</td>\n",
              "      <td>0.00000</td>\n",
              "      <td>1.000000</td>\n",
              "      <td>1.000000</td>\n",
              "    </tr>\n",
              "    <tr>\n",
              "      <th>max</th>\n",
              "      <td>5000.000000</td>\n",
              "      <td>67.000000</td>\n",
              "      <td>43.000000</td>\n",
              "      <td>224.000000</td>\n",
              "      <td>96651.000000</td>\n",
              "      <td>4.000000</td>\n",
              "      <td>10.000000</td>\n",
              "      <td>3.000000</td>\n",
              "      <td>635.000000</td>\n",
              "      <td>1.000000</td>\n",
              "      <td>1.000000</td>\n",
              "      <td>1.00000</td>\n",
              "      <td>1.000000</td>\n",
              "      <td>1.000000</td>\n",
              "    </tr>\n",
              "  </tbody>\n",
              "</table>\n",
              "</div>"
            ],
            "text/plain": [
              "                ID          Age   Experience       Income       ZIPCode  \\\n",
              "count  5000.000000  5000.000000  5000.000000  5000.000000   5000.000000   \n",
              "mean   2500.500000    45.338400    20.104600    73.774200  93169.257000   \n",
              "std    1443.520003    11.463166    11.467954    46.033729   1759.455086   \n",
              "min       1.000000    23.000000    -3.000000     8.000000  90005.000000   \n",
              "25%    1250.750000    35.000000    10.000000    39.000000  91911.000000   \n",
              "50%    2500.500000    45.000000    20.000000    64.000000  93437.000000   \n",
              "75%    3750.250000    55.000000    30.000000    98.000000  94608.000000   \n",
              "max    5000.000000    67.000000    43.000000   224.000000  96651.000000   \n",
              "\n",
              "            Family        CCAvg    Education     Mortgage  Personal_Loan  \\\n",
              "count  5000.000000  5000.000000  5000.000000  5000.000000    5000.000000   \n",
              "mean      2.396400     1.937938     1.881000    56.498800       0.096000   \n",
              "std       1.147663     1.747659     0.839869   101.713802       0.294621   \n",
              "min       1.000000     0.000000     1.000000     0.000000       0.000000   \n",
              "25%       1.000000     0.700000     1.000000     0.000000       0.000000   \n",
              "50%       2.000000     1.500000     2.000000     0.000000       0.000000   \n",
              "75%       3.000000     2.500000     3.000000   101.000000       0.000000   \n",
              "max       4.000000    10.000000     3.000000   635.000000       1.000000   \n",
              "\n",
              "       Securities_Account  CD_Account       Online   CreditCard  \n",
              "count         5000.000000  5000.00000  5000.000000  5000.000000  \n",
              "mean             0.104400     0.06040     0.596800     0.294000  \n",
              "std              0.305809     0.23825     0.490589     0.455637  \n",
              "min              0.000000     0.00000     0.000000     0.000000  \n",
              "25%              0.000000     0.00000     0.000000     0.000000  \n",
              "50%              0.000000     0.00000     1.000000     0.000000  \n",
              "75%              0.000000     0.00000     1.000000     1.000000  \n",
              "max              1.000000     1.00000     1.000000     1.000000  "
            ]
          },
          "execution_count": 22,
          "metadata": {},
          "output_type": "execute_result"
        }
      ],
      "source": [
        "Loan_Copy_df.describe(include='all')"
      ]
    },
    {
      "cell_type": "code",
      "execution_count": 32,
      "metadata": {},
      "outputs": [],
      "source": [
        "Loan_Copy_df.drop(columns=['ID'],axis=1, inplace=True)  # Drop the 'Loan_ID' column as it is not needed for analysis"
      ]
    },
    {
      "cell_type": "code",
      "execution_count": 33,
      "metadata": {},
      "outputs": [
        {
          "data": {
            "application/vnd.microsoft.datawrangler.viewer.v0+json": {
              "columns": [
                {
                  "name": "index",
                  "rawType": "int64",
                  "type": "integer"
                },
                {
                  "name": "Age",
                  "rawType": "int64",
                  "type": "integer"
                },
                {
                  "name": "Experience",
                  "rawType": "int64",
                  "type": "integer"
                },
                {
                  "name": "Income",
                  "rawType": "int64",
                  "type": "integer"
                },
                {
                  "name": "ZIPCode",
                  "rawType": "int64",
                  "type": "integer"
                },
                {
                  "name": "Family",
                  "rawType": "int64",
                  "type": "integer"
                },
                {
                  "name": "CCAvg",
                  "rawType": "float64",
                  "type": "float"
                },
                {
                  "name": "Education",
                  "rawType": "int64",
                  "type": "integer"
                },
                {
                  "name": "Mortgage",
                  "rawType": "int64",
                  "type": "integer"
                },
                {
                  "name": "Personal_Loan",
                  "rawType": "int64",
                  "type": "integer"
                },
                {
                  "name": "Securities_Account",
                  "rawType": "int64",
                  "type": "integer"
                },
                {
                  "name": "CD_Account",
                  "rawType": "int64",
                  "type": "integer"
                },
                {
                  "name": "Online",
                  "rawType": "int64",
                  "type": "integer"
                },
                {
                  "name": "CreditCard",
                  "rawType": "int64",
                  "type": "integer"
                }
              ],
              "ref": "6701de1a-ffe6-434f-9ee5-62e2c0bfa8c9",
              "rows": [
                [
                  "0",
                  "25",
                  "1",
                  "49",
                  "91107",
                  "4",
                  "1.6",
                  "1",
                  "0",
                  "0",
                  "1",
                  "0",
                  "0",
                  "0"
                ],
                [
                  "1",
                  "45",
                  "19",
                  "34",
                  "90089",
                  "3",
                  "1.5",
                  "1",
                  "0",
                  "0",
                  "1",
                  "0",
                  "0",
                  "0"
                ],
                [
                  "2",
                  "39",
                  "15",
                  "11",
                  "94720",
                  "1",
                  "1.0",
                  "1",
                  "0",
                  "0",
                  "0",
                  "0",
                  "0",
                  "0"
                ],
                [
                  "3",
                  "35",
                  "9",
                  "100",
                  "94112",
                  "1",
                  "2.7",
                  "2",
                  "0",
                  "0",
                  "0",
                  "0",
                  "0",
                  "0"
                ],
                [
                  "4",
                  "35",
                  "8",
                  "45",
                  "91330",
                  "4",
                  "1.0",
                  "2",
                  "0",
                  "0",
                  "0",
                  "0",
                  "0",
                  "1"
                ],
                [
                  "5",
                  "37",
                  "13",
                  "29",
                  "92121",
                  "4",
                  "0.4",
                  "2",
                  "155",
                  "0",
                  "0",
                  "0",
                  "1",
                  "0"
                ],
                [
                  "6",
                  "53",
                  "27",
                  "72",
                  "91711",
                  "2",
                  "1.5",
                  "2",
                  "0",
                  "0",
                  "0",
                  "0",
                  "1",
                  "0"
                ],
                [
                  "7",
                  "50",
                  "24",
                  "22",
                  "93943",
                  "1",
                  "0.3",
                  "3",
                  "0",
                  "0",
                  "0",
                  "0",
                  "0",
                  "1"
                ],
                [
                  "8",
                  "35",
                  "10",
                  "81",
                  "90089",
                  "3",
                  "0.6",
                  "2",
                  "104",
                  "0",
                  "0",
                  "0",
                  "1",
                  "0"
                ],
                [
                  "9",
                  "34",
                  "9",
                  "180",
                  "93023",
                  "1",
                  "8.9",
                  "3",
                  "0",
                  "1",
                  "0",
                  "0",
                  "0",
                  "0"
                ],
                [
                  "10",
                  "65",
                  "39",
                  "105",
                  "94710",
                  "4",
                  "2.4",
                  "3",
                  "0",
                  "0",
                  "0",
                  "0",
                  "0",
                  "0"
                ],
                [
                  "11",
                  "29",
                  "5",
                  "45",
                  "90277",
                  "3",
                  "0.1",
                  "2",
                  "0",
                  "0",
                  "0",
                  "0",
                  "1",
                  "0"
                ],
                [
                  "12",
                  "48",
                  "23",
                  "114",
                  "93106",
                  "2",
                  "3.8",
                  "3",
                  "0",
                  "0",
                  "1",
                  "0",
                  "0",
                  "0"
                ],
                [
                  "13",
                  "59",
                  "32",
                  "40",
                  "94920",
                  "4",
                  "2.5",
                  "2",
                  "0",
                  "0",
                  "0",
                  "0",
                  "1",
                  "0"
                ],
                [
                  "14",
                  "67",
                  "41",
                  "112",
                  "91741",
                  "1",
                  "2.0",
                  "1",
                  "0",
                  "0",
                  "1",
                  "0",
                  "0",
                  "0"
                ],
                [
                  "15",
                  "60",
                  "30",
                  "22",
                  "95054",
                  "1",
                  "1.5",
                  "3",
                  "0",
                  "0",
                  "0",
                  "0",
                  "1",
                  "1"
                ],
                [
                  "16",
                  "38",
                  "14",
                  "130",
                  "95010",
                  "4",
                  "4.7",
                  "3",
                  "134",
                  "1",
                  "0",
                  "0",
                  "0",
                  "0"
                ],
                [
                  "17",
                  "42",
                  "18",
                  "81",
                  "94305",
                  "4",
                  "2.4",
                  "1",
                  "0",
                  "0",
                  "0",
                  "0",
                  "0",
                  "0"
                ],
                [
                  "18",
                  "46",
                  "21",
                  "193",
                  "91604",
                  "2",
                  "8.1",
                  "3",
                  "0",
                  "1",
                  "0",
                  "0",
                  "0",
                  "0"
                ],
                [
                  "19",
                  "55",
                  "28",
                  "21",
                  "94720",
                  "1",
                  "0.5",
                  "2",
                  "0",
                  "0",
                  "1",
                  "0",
                  "0",
                  "1"
                ],
                [
                  "20",
                  "56",
                  "31",
                  "25",
                  "94015",
                  "4",
                  "0.9",
                  "2",
                  "111",
                  "0",
                  "0",
                  "0",
                  "1",
                  "0"
                ],
                [
                  "21",
                  "57",
                  "27",
                  "63",
                  "90095",
                  "3",
                  "2.0",
                  "3",
                  "0",
                  "0",
                  "0",
                  "0",
                  "1",
                  "0"
                ],
                [
                  "22",
                  "29",
                  "5",
                  "62",
                  "90277",
                  "1",
                  "1.2",
                  "1",
                  "260",
                  "0",
                  "0",
                  "0",
                  "1",
                  "0"
                ],
                [
                  "23",
                  "44",
                  "18",
                  "43",
                  "91320",
                  "2",
                  "0.7",
                  "1",
                  "163",
                  "0",
                  "1",
                  "0",
                  "0",
                  "0"
                ],
                [
                  "24",
                  "36",
                  "11",
                  "152",
                  "95521",
                  "2",
                  "3.9",
                  "1",
                  "159",
                  "0",
                  "0",
                  "0",
                  "0",
                  "1"
                ],
                [
                  "25",
                  "43",
                  "19",
                  "29",
                  "94305",
                  "3",
                  "0.5",
                  "1",
                  "97",
                  "0",
                  "0",
                  "0",
                  "1",
                  "0"
                ],
                [
                  "26",
                  "40",
                  "16",
                  "83",
                  "95064",
                  "4",
                  "0.2",
                  "3",
                  "0",
                  "0",
                  "0",
                  "0",
                  "0",
                  "0"
                ],
                [
                  "27",
                  "46",
                  "20",
                  "158",
                  "90064",
                  "1",
                  "2.4",
                  "1",
                  "0",
                  "0",
                  "0",
                  "0",
                  "1",
                  "1"
                ],
                [
                  "28",
                  "56",
                  "30",
                  "48",
                  "94539",
                  "1",
                  "2.2",
                  "3",
                  "0",
                  "0",
                  "0",
                  "0",
                  "1",
                  "1"
                ],
                [
                  "29",
                  "38",
                  "13",
                  "119",
                  "94104",
                  "1",
                  "3.3",
                  "2",
                  "0",
                  "1",
                  "0",
                  "1",
                  "1",
                  "1"
                ],
                [
                  "30",
                  "59",
                  "35",
                  "35",
                  "93106",
                  "1",
                  "1.2",
                  "3",
                  "122",
                  "0",
                  "0",
                  "0",
                  "1",
                  "0"
                ],
                [
                  "31",
                  "40",
                  "16",
                  "29",
                  "94117",
                  "1",
                  "2.0",
                  "2",
                  "0",
                  "0",
                  "0",
                  "0",
                  "1",
                  "0"
                ],
                [
                  "32",
                  "53",
                  "28",
                  "41",
                  "94801",
                  "2",
                  "0.6",
                  "3",
                  "193",
                  "0",
                  "0",
                  "0",
                  "0",
                  "0"
                ],
                [
                  "33",
                  "30",
                  "6",
                  "18",
                  "91330",
                  "3",
                  "0.9",
                  "3",
                  "0",
                  "0",
                  "0",
                  "0",
                  "0",
                  "0"
                ],
                [
                  "34",
                  "31",
                  "5",
                  "50",
                  "94035",
                  "4",
                  "1.8",
                  "3",
                  "0",
                  "0",
                  "0",
                  "0",
                  "1",
                  "0"
                ],
                [
                  "35",
                  "48",
                  "24",
                  "81",
                  "92647",
                  "3",
                  "0.7",
                  "1",
                  "0",
                  "0",
                  "0",
                  "0",
                  "0",
                  "0"
                ],
                [
                  "36",
                  "59",
                  "35",
                  "121",
                  "94720",
                  "1",
                  "2.9",
                  "1",
                  "0",
                  "0",
                  "0",
                  "0",
                  "0",
                  "1"
                ],
                [
                  "37",
                  "51",
                  "25",
                  "71",
                  "95814",
                  "1",
                  "1.4",
                  "3",
                  "198",
                  "0",
                  "0",
                  "0",
                  "0",
                  "0"
                ],
                [
                  "38",
                  "42",
                  "18",
                  "141",
                  "94114",
                  "3",
                  "5.0",
                  "3",
                  "0",
                  "1",
                  "1",
                  "1",
                  "1",
                  "0"
                ],
                [
                  "39",
                  "38",
                  "13",
                  "80",
                  "94115",
                  "4",
                  "0.7",
                  "3",
                  "285",
                  "0",
                  "0",
                  "0",
                  "1",
                  "0"
                ],
                [
                  "40",
                  "57",
                  "32",
                  "84",
                  "92672",
                  "3",
                  "1.6",
                  "3",
                  "0",
                  "0",
                  "1",
                  "0",
                  "0",
                  "0"
                ],
                [
                  "41",
                  "34",
                  "9",
                  "60",
                  "94122",
                  "3",
                  "2.3",
                  "1",
                  "0",
                  "0",
                  "0",
                  "0",
                  "0",
                  "0"
                ],
                [
                  "42",
                  "32",
                  "7",
                  "132",
                  "90019",
                  "4",
                  "1.1",
                  "2",
                  "412",
                  "1",
                  "0",
                  "0",
                  "1",
                  "0"
                ],
                [
                  "43",
                  "39",
                  "15",
                  "45",
                  "95616",
                  "1",
                  "0.7",
                  "1",
                  "0",
                  "0",
                  "0",
                  "0",
                  "1",
                  "0"
                ],
                [
                  "44",
                  "46",
                  "20",
                  "104",
                  "94065",
                  "1",
                  "5.7",
                  "1",
                  "0",
                  "0",
                  "0",
                  "0",
                  "1",
                  "1"
                ],
                [
                  "45",
                  "57",
                  "31",
                  "52",
                  "94720",
                  "4",
                  "2.5",
                  "1",
                  "0",
                  "0",
                  "0",
                  "0",
                  "0",
                  "1"
                ],
                [
                  "46",
                  "39",
                  "14",
                  "43",
                  "95014",
                  "3",
                  "0.7",
                  "2",
                  "153",
                  "0",
                  "0",
                  "0",
                  "1",
                  "0"
                ],
                [
                  "47",
                  "37",
                  "12",
                  "194",
                  "91380",
                  "4",
                  "0.2",
                  "3",
                  "211",
                  "1",
                  "1",
                  "1",
                  "1",
                  "1"
                ],
                [
                  "48",
                  "56",
                  "26",
                  "81",
                  "95747",
                  "2",
                  "4.5",
                  "3",
                  "0",
                  "0",
                  "0",
                  "0",
                  "0",
                  "1"
                ],
                [
                  "49",
                  "40",
                  "16",
                  "49",
                  "92373",
                  "1",
                  "1.8",
                  "1",
                  "0",
                  "0",
                  "0",
                  "0",
                  "0",
                  "1"
                ]
              ],
              "shape": {
                "columns": 13,
                "rows": 5000
              }
            },
            "text/html": [
              "<div>\n",
              "<style scoped>\n",
              "    .dataframe tbody tr th:only-of-type {\n",
              "        vertical-align: middle;\n",
              "    }\n",
              "\n",
              "    .dataframe tbody tr th {\n",
              "        vertical-align: top;\n",
              "    }\n",
              "\n",
              "    .dataframe thead th {\n",
              "        text-align: right;\n",
              "    }\n",
              "</style>\n",
              "<table border=\"1\" class=\"dataframe\">\n",
              "  <thead>\n",
              "    <tr style=\"text-align: right;\">\n",
              "      <th></th>\n",
              "      <th>Age</th>\n",
              "      <th>Experience</th>\n",
              "      <th>Income</th>\n",
              "      <th>ZIPCode</th>\n",
              "      <th>Family</th>\n",
              "      <th>CCAvg</th>\n",
              "      <th>Education</th>\n",
              "      <th>Mortgage</th>\n",
              "      <th>Personal_Loan</th>\n",
              "      <th>Securities_Account</th>\n",
              "      <th>CD_Account</th>\n",
              "      <th>Online</th>\n",
              "      <th>CreditCard</th>\n",
              "    </tr>\n",
              "  </thead>\n",
              "  <tbody>\n",
              "    <tr>\n",
              "      <th>0</th>\n",
              "      <td>25</td>\n",
              "      <td>1</td>\n",
              "      <td>49</td>\n",
              "      <td>91107</td>\n",
              "      <td>4</td>\n",
              "      <td>1.6</td>\n",
              "      <td>1</td>\n",
              "      <td>0</td>\n",
              "      <td>0</td>\n",
              "      <td>1</td>\n",
              "      <td>0</td>\n",
              "      <td>0</td>\n",
              "      <td>0</td>\n",
              "    </tr>\n",
              "    <tr>\n",
              "      <th>1</th>\n",
              "      <td>45</td>\n",
              "      <td>19</td>\n",
              "      <td>34</td>\n",
              "      <td>90089</td>\n",
              "      <td>3</td>\n",
              "      <td>1.5</td>\n",
              "      <td>1</td>\n",
              "      <td>0</td>\n",
              "      <td>0</td>\n",
              "      <td>1</td>\n",
              "      <td>0</td>\n",
              "      <td>0</td>\n",
              "      <td>0</td>\n",
              "    </tr>\n",
              "    <tr>\n",
              "      <th>2</th>\n",
              "      <td>39</td>\n",
              "      <td>15</td>\n",
              "      <td>11</td>\n",
              "      <td>94720</td>\n",
              "      <td>1</td>\n",
              "      <td>1.0</td>\n",
              "      <td>1</td>\n",
              "      <td>0</td>\n",
              "      <td>0</td>\n",
              "      <td>0</td>\n",
              "      <td>0</td>\n",
              "      <td>0</td>\n",
              "      <td>0</td>\n",
              "    </tr>\n",
              "    <tr>\n",
              "      <th>3</th>\n",
              "      <td>35</td>\n",
              "      <td>9</td>\n",
              "      <td>100</td>\n",
              "      <td>94112</td>\n",
              "      <td>1</td>\n",
              "      <td>2.7</td>\n",
              "      <td>2</td>\n",
              "      <td>0</td>\n",
              "      <td>0</td>\n",
              "      <td>0</td>\n",
              "      <td>0</td>\n",
              "      <td>0</td>\n",
              "      <td>0</td>\n",
              "    </tr>\n",
              "    <tr>\n",
              "      <th>4</th>\n",
              "      <td>35</td>\n",
              "      <td>8</td>\n",
              "      <td>45</td>\n",
              "      <td>91330</td>\n",
              "      <td>4</td>\n",
              "      <td>1.0</td>\n",
              "      <td>2</td>\n",
              "      <td>0</td>\n",
              "      <td>0</td>\n",
              "      <td>0</td>\n",
              "      <td>0</td>\n",
              "      <td>0</td>\n",
              "      <td>1</td>\n",
              "    </tr>\n",
              "    <tr>\n",
              "      <th>...</th>\n",
              "      <td>...</td>\n",
              "      <td>...</td>\n",
              "      <td>...</td>\n",
              "      <td>...</td>\n",
              "      <td>...</td>\n",
              "      <td>...</td>\n",
              "      <td>...</td>\n",
              "      <td>...</td>\n",
              "      <td>...</td>\n",
              "      <td>...</td>\n",
              "      <td>...</td>\n",
              "      <td>...</td>\n",
              "      <td>...</td>\n",
              "    </tr>\n",
              "    <tr>\n",
              "      <th>4995</th>\n",
              "      <td>29</td>\n",
              "      <td>3</td>\n",
              "      <td>40</td>\n",
              "      <td>92697</td>\n",
              "      <td>1</td>\n",
              "      <td>1.9</td>\n",
              "      <td>3</td>\n",
              "      <td>0</td>\n",
              "      <td>0</td>\n",
              "      <td>0</td>\n",
              "      <td>0</td>\n",
              "      <td>1</td>\n",
              "      <td>0</td>\n",
              "    </tr>\n",
              "    <tr>\n",
              "      <th>4996</th>\n",
              "      <td>30</td>\n",
              "      <td>4</td>\n",
              "      <td>15</td>\n",
              "      <td>92037</td>\n",
              "      <td>4</td>\n",
              "      <td>0.4</td>\n",
              "      <td>1</td>\n",
              "      <td>85</td>\n",
              "      <td>0</td>\n",
              "      <td>0</td>\n",
              "      <td>0</td>\n",
              "      <td>1</td>\n",
              "      <td>0</td>\n",
              "    </tr>\n",
              "    <tr>\n",
              "      <th>4997</th>\n",
              "      <td>63</td>\n",
              "      <td>39</td>\n",
              "      <td>24</td>\n",
              "      <td>93023</td>\n",
              "      <td>2</td>\n",
              "      <td>0.3</td>\n",
              "      <td>3</td>\n",
              "      <td>0</td>\n",
              "      <td>0</td>\n",
              "      <td>0</td>\n",
              "      <td>0</td>\n",
              "      <td>0</td>\n",
              "      <td>0</td>\n",
              "    </tr>\n",
              "    <tr>\n",
              "      <th>4998</th>\n",
              "      <td>65</td>\n",
              "      <td>40</td>\n",
              "      <td>49</td>\n",
              "      <td>90034</td>\n",
              "      <td>3</td>\n",
              "      <td>0.5</td>\n",
              "      <td>2</td>\n",
              "      <td>0</td>\n",
              "      <td>0</td>\n",
              "      <td>0</td>\n",
              "      <td>0</td>\n",
              "      <td>1</td>\n",
              "      <td>0</td>\n",
              "    </tr>\n",
              "    <tr>\n",
              "      <th>4999</th>\n",
              "      <td>28</td>\n",
              "      <td>4</td>\n",
              "      <td>83</td>\n",
              "      <td>92612</td>\n",
              "      <td>3</td>\n",
              "      <td>0.8</td>\n",
              "      <td>1</td>\n",
              "      <td>0</td>\n",
              "      <td>0</td>\n",
              "      <td>0</td>\n",
              "      <td>0</td>\n",
              "      <td>1</td>\n",
              "      <td>1</td>\n",
              "    </tr>\n",
              "  </tbody>\n",
              "</table>\n",
              "<p>5000 rows × 13 columns</p>\n",
              "</div>"
            ],
            "text/plain": [
              "      Age  Experience  Income  ZIPCode  Family  CCAvg  Education  Mortgage  \\\n",
              "0      25           1      49    91107       4    1.6          1         0   \n",
              "1      45          19      34    90089       3    1.5          1         0   \n",
              "2      39          15      11    94720       1    1.0          1         0   \n",
              "3      35           9     100    94112       1    2.7          2         0   \n",
              "4      35           8      45    91330       4    1.0          2         0   \n",
              "...   ...         ...     ...      ...     ...    ...        ...       ...   \n",
              "4995   29           3      40    92697       1    1.9          3         0   \n",
              "4996   30           4      15    92037       4    0.4          1        85   \n",
              "4997   63          39      24    93023       2    0.3          3         0   \n",
              "4998   65          40      49    90034       3    0.5          2         0   \n",
              "4999   28           4      83    92612       3    0.8          1         0   \n",
              "\n",
              "      Personal_Loan  Securities_Account  CD_Account  Online  CreditCard  \n",
              "0                 0                   1           0       0           0  \n",
              "1                 0                   1           0       0           0  \n",
              "2                 0                   0           0       0           0  \n",
              "3                 0                   0           0       0           0  \n",
              "4                 0                   0           0       0           1  \n",
              "...             ...                 ...         ...     ...         ...  \n",
              "4995              0                   0           0       1           0  \n",
              "4996              0                   0           0       1           0  \n",
              "4997              0                   0           0       0           0  \n",
              "4998              0                   0           0       1           0  \n",
              "4999              0                   0           0       1           1  \n",
              "\n",
              "[5000 rows x 13 columns]"
            ]
          },
          "execution_count": 33,
          "metadata": {},
          "output_type": "execute_result"
        }
      ],
      "source": [
        "Loan_Copy_df"
      ]
    },
    {
      "cell_type": "markdown",
      "metadata": {},
      "source": [
        "##Overall observations from sanity check and the shape of the dataset\n",
        "\n",
        "- 5000 Customers \n",
        "- Small number of features allowing us to perform thorough EDA and feature importance tracking\n",
        "- Some categorical variables\n",
        "- Personal Loan is the target variable. This affects the metric choice like ROC-AUC, precision recall"
      ]
    },
    {
      "cell_type": "markdown",
      "metadata": {},
      "source": [
        "## Column level obeservations and Processing"
      ]
    },
    {
      "cell_type": "code",
      "execution_count": 36,
      "metadata": {},
      "outputs": [
        {
          "data": {
            "application/vnd.microsoft.datawrangler.viewer.v0+json": {
              "columns": [
                {
                  "name": "index",
                  "rawType": "int64",
                  "type": "integer"
                },
                {
                  "name": "Personal_Loan",
                  "rawType": "int64",
                  "type": "integer"
                }
              ],
              "ref": "6f05cf81-1a07-459a-b63f-5e69a7fbc940",
              "rows": [
                [
                  "0",
                  "4520"
                ],
                [
                  "1",
                  "480"
                ]
              ],
              "shape": {
                "columns": 1,
                "rows": 2
              }
            },
            "text/plain": [
              "0    4520\n",
              "1     480\n",
              "Name: Personal_Loan, dtype: int64"
            ]
          },
          "execution_count": 36,
          "metadata": {},
          "output_type": "execute_result"
        }
      ],
      "source": [
        "Loan_Copy_df['Personal_Loan'].value_counts()"
      ]
    },
    {
      "cell_type": "code",
      "execution_count": 37,
      "metadata": {},
      "outputs": [
        {
          "data": {
            "application/vnd.microsoft.datawrangler.viewer.v0+json": {
              "columns": [
                {
                  "name": "index",
                  "rawType": "int64",
                  "type": "integer"
                },
                {
                  "name": "Personal_Loan",
                  "rawType": "float64",
                  "type": "float"
                }
              ],
              "ref": "670cf8a7-8a2c-4e02-9506-ab8a47c98131",
              "rows": [
                [
                  "0",
                  "90.4"
                ],
                [
                  "1",
                  "9.6"
                ]
              ],
              "shape": {
                "columns": 1,
                "rows": 2
              }
            },
            "text/plain": [
              "0    90.4\n",
              "1     9.6\n",
              "Name: Personal_Loan, dtype: float64"
            ]
          },
          "execution_count": 37,
          "metadata": {},
          "output_type": "execute_result"
        }
      ],
      "source": [
        "Loan_Copy_df['Personal_Loan'].value_counts(normalize=True) * 100\n"
      ]
    },
    {
      "cell_type": "code",
      "execution_count": null,
      "metadata": {},
      "outputs": [
        {
          "data": {
            "application/vnd.microsoft.datawrangler.viewer.v0+json": {
              "columns": [
                {
                  "name": "Family",
                  "rawType": "int64",
                  "type": "integer"
                },
                {
                  "name": "Did Not Take Loan (%)",
                  "rawType": "float64",
                  "type": "float"
                },
                {
                  "name": "Accepted Loan (%)",
                  "rawType": "float64",
                  "type": "float"
                }
              ],
              "ref": "46209a4e-12b1-47dd-a3c3-c2a6f39cc313",
              "rows": [
                [
                  "1",
                  "92.73",
                  "7.27"
                ],
                [
                  "2",
                  "91.82",
                  "8.18"
                ],
                [
                  "3",
                  "86.83",
                  "13.17"
                ],
                [
                  "4",
                  "89.03",
                  "10.97"
                ]
              ],
              "shape": {
                "columns": 2,
                "rows": 4
              }
            },
            "text/html": [
              "<div>\n",
              "<style scoped>\n",
              "    .dataframe tbody tr th:only-of-type {\n",
              "        vertical-align: middle;\n",
              "    }\n",
              "\n",
              "    .dataframe tbody tr th {\n",
              "        vertical-align: top;\n",
              "    }\n",
              "\n",
              "    .dataframe thead th {\n",
              "        text-align: right;\n",
              "    }\n",
              "</style>\n",
              "<table border=\"1\" class=\"dataframe\">\n",
              "  <thead>\n",
              "    <tr style=\"text-align: right;\">\n",
              "      <th></th>\n",
              "      <th>Did Not Take Loan (%)</th>\n",
              "      <th>Accepted Loan (%)</th>\n",
              "    </tr>\n",
              "    <tr>\n",
              "      <th>Family</th>\n",
              "      <th></th>\n",
              "      <th></th>\n",
              "    </tr>\n",
              "  </thead>\n",
              "  <tbody>\n",
              "    <tr>\n",
              "      <th>1</th>\n",
              "      <td>92.73</td>\n",
              "      <td>7.27</td>\n",
              "    </tr>\n",
              "    <tr>\n",
              "      <th>2</th>\n",
              "      <td>91.82</td>\n",
              "      <td>8.18</td>\n",
              "    </tr>\n",
              "    <tr>\n",
              "      <th>3</th>\n",
              "      <td>86.83</td>\n",
              "      <td>13.17</td>\n",
              "    </tr>\n",
              "    <tr>\n",
              "      <th>4</th>\n",
              "      <td>89.03</td>\n",
              "      <td>10.97</td>\n",
              "    </tr>\n",
              "  </tbody>\n",
              "</table>\n",
              "</div>"
            ],
            "text/plain": [
              "        Did Not Take Loan (%)  Accepted Loan (%)\n",
              "Family                                          \n",
              "1                       92.73               7.27\n",
              "2                       91.82               8.18\n",
              "3                       86.83              13.17\n",
              "4                       89.03              10.97"
            ]
          },
          "execution_count": 42,
          "metadata": {},
          "output_type": "execute_result"
        }
      ],
      "source": [
        "family_loan_pct = pd.crosstab(\n",
        "    Loan_Copy_df['Family'],\n",
        "    Loan_Copy_df['Personal_Loan'],\n",
        "    normalize='index'\n",
        ") * 100\n",
        "\n",
        "# Optional: round to 2 decimal places\n",
        "family_loan_pct = family_loan_pct.round(2)\n",
        "family_loan_pct.columns = ['Did Not accept the Loan (%)', 'Accepted the Loan (%)']\n",
        "\n",
        "family_loan_pct"
      ]
    },
    {
      "cell_type": "code",
      "execution_count": 39,
      "metadata": {},
      "outputs": [
        {
          "data": {
            "application/vnd.microsoft.datawrangler.viewer.v0+json": {
              "columns": [
                {
                  "name": "index",
                  "rawType": "int64",
                  "type": "integer"
                },
                {
                  "name": "Income",
                  "rawType": "category",
                  "type": "unknown"
                }
              ],
              "ref": "1a27f786-8ebe-41aa-95ee-e7512bff5241",
              "rows": [
                [
                  "0",
                  "(33.0, 52.0]"
                ],
                [
                  "1",
                  "(33.0, 52.0]"
                ],
                [
                  "2",
                  "(7.999, 33.0]"
                ],
                [
                  "3",
                  "(78.0, 113.0]"
                ],
                [
                  "4",
                  "(33.0, 52.0]"
                ],
                [
                  "5",
                  "(7.999, 33.0]"
                ],
                [
                  "6",
                  "(52.0, 78.0]"
                ],
                [
                  "7",
                  "(7.999, 33.0]"
                ],
                [
                  "8",
                  "(78.0, 113.0]"
                ],
                [
                  "9",
                  "(113.0, 224.0]"
                ],
                [
                  "10",
                  "(78.0, 113.0]"
                ],
                [
                  "11",
                  "(33.0, 52.0]"
                ],
                [
                  "12",
                  "(113.0, 224.0]"
                ],
                [
                  "13",
                  "(33.0, 52.0]"
                ],
                [
                  "14",
                  "(78.0, 113.0]"
                ],
                [
                  "15",
                  "(7.999, 33.0]"
                ],
                [
                  "16",
                  "(113.0, 224.0]"
                ],
                [
                  "17",
                  "(78.0, 113.0]"
                ],
                [
                  "18",
                  "(113.0, 224.0]"
                ],
                [
                  "19",
                  "(7.999, 33.0]"
                ],
                [
                  "20",
                  "(7.999, 33.0]"
                ],
                [
                  "21",
                  "(52.0, 78.0]"
                ],
                [
                  "22",
                  "(52.0, 78.0]"
                ],
                [
                  "23",
                  "(33.0, 52.0]"
                ],
                [
                  "24",
                  "(113.0, 224.0]"
                ],
                [
                  "25",
                  "(7.999, 33.0]"
                ],
                [
                  "26",
                  "(78.0, 113.0]"
                ],
                [
                  "27",
                  "(113.0, 224.0]"
                ],
                [
                  "28",
                  "(33.0, 52.0]"
                ],
                [
                  "29",
                  "(113.0, 224.0]"
                ],
                [
                  "30",
                  "(33.0, 52.0]"
                ],
                [
                  "31",
                  "(7.999, 33.0]"
                ],
                [
                  "32",
                  "(33.0, 52.0]"
                ],
                [
                  "33",
                  "(7.999, 33.0]"
                ],
                [
                  "34",
                  "(33.0, 52.0]"
                ],
                [
                  "35",
                  "(78.0, 113.0]"
                ],
                [
                  "36",
                  "(113.0, 224.0]"
                ],
                [
                  "37",
                  "(52.0, 78.0]"
                ],
                [
                  "38",
                  "(113.0, 224.0]"
                ],
                [
                  "39",
                  "(78.0, 113.0]"
                ],
                [
                  "40",
                  "(78.0, 113.0]"
                ],
                [
                  "41",
                  "(52.0, 78.0]"
                ],
                [
                  "42",
                  "(113.0, 224.0]"
                ],
                [
                  "43",
                  "(33.0, 52.0]"
                ],
                [
                  "44",
                  "(78.0, 113.0]"
                ],
                [
                  "45",
                  "(33.0, 52.0]"
                ],
                [
                  "46",
                  "(33.0, 52.0]"
                ],
                [
                  "47",
                  "(113.0, 224.0]"
                ],
                [
                  "48",
                  "(78.0, 113.0]"
                ],
                [
                  "49",
                  "(33.0, 52.0]"
                ]
              ],
              "shape": {
                "columns": 1,
                "rows": 5000
              }
            },
            "text/plain": [
              "0        (33.0, 52.0]\n",
              "1        (33.0, 52.0]\n",
              "2       (7.999, 33.0]\n",
              "3       (78.0, 113.0]\n",
              "4        (33.0, 52.0]\n",
              "            ...      \n",
              "4995     (33.0, 52.0]\n",
              "4996    (7.999, 33.0]\n",
              "4997    (7.999, 33.0]\n",
              "4998     (33.0, 52.0]\n",
              "4999    (78.0, 113.0]\n",
              "Name: Income, Length: 5000, dtype: category\n",
              "Categories (5, interval[float64, right]): [(7.999, 33.0] < (33.0, 52.0] < (52.0, 78.0] < (78.0, 113.0] < (113.0, 224.0]]"
            ]
          },
          "execution_count": 39,
          "metadata": {},
          "output_type": "execute_result"
        }
      ],
      "source": [
        "pd.qcut(Loan_Copy_df['Income'], 5)  # Income quintiles"
      ]
    },
    {
      "cell_type": "code",
      "execution_count": 35,
      "metadata": {},
      "outputs": [
        {
          "data": {
            "application/vnd.microsoft.datawrangler.viewer.v0+json": {
              "columns": [
                {
                  "name": "index",
                  "rawType": "int64",
                  "type": "integer"
                },
                {
                  "name": "Age",
                  "rawType": "int64",
                  "type": "integer"
                },
                {
                  "name": "Experience",
                  "rawType": "int64",
                  "type": "integer"
                },
                {
                  "name": "Income",
                  "rawType": "int64",
                  "type": "integer"
                },
                {
                  "name": "ZIPCode",
                  "rawType": "int64",
                  "type": "integer"
                },
                {
                  "name": "Family",
                  "rawType": "int64",
                  "type": "integer"
                },
                {
                  "name": "CCAvg",
                  "rawType": "float64",
                  "type": "float"
                },
                {
                  "name": "Education",
                  "rawType": "int64",
                  "type": "integer"
                },
                {
                  "name": "Mortgage",
                  "rawType": "int64",
                  "type": "integer"
                },
                {
                  "name": "Personal_Loan",
                  "rawType": "int64",
                  "type": "integer"
                },
                {
                  "name": "Securities_Account",
                  "rawType": "int64",
                  "type": "integer"
                },
                {
                  "name": "CD_Account",
                  "rawType": "int64",
                  "type": "integer"
                },
                {
                  "name": "Online",
                  "rawType": "int64",
                  "type": "integer"
                },
                {
                  "name": "CreditCard",
                  "rawType": "int64",
                  "type": "integer"
                },
                {
                  "name": "ZIP_Prefix",
                  "rawType": "object",
                  "type": "string"
                }
              ],
              "ref": "1e682d4f-991e-48e3-81c0-f3634dc396bc",
              "rows": [
                [
                  "0",
                  "25",
                  "1",
                  "49",
                  "91107",
                  "4",
                  "1.6",
                  "1",
                  "0",
                  "0",
                  "1",
                  "0",
                  "0",
                  "0",
                  "91"
                ],
                [
                  "1",
                  "45",
                  "19",
                  "34",
                  "90089",
                  "3",
                  "1.5",
                  "1",
                  "0",
                  "0",
                  "1",
                  "0",
                  "0",
                  "0",
                  "90"
                ],
                [
                  "2",
                  "39",
                  "15",
                  "11",
                  "94720",
                  "1",
                  "1.0",
                  "1",
                  "0",
                  "0",
                  "0",
                  "0",
                  "0",
                  "0",
                  "94"
                ],
                [
                  "3",
                  "35",
                  "9",
                  "100",
                  "94112",
                  "1",
                  "2.7",
                  "2",
                  "0",
                  "0",
                  "0",
                  "0",
                  "0",
                  "0",
                  "94"
                ],
                [
                  "4",
                  "35",
                  "8",
                  "45",
                  "91330",
                  "4",
                  "1.0",
                  "2",
                  "0",
                  "0",
                  "0",
                  "0",
                  "0",
                  "1",
                  "91"
                ]
              ],
              "shape": {
                "columns": 14,
                "rows": 5
              }
            },
            "text/html": [
              "<div>\n",
              "<style scoped>\n",
              "    .dataframe tbody tr th:only-of-type {\n",
              "        vertical-align: middle;\n",
              "    }\n",
              "\n",
              "    .dataframe tbody tr th {\n",
              "        vertical-align: top;\n",
              "    }\n",
              "\n",
              "    .dataframe thead th {\n",
              "        text-align: right;\n",
              "    }\n",
              "</style>\n",
              "<table border=\"1\" class=\"dataframe\">\n",
              "  <thead>\n",
              "    <tr style=\"text-align: right;\">\n",
              "      <th></th>\n",
              "      <th>Age</th>\n",
              "      <th>Experience</th>\n",
              "      <th>Income</th>\n",
              "      <th>ZIPCode</th>\n",
              "      <th>Family</th>\n",
              "      <th>CCAvg</th>\n",
              "      <th>Education</th>\n",
              "      <th>Mortgage</th>\n",
              "      <th>Personal_Loan</th>\n",
              "      <th>Securities_Account</th>\n",
              "      <th>CD_Account</th>\n",
              "      <th>Online</th>\n",
              "      <th>CreditCard</th>\n",
              "      <th>ZIP_Prefix</th>\n",
              "    </tr>\n",
              "  </thead>\n",
              "  <tbody>\n",
              "    <tr>\n",
              "      <th>0</th>\n",
              "      <td>25</td>\n",
              "      <td>1</td>\n",
              "      <td>49</td>\n",
              "      <td>91107</td>\n",
              "      <td>4</td>\n",
              "      <td>1.6</td>\n",
              "      <td>1</td>\n",
              "      <td>0</td>\n",
              "      <td>0</td>\n",
              "      <td>1</td>\n",
              "      <td>0</td>\n",
              "      <td>0</td>\n",
              "      <td>0</td>\n",
              "      <td>91</td>\n",
              "    </tr>\n",
              "    <tr>\n",
              "      <th>1</th>\n",
              "      <td>45</td>\n",
              "      <td>19</td>\n",
              "      <td>34</td>\n",
              "      <td>90089</td>\n",
              "      <td>3</td>\n",
              "      <td>1.5</td>\n",
              "      <td>1</td>\n",
              "      <td>0</td>\n",
              "      <td>0</td>\n",
              "      <td>1</td>\n",
              "      <td>0</td>\n",
              "      <td>0</td>\n",
              "      <td>0</td>\n",
              "      <td>90</td>\n",
              "    </tr>\n",
              "    <tr>\n",
              "      <th>2</th>\n",
              "      <td>39</td>\n",
              "      <td>15</td>\n",
              "      <td>11</td>\n",
              "      <td>94720</td>\n",
              "      <td>1</td>\n",
              "      <td>1.0</td>\n",
              "      <td>1</td>\n",
              "      <td>0</td>\n",
              "      <td>0</td>\n",
              "      <td>0</td>\n",
              "      <td>0</td>\n",
              "      <td>0</td>\n",
              "      <td>0</td>\n",
              "      <td>94</td>\n",
              "    </tr>\n",
              "    <tr>\n",
              "      <th>3</th>\n",
              "      <td>35</td>\n",
              "      <td>9</td>\n",
              "      <td>100</td>\n",
              "      <td>94112</td>\n",
              "      <td>1</td>\n",
              "      <td>2.7</td>\n",
              "      <td>2</td>\n",
              "      <td>0</td>\n",
              "      <td>0</td>\n",
              "      <td>0</td>\n",
              "      <td>0</td>\n",
              "      <td>0</td>\n",
              "      <td>0</td>\n",
              "      <td>94</td>\n",
              "    </tr>\n",
              "    <tr>\n",
              "      <th>4</th>\n",
              "      <td>35</td>\n",
              "      <td>8</td>\n",
              "      <td>45</td>\n",
              "      <td>91330</td>\n",
              "      <td>4</td>\n",
              "      <td>1.0</td>\n",
              "      <td>2</td>\n",
              "      <td>0</td>\n",
              "      <td>0</td>\n",
              "      <td>0</td>\n",
              "      <td>0</td>\n",
              "      <td>0</td>\n",
              "      <td>1</td>\n",
              "      <td>91</td>\n",
              "    </tr>\n",
              "  </tbody>\n",
              "</table>\n",
              "</div>"
            ],
            "text/plain": [
              "   Age  Experience  Income  ZIPCode  Family  CCAvg  Education  Mortgage  \\\n",
              "0   25           1      49    91107       4    1.6          1         0   \n",
              "1   45          19      34    90089       3    1.5          1         0   \n",
              "2   39          15      11    94720       1    1.0          1         0   \n",
              "3   35           9     100    94112       1    2.7          2         0   \n",
              "4   35           8      45    91330       4    1.0          2         0   \n",
              "\n",
              "   Personal_Loan  Securities_Account  CD_Account  Online  CreditCard  \\\n",
              "0              0                   1           0       0           0   \n",
              "1              0                   1           0       0           0   \n",
              "2              0                   0           0       0           0   \n",
              "3              0                   0           0       0           0   \n",
              "4              0                   0           0       0           1   \n",
              "\n",
              "  ZIP_Prefix  \n",
              "0         91  \n",
              "1         90  \n",
              "2         94  \n",
              "3         94  \n",
              "4         91  "
            ]
          },
          "execution_count": 35,
          "metadata": {},
          "output_type": "execute_result"
        }
      ],
      "source": [
        "Loan_Copy_df['ZIP_Prefix'] = Loan_Copy_df['ZIPCode'].astype(str).str[:2]\n",
        "# Display the first few rows to verify the new column\n",
        "Loan_Copy_df.head()"
      ]
    },
    {
      "cell_type": "markdown",
      "metadata": {
        "id": "9KgxRHBOy6fn"
      },
      "source": [
        "## Exploratory Data Analysis."
      ]
    },
    {
      "cell_type": "markdown",
      "metadata": {
        "id": "5w7PtDMazCRh"
      },
      "source": [
        "- EDA is an important part of any project involving data.\n",
        "- It is important to investigate and understand the data better before building a model with it.\n",
        "- A few questions have been mentioned below which will help you approach the analysis in the right manner and generate insights from the data.\n",
        "- A thorough analysis of the data, in addition to the questions mentioned below, should be done."
      ]
    },
    {
      "cell_type": "markdown",
      "metadata": {
        "id": "CjVNBJWozGSA"
      },
      "source": [
        "**Questions**:\n",
        "\n",
        "1. What is the distribution of mortgage attribute? Are there any noticeable patterns or outliers in the distribution?\n",
        "2. How many customers have credit cards?\n",
        "3. What are the attributes that have a strong correlation with the target attribute (personal loan)?\n",
        "4. How does a customer's interest in purchasing a loan vary with their age?\n",
        "5. How does a customer's interest in purchasing a loan vary with their education?"
      ]
    },
    {
      "cell_type": "code",
      "execution_count": null,
      "metadata": {
        "id": "KY7_qg7Cymt2"
      },
      "outputs": [],
      "source": []
    },
    {
      "cell_type": "markdown",
      "metadata": {
        "id": "ZCM6avoA39FB"
      },
      "source": [
        "## Data Preprocessing"
      ]
    },
    {
      "cell_type": "markdown",
      "metadata": {
        "id": "GxmVZXfCfNnc"
      },
      "source": [
        "* Missing value treatment\n",
        "* Feature engineering (if needed)\n",
        "* Outlier detection and treatment (if needed)\n",
        "* Preparing data for modeling\n",
        "* Any other preprocessing steps (if needed)"
      ]
    },
    {
      "cell_type": "code",
      "execution_count": null,
      "metadata": {
        "id": "q6D5tdDiymfd"
      },
      "outputs": [],
      "source": []
    },
    {
      "cell_type": "markdown",
      "metadata": {
        "id": "f4lwYN5bYmHp"
      },
      "source": [
        "## Model Building"
      ]
    },
    {
      "cell_type": "markdown",
      "metadata": {
        "id": "I8KXyX2cYnxg"
      },
      "source": [
        "### Model Evaluation Criterion"
      ]
    },
    {
      "cell_type": "markdown",
      "metadata": {
        "id": "s9-hADbhYrdc"
      },
      "source": [
        "*\n"
      ]
    },
    {
      "cell_type": "markdown",
      "metadata": {
        "id": "n0zOSq9mieSG"
      },
      "source": [
        "### Model Building"
      ]
    },
    {
      "cell_type": "code",
      "execution_count": null,
      "metadata": {
        "id": "N5-9mneBiVE8"
      },
      "outputs": [],
      "source": []
    },
    {
      "cell_type": "markdown",
      "metadata": {
        "id": "tOOFfQIWh3_G"
      },
      "source": [
        "## Model Performance Improvement"
      ]
    },
    {
      "cell_type": "code",
      "execution_count": null,
      "metadata": {
        "id": "D4H3HH5zh4dG"
      },
      "outputs": [],
      "source": []
    },
    {
      "cell_type": "markdown",
      "metadata": {
        "id": "36XMQ7JKjFyx"
      },
      "source": [
        "## Model Performance Comparison and Final Model Selection"
      ]
    },
    {
      "cell_type": "code",
      "execution_count": null,
      "metadata": {
        "id": "jvq640U7kWZF"
      },
      "outputs": [],
      "source": []
    },
    {
      "cell_type": "markdown",
      "metadata": {
        "id": "vb-iuMZQkcDL"
      },
      "source": [
        "## Actionable Insights and Business Recommendations\n"
      ]
    },
    {
      "cell_type": "markdown",
      "metadata": {
        "id": "H_-eZCetiDXK"
      },
      "source": [
        "* What recommedations would you suggest to the bank?"
      ]
    },
    {
      "cell_type": "markdown",
      "metadata": {
        "id": "vX7N2zFwS1nV"
      },
      "source": [
        "___"
      ]
    }
  ],
  "metadata": {
    "colab": {
      "collapsed_sections": [
        "dHp26RRERvXx",
        "CP-77n_lxyBt",
        "D0cilOy9yeK7",
        "vUbDMkrLQb8U",
        "9KgxRHBOy6fn",
        "ZCM6avoA39FB",
        "f4lwYN5bYmHp",
        "I8KXyX2cYnxg",
        "n0zOSq9mieSG",
        "tOOFfQIWh3_G",
        "36XMQ7JKjFyx",
        "vb-iuMZQkcDL"
      ],
      "provenance": []
    },
    "kernelspec": {
      "display_name": "Python 3",
      "language": "python",
      "name": "python3"
    },
    "language_info": {
      "codemirror_mode": {
        "name": "ipython",
        "version": 3
      },
      "file_extension": ".py",
      "mimetype": "text/x-python",
      "name": "python",
      "nbconvert_exporter": "python",
      "pygments_lexer": "ipython3",
      "version": "3.11.9"
    }
  },
  "nbformat": 4,
  "nbformat_minor": 0
}
