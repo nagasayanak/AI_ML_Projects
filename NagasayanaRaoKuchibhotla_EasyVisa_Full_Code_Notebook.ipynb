{
 "cells": [
  {
   "cell_type": "markdown",
   "id": "yZvo8CHcetWN",
   "metadata": {
    "id": "yZvo8CHcetWN"
   },
   "source": [
    "## Problem Statement"
   ]
  },
  {
   "cell_type": "markdown",
   "id": "empty-shanghai",
   "metadata": {
    "id": "empty-shanghai"
   },
   "source": [
    "### Business Context"
   ]
  },
  {
   "cell_type": "markdown",
   "id": "wJmgAFK8_aCN",
   "metadata": {
    "id": "wJmgAFK8_aCN"
   },
   "source": [
    "Business communities in the United States are facing high demand for human resources, but one of the constant challenges is identifying and attracting the right talent, which is perhaps the most important element in remaining competitive. Companies in the United States look for hard-working, talented, and qualified individuals both locally as well as abroad.\n",
    "\n",
    "The Immigration and Nationality Act (INA) of the US permits foreign workers to come to the United States to work on either a temporary or permanent basis. The act also protects US workers against adverse impacts on their wages or working conditions by ensuring US employers' compliance with statutory requirements when they hire foreign workers to fill workforce shortages. The immigration programs are administered by the Office of Foreign Labor Certification (OFLC).\n",
    "\n",
    "OFLC processes job certification applications for employers seeking to bring foreign workers into the United States and grants certifications in those cases where employers can demonstrate that there are not sufficient US workers available to perform the work at wages that meet or exceed the wage paid for the occupation in the area of intended employment."
   ]
  },
  {
   "cell_type": "markdown",
   "id": "3CWyKzKYAfEp",
   "metadata": {
    "id": "3CWyKzKYAfEp"
   },
   "source": [
    "### Objective"
   ]
  },
  {
   "cell_type": "markdown",
   "id": "cdq4cea5Akh8",
   "metadata": {
    "id": "cdq4cea5Akh8"
   },
   "source": [
    "In FY 2016, the OFLC processed 775,979 employer applications for 1,699,957 positions for temporary and permanent labor certifications. This was a nine percent increase in the overall number of processed applications from the previous year. The process of reviewing every case is becoming a tedious task as the number of applicants is increasing every year.\n",
    "\n",
    "The increasing number of applicants every year calls for a Machine Learning based solution that can help in shortlisting the candidates having higher chances of VISA approval. OFLC has hired the firm EasyVisa for data-driven solutions. You as a data  scientist at EasyVisa have to analyze the data provided and, with the help of a classification model:\n",
    "\n",
    "* Facilitate the process of visa approvals.\n",
    "* Recommend a suitable profile for the applicants for whom the visa should be certified or denied based on the drivers that significantly influence the case status."
   ]
  },
  {
   "cell_type": "markdown",
   "id": "LpNqj6EzAhxy",
   "metadata": {
    "id": "LpNqj6EzAhxy"
   },
   "source": [
    "### Data Description"
   ]
  },
  {
   "cell_type": "markdown",
   "id": "uae5fMIyAnd-",
   "metadata": {
    "id": "uae5fMIyAnd-"
   },
   "source": [
    "The data contains the different attributes of employee and the employer. The detailed data dictionary is given below.\n",
    "\n",
    "* case_id: ID of each visa application\n",
    "* continent: Information of continent the employee\n",
    "* education_of_employee: Information of education of the employee\n",
    "* has_job_experience: Does the employee has any job experience? Y= Yes; N = No\n",
    "* requires_job_training: Does the employee require any job training? Y = Yes; N = No\n",
    "* no_of_employees: Number of employees in the employer's company\n",
    "* yr_of_estab: Year in which the employer's company was established\n",
    "* region_of_employment: Information of foreign worker's intended region of employment in the US.\n",
    "* prevailing_wage:  Average wage paid to similarly employed workers in a specific occupation in the area of intended employment. The purpose of the prevailing wage is to ensure that the foreign worker is not underpaid compared to other workers offering the same or similar service in the same area of employment.\n",
    "* unit_of_wage: Unit of prevailing wage. Values include Hourly, Weekly, Monthly, and Yearly.\n",
    "* full_time_position: Is the position of work full-time? Y = Full Time Position; N = Part Time Position\n",
    "* case_status:  Flag indicating if the Visa was certified or denied"
   ]
  },
  {
   "cell_type": "markdown",
   "id": "Lm7obbsV_RUT",
   "metadata": {
    "id": "Lm7obbsV_RUT"
   },
   "source": [
    "## Installing and Importing the necessary libraries"
   ]
  },
  {
   "cell_type": "code",
   "execution_count": 1,
   "id": "6IOeGuQTMQXd",
   "metadata": {
    "id": "6IOeGuQTMQXd"
   },
   "outputs": [
    {
     "name": "stdout",
     "output_type": "stream",
     "text": [
      "Note: you may need to restart the kernel to use updated packages.\n"
     ]
    }
   ],
   "source": [
    "# Installing the libraries with the specified version.\n",
    "#%pip install numpy==1.25.2 pandas==1.5.3 scikit-learn==1.5.2 matplotlib==3.7.1 seaborn==0.13.1 xgboost==2.0.3 -q --user\n",
    "\n",
    "%pip install imbalanced-learn --quiet"
   ]
  },
  {
   "cell_type": "markdown",
   "id": "OS2VAv465IZa",
   "metadata": {
    "id": "OS2VAv465IZa"
   },
   "source": [
    "**Note**: *After running the above cell, kindly restart the notebook kernel and run all cells sequentially from the below.*"
   ]
  },
  {
   "cell_type": "code",
   "execution_count": 1,
   "id": "canadian-maple",
   "metadata": {
    "id": "canadian-maple"
   },
   "outputs": [],
   "source": [
    "import numpy as np\n",
    "import pandas as pd\n",
    "\n",
    "# Library to split data\n",
    "from sklearn.model_selection import train_test_split\n",
    "\n",
    "# To oversample and undersample data\n",
    "from imblearn.over_sampling import SMOTE\n",
    "from imblearn.under_sampling import RandomUnderSampler\n",
    "from sklearn.model_selection import StratifiedKFold, cross_val_score\n",
    "\n",
    "\n",
    "# libaries to help with data visualization\n",
    "import matplotlib.pyplot as plt\n",
    "import seaborn as sns\n",
    "\n",
    "# Removes the limit for the number of displayed columns\n",
    "pd.set_option(\"display.max_columns\", None)\n",
    "# Sets the limit for the number of displayed rows\n",
    "pd.set_option(\"display.max_rows\", 100)\n",
    "\n",
    "\n",
    "# Libraries different ensemble classifiers\n",
    "from sklearn.ensemble import (\n",
    "    BaggingClassifier,\n",
    "    RandomForestClassifier,\n",
    "    AdaBoostClassifier,\n",
    "    GradientBoostingClassifier\n",
    ")\n",
    "\n",
    "from xgboost import XGBClassifier\n",
    "from sklearn.tree import DecisionTreeClassifier\n",
    "\n",
    "# Libraries to get different metric scores\n",
    "from sklearn import metrics\n",
    "from sklearn.metrics import (\n",
    "    confusion_matrix,\n",
    "    accuracy_score,\n",
    "    precision_score,\n",
    "    recall_score,\n",
    "    f1_score,\n",
    ")\n",
    "\n",
    "# To tune different models\n",
    "from sklearn.model_selection import RandomizedSearchCV\n",
    "\n",
    "# To preprocess the data\n",
    "from sklearn.preprocessing import LabelEncoder, StandardScaler  # For preprocessing\n",
    "from sklearn.metrics import roc_auc_score, classification_report  # Additional metrics\n",
    "\n",
    "\n",
    "# To ignore unnecessary warnings\n",
    "import warnings\n",
    "warnings.filterwarnings(\"ignore\")"
   ]
  },
  {
   "cell_type": "markdown",
   "id": "thorough-passion",
   "metadata": {
    "id": "thorough-passion"
   },
   "source": [
    "## Import Dataset"
   ]
  },
  {
   "cell_type": "code",
   "execution_count": null,
   "id": "q_MqHR8tN8mz",
   "metadata": {
    "id": "q_MqHR8tN8mz"
   },
   "outputs": [
    {
     "name": "stdout",
     "output_type": "stream",
     "text": [
      "Number of rows: 25480\n",
      "Number of columns: 12\n"
     ]
    }
   ],
   "source": [
    "visa = pd.read_csv(\"EasyVisa.csv\")\n",
    "#copy the data to a new working variable\n",
    "visa_working = visa.copy()\n"
   ]
  },
  {
   "cell_type": "markdown",
   "id": "832ea15c",
   "metadata": {},
   "source": [
    "The dataset has 25480 rows and 12 columns"
   ]
  },
  {
   "cell_type": "markdown",
   "id": "mq-1s9p-_aKl",
   "metadata": {
    "id": "mq-1s9p-_aKl"
   },
   "source": [
    "## Overview of the Dataset"
   ]
  },
  {
   "cell_type": "markdown",
   "id": "aboriginal-wrist",
   "metadata": {
    "id": "aboriginal-wrist"
   },
   "source": [
    "#### View the first and last 5 rows of the dataset"
   ]
  },
  {
   "cell_type": "code",
   "execution_count": 6,
   "id": "cVzRbi7oN6br",
   "metadata": {
    "id": "cVzRbi7oN6br"
   },
   "outputs": [
    {
     "data": {
      "application/vnd.microsoft.datawrangler.viewer.v0+json": {
       "columns": [
        {
         "name": "index",
         "rawType": "int64",
         "type": "integer"
        },
        {
         "name": "case_id",
         "rawType": "object",
         "type": "string"
        },
        {
         "name": "continent",
         "rawType": "object",
         "type": "string"
        },
        {
         "name": "education_of_employee",
         "rawType": "object",
         "type": "string"
        },
        {
         "name": "has_job_experience",
         "rawType": "object",
         "type": "string"
        },
        {
         "name": "requires_job_training",
         "rawType": "object",
         "type": "string"
        },
        {
         "name": "no_of_employees",
         "rawType": "int64",
         "type": "integer"
        },
        {
         "name": "yr_of_estab",
         "rawType": "int64",
         "type": "integer"
        },
        {
         "name": "region_of_employment",
         "rawType": "object",
         "type": "string"
        },
        {
         "name": "prevailing_wage",
         "rawType": "float64",
         "type": "float"
        },
        {
         "name": "unit_of_wage",
         "rawType": "object",
         "type": "string"
        },
        {
         "name": "full_time_position",
         "rawType": "object",
         "type": "string"
        },
        {
         "name": "case_status",
         "rawType": "object",
         "type": "string"
        }
       ],
       "ref": "90ebb844-5e64-48b1-80d4-1d21fdb6b437",
       "rows": [
        [
         "0",
         "EZYV01",
         "Asia",
         "High School",
         "N",
         "N",
         "14513",
         "2007",
         "West",
         "592.2029",
         "Hour",
         "Y",
         "Denied"
        ],
        [
         "1",
         "EZYV02",
         "Asia",
         "Master's",
         "Y",
         "N",
         "2412",
         "2002",
         "Northeast",
         "83425.65",
         "Year",
         "Y",
         "Certified"
        ],
        [
         "2",
         "EZYV03",
         "Asia",
         "Bachelor's",
         "N",
         "Y",
         "44444",
         "2008",
         "West",
         "122996.86",
         "Year",
         "Y",
         "Denied"
        ],
        [
         "3",
         "EZYV04",
         "Asia",
         "Bachelor's",
         "N",
         "N",
         "98",
         "1897",
         "West",
         "83434.03",
         "Year",
         "Y",
         "Denied"
        ],
        [
         "4",
         "EZYV05",
         "Africa",
         "Master's",
         "Y",
         "N",
         "1082",
         "2005",
         "South",
         "149907.39",
         "Year",
         "Y",
         "Certified"
        ]
       ],
       "shape": {
        "columns": 12,
        "rows": 5
       }
      },
      "text/html": [
       "<div>\n",
       "<style scoped>\n",
       "    .dataframe tbody tr th:only-of-type {\n",
       "        vertical-align: middle;\n",
       "    }\n",
       "\n",
       "    .dataframe tbody tr th {\n",
       "        vertical-align: top;\n",
       "    }\n",
       "\n",
       "    .dataframe thead th {\n",
       "        text-align: right;\n",
       "    }\n",
       "</style>\n",
       "<table border=\"1\" class=\"dataframe\">\n",
       "  <thead>\n",
       "    <tr style=\"text-align: right;\">\n",
       "      <th></th>\n",
       "      <th>case_id</th>\n",
       "      <th>continent</th>\n",
       "      <th>education_of_employee</th>\n",
       "      <th>has_job_experience</th>\n",
       "      <th>requires_job_training</th>\n",
       "      <th>no_of_employees</th>\n",
       "      <th>yr_of_estab</th>\n",
       "      <th>region_of_employment</th>\n",
       "      <th>prevailing_wage</th>\n",
       "      <th>unit_of_wage</th>\n",
       "      <th>full_time_position</th>\n",
       "      <th>case_status</th>\n",
       "    </tr>\n",
       "  </thead>\n",
       "  <tbody>\n",
       "    <tr>\n",
       "      <th>0</th>\n",
       "      <td>EZYV01</td>\n",
       "      <td>Asia</td>\n",
       "      <td>High School</td>\n",
       "      <td>N</td>\n",
       "      <td>N</td>\n",
       "      <td>14513</td>\n",
       "      <td>2007</td>\n",
       "      <td>West</td>\n",
       "      <td>592.2029</td>\n",
       "      <td>Hour</td>\n",
       "      <td>Y</td>\n",
       "      <td>Denied</td>\n",
       "    </tr>\n",
       "    <tr>\n",
       "      <th>1</th>\n",
       "      <td>EZYV02</td>\n",
       "      <td>Asia</td>\n",
       "      <td>Master's</td>\n",
       "      <td>Y</td>\n",
       "      <td>N</td>\n",
       "      <td>2412</td>\n",
       "      <td>2002</td>\n",
       "      <td>Northeast</td>\n",
       "      <td>83425.6500</td>\n",
       "      <td>Year</td>\n",
       "      <td>Y</td>\n",
       "      <td>Certified</td>\n",
       "    </tr>\n",
       "    <tr>\n",
       "      <th>2</th>\n",
       "      <td>EZYV03</td>\n",
       "      <td>Asia</td>\n",
       "      <td>Bachelor's</td>\n",
       "      <td>N</td>\n",
       "      <td>Y</td>\n",
       "      <td>44444</td>\n",
       "      <td>2008</td>\n",
       "      <td>West</td>\n",
       "      <td>122996.8600</td>\n",
       "      <td>Year</td>\n",
       "      <td>Y</td>\n",
       "      <td>Denied</td>\n",
       "    </tr>\n",
       "    <tr>\n",
       "      <th>3</th>\n",
       "      <td>EZYV04</td>\n",
       "      <td>Asia</td>\n",
       "      <td>Bachelor's</td>\n",
       "      <td>N</td>\n",
       "      <td>N</td>\n",
       "      <td>98</td>\n",
       "      <td>1897</td>\n",
       "      <td>West</td>\n",
       "      <td>83434.0300</td>\n",
       "      <td>Year</td>\n",
       "      <td>Y</td>\n",
       "      <td>Denied</td>\n",
       "    </tr>\n",
       "    <tr>\n",
       "      <th>4</th>\n",
       "      <td>EZYV05</td>\n",
       "      <td>Africa</td>\n",
       "      <td>Master's</td>\n",
       "      <td>Y</td>\n",
       "      <td>N</td>\n",
       "      <td>1082</td>\n",
       "      <td>2005</td>\n",
       "      <td>South</td>\n",
       "      <td>149907.3900</td>\n",
       "      <td>Year</td>\n",
       "      <td>Y</td>\n",
       "      <td>Certified</td>\n",
       "    </tr>\n",
       "  </tbody>\n",
       "</table>\n",
       "</div>"
      ],
      "text/plain": [
       "  case_id continent education_of_employee has_job_experience  \\\n",
       "0  EZYV01      Asia           High School                  N   \n",
       "1  EZYV02      Asia              Master's                  Y   \n",
       "2  EZYV03      Asia            Bachelor's                  N   \n",
       "3  EZYV04      Asia            Bachelor's                  N   \n",
       "4  EZYV05    Africa              Master's                  Y   \n",
       "\n",
       "  requires_job_training  no_of_employees  yr_of_estab region_of_employment  \\\n",
       "0                     N            14513         2007                 West   \n",
       "1                     N             2412         2002            Northeast   \n",
       "2                     Y            44444         2008                 West   \n",
       "3                     N               98         1897                 West   \n",
       "4                     N             1082         2005                South   \n",
       "\n",
       "   prevailing_wage unit_of_wage full_time_position case_status  \n",
       "0         592.2029         Hour                  Y      Denied  \n",
       "1       83425.6500         Year                  Y   Certified  \n",
       "2      122996.8600         Year                  Y      Denied  \n",
       "3       83434.0300         Year                  Y      Denied  \n",
       "4      149907.3900         Year                  Y   Certified  "
      ]
     },
     "execution_count": 6,
     "metadata": {},
     "output_type": "execute_result"
    }
   ],
   "source": [
    "#view the first 5 rows of the data  \n",
    "visa_working.head()"
   ]
  },
  {
   "cell_type": "markdown",
   "id": "accessory-camel",
   "metadata": {
    "id": "accessory-camel"
   },
   "source": [
    "#### Understand the shape of the dataset"
   ]
  },
  {
   "cell_type": "code",
   "execution_count": 13,
   "id": "Ym8ApC21N64n",
   "metadata": {
    "id": "Ym8ApC21N64n"
   },
   "outputs": [
    {
     "name": "stdout",
     "output_type": "stream",
     "text": [
      "The dataset has 25480 rows and 12 columns\n"
     ]
    }
   ],
   "source": [
    "#shape of the data\n",
    "visa_working.shape\n",
    "#Display the number of rows and columns in the dataset\n",
    "print(f\"The dataset has {visa_working.shape[0]} rows and {visa_working.shape[1]} columns\")"
   ]
  },
  {
   "cell_type": "markdown",
   "id": "assigned-berkeley",
   "metadata": {
    "id": "assigned-berkeley"
   },
   "source": [
    "#### Check the data types of the columns for the dataset"
   ]
  },
  {
   "cell_type": "code",
   "execution_count": 14,
   "id": "ekk0QEpXN7im",
   "metadata": {
    "id": "ekk0QEpXN7im"
   },
   "outputs": [
    {
     "data": {
      "application/vnd.microsoft.datawrangler.viewer.v0+json": {
       "columns": [
        {
         "name": "index",
         "rawType": "object",
         "type": "string"
        },
        {
         "name": "0",
         "rawType": "object",
         "type": "string"
        }
       ],
       "ref": "b51eea08-0fb8-4c9a-b527-7a7acf40daa2",
       "rows": [
        [
         "case_id",
         "object"
        ],
        [
         "continent",
         "object"
        ],
        [
         "education_of_employee",
         "object"
        ],
        [
         "has_job_experience",
         "object"
        ],
        [
         "requires_job_training",
         "object"
        ],
        [
         "no_of_employees",
         "int64"
        ],
        [
         "yr_of_estab",
         "int64"
        ],
        [
         "region_of_employment",
         "object"
        ],
        [
         "prevailing_wage",
         "float64"
        ],
        [
         "unit_of_wage",
         "object"
        ],
        [
         "full_time_position",
         "object"
        ],
        [
         "case_status",
         "object"
        ]
       ],
       "shape": {
        "columns": 1,
        "rows": 12
       }
      },
      "text/plain": [
       "case_id                   object\n",
       "continent                 object\n",
       "education_of_employee     object\n",
       "has_job_experience        object\n",
       "requires_job_training     object\n",
       "no_of_employees            int64\n",
       "yr_of_estab                int64\n",
       "region_of_employment      object\n",
       "prevailing_wage          float64\n",
       "unit_of_wage              object\n",
       "full_time_position        object\n",
       "case_status               object\n",
       "dtype: object"
      ]
     },
     "execution_count": 14,
     "metadata": {},
     "output_type": "execute_result"
    }
   ],
   "source": [
    "#checking the data types of the columns\n",
    "visa_working.dtypes"
   ]
  },
  {
   "cell_type": "markdown",
   "id": "standing-horizontal",
   "metadata": {
    "id": "standing-horizontal"
   },
   "source": [
    "## Exploratory Data Analysis (EDA)"
   ]
  },
  {
   "cell_type": "markdown",
   "id": "american-venue",
   "metadata": {
    "id": "american-venue"
   },
   "source": [
    "#### Let's check the statistical summary of the data"
   ]
  },
  {
   "cell_type": "code",
   "execution_count": null,
   "id": "PsJ9MaHRN4U5",
   "metadata": {
    "id": "PsJ9MaHRN4U5"
   },
   "outputs": [],
   "source": []
  },
  {
   "cell_type": "markdown",
   "id": "competent-timing",
   "metadata": {
    "id": "competent-timing"
   },
   "source": [
    "#### Fixing the negative values in number of employees columns"
   ]
  },
  {
   "cell_type": "code",
   "execution_count": null,
   "id": "_ltjRQiBN40d",
   "metadata": {
    "id": "_ltjRQiBN40d"
   },
   "outputs": [],
   "source": []
  },
  {
   "cell_type": "markdown",
   "id": "cutting-bookmark",
   "metadata": {
    "id": "cutting-bookmark"
   },
   "source": [
    "#### Let's check the count of each unique category in each of the categorical variables"
   ]
  },
  {
   "cell_type": "code",
   "execution_count": null,
   "id": "tjT97Rc9N5SC",
   "metadata": {
    "id": "tjT97Rc9N5SC"
   },
   "outputs": [],
   "source": []
  },
  {
   "cell_type": "markdown",
   "id": "wooden-christian",
   "metadata": {
    "id": "wooden-christian"
   },
   "source": [
    "### Univariate Analysis"
   ]
  },
  {
   "cell_type": "code",
   "execution_count": null,
   "id": "superb-springfield",
   "metadata": {
    "id": "superb-springfield"
   },
   "outputs": [],
   "source": [
    "def histogram_boxplot(data, feature, figsize=(15, 10), kde=False, bins=None):\n",
    "    \"\"\"\n",
    "    Boxplot and histogram combined\n",
    "\n",
    "    data: dataframe\n",
    "    feature: dataframe column\n",
    "    figsize: size of figure (default (15,10))\n",
    "    kde: whether to show the density curve (default False)\n",
    "    bins: number of bins for histogram (default None)\n",
    "    \"\"\"\n",
    "    f2, (ax_box2, ax_hist2) = plt.subplots(\n",
    "        nrows=2,  # Number of rows of the subplot grid= 2\n",
    "        sharex=True,  # x-axis will be shared among all subplots\n",
    "        gridspec_kw={\"height_ratios\": (0.25, 0.75)},\n",
    "        figsize=figsize,\n",
    "    )  # creating the 2 subplots\n",
    "    sns.boxplot(\n",
    "        data=data, x=feature, ax=ax_box2, showmeans=True, color=\"violet\"\n",
    "    )  # boxplot will be created and a triangle will indicate the mean value of the column\n",
    "    sns.histplot(\n",
    "        data=data, x=feature, kde=kde, ax=ax_hist2, bins=bins\n",
    "    ) if bins else sns.histplot(\n",
    "        data=data, x=feature, kde=kde, ax=ax_hist2\n",
    "    )  # For histogram\n",
    "    ax_hist2.axvline(\n",
    "        data[feature].mean(), color=\"green\", linestyle=\"--\"\n",
    "    )  # Add mean to the histogram\n",
    "    ax_hist2.axvline(\n",
    "        data[feature].median(), color=\"black\", linestyle=\"-\"\n",
    "    )  # Add median to the histogram"
   ]
  },
  {
   "cell_type": "code",
   "execution_count": null,
   "id": "R59VWoa5Wdbx",
   "metadata": {
    "id": "R59VWoa5Wdbx"
   },
   "outputs": [],
   "source": [
    "# function to create labeled barplots\n",
    "\n",
    "\n",
    "def labeled_barplot(data, feature, perc=False, n=None):\n",
    "    \"\"\"\n",
    "    Barplot with percentage at the top\n",
    "\n",
    "    data: dataframe\n",
    "    feature: dataframe column\n",
    "    perc: whether to display percentages instead of count (default is False)\n",
    "    n: displays the top n category levels (default is None, i.e., display all levels)\n",
    "    \"\"\"\n",
    "\n",
    "    total = len(data[feature])  # length of the column\n",
    "    count = data[feature].nunique()\n",
    "    if n is None:\n",
    "        plt.figure(figsize=(count + 1, 5))\n",
    "    else:\n",
    "        plt.figure(figsize=(n + 1, 5))\n",
    "\n",
    "    plt.xticks(rotation=90, fontsize=15)\n",
    "    ax = sns.countplot(\n",
    "        data=data,\n",
    "        x=feature,\n",
    "        palette=\"Paired\",\n",
    "        order=data[feature].value_counts().index[:n].sort_values(),\n",
    "    )\n",
    "\n",
    "    for p in ax.patches:\n",
    "        if perc == True:\n",
    "            label = \"{:.1f}%\".format(\n",
    "                100 * p.get_height() / total\n",
    "            )  # percentage of each class of the category\n",
    "        else:\n",
    "            label = p.get_height()  # count of each level of the category\n",
    "\n",
    "        x = p.get_x() + p.get_width() / 2  # width of the plot\n",
    "        y = p.get_height()  # height of the plot\n",
    "\n",
    "        ax.annotate(\n",
    "            label,\n",
    "            (x, y),\n",
    "            ha=\"center\",\n",
    "            va=\"center\",\n",
    "            size=12,\n",
    "            xytext=(0, 5),\n",
    "            textcoords=\"offset points\",\n",
    "        )  # annotate the percentage\n",
    "\n",
    "    plt.show()  # show the plot"
   ]
  },
  {
   "cell_type": "markdown",
   "id": "editorial-command",
   "metadata": {
    "id": "editorial-command"
   },
   "source": [
    "#### Observations on education of employee"
   ]
  },
  {
   "cell_type": "code",
   "execution_count": null,
   "id": "8PjkMDRiN1lA",
   "metadata": {
    "id": "8PjkMDRiN1lA"
   },
   "outputs": [],
   "source": []
  },
  {
   "cell_type": "markdown",
   "id": "attempted-burlington",
   "metadata": {
    "id": "attempted-burlington"
   },
   "source": [
    "#### Observations on region of employment"
   ]
  },
  {
   "cell_type": "code",
   "execution_count": null,
   "id": "_eEpcxf4N2GY",
   "metadata": {
    "id": "_eEpcxf4N2GY"
   },
   "outputs": [],
   "source": []
  },
  {
   "cell_type": "markdown",
   "id": "forbidden-kidney",
   "metadata": {
    "id": "forbidden-kidney"
   },
   "source": [
    "#### Observations on job experience"
   ]
  },
  {
   "cell_type": "code",
   "execution_count": null,
   "id": "W2OyS2efN2mw",
   "metadata": {
    "id": "W2OyS2efN2mw"
   },
   "outputs": [],
   "source": []
  },
  {
   "cell_type": "markdown",
   "id": "stunning-surrey",
   "metadata": {
    "id": "stunning-surrey"
   },
   "source": [
    "#### Observations on case status"
   ]
  },
  {
   "cell_type": "code",
   "execution_count": null,
   "id": "0kaXC-PhN3IU",
   "metadata": {
    "id": "0kaXC-PhN3IU"
   },
   "outputs": [],
   "source": []
  },
  {
   "cell_type": "markdown",
   "id": "equivalent-aging",
   "metadata": {
    "id": "equivalent-aging"
   },
   "source": [
    "### Bivariate Analysis"
   ]
  },
  {
   "cell_type": "markdown",
   "id": "blond-convertible",
   "metadata": {
    "id": "blond-convertible"
   },
   "source": [
    "**Creating functions that will help us with further analysis.**"
   ]
  },
  {
   "cell_type": "code",
   "execution_count": null,
   "id": "adaptive-recipient",
   "metadata": {
    "id": "adaptive-recipient"
   },
   "outputs": [],
   "source": [
    "### function to plot distributions wrt target\n",
    "\n",
    "\n",
    "def distribution_plot_wrt_target(data, predictor, target):\n",
    "\n",
    "    fig, axs = plt.subplots(2, 2, figsize=(12, 10))\n",
    "\n",
    "    target_uniq = data[target].unique()\n",
    "\n",
    "    axs[0, 0].set_title(\"Distribution of target for target=\" + str(target_uniq[0]))\n",
    "    sns.histplot(\n",
    "        data=data[data[target] == target_uniq[0]],\n",
    "        x=predictor,\n",
    "        kde=True,\n",
    "        ax=axs[0, 0],\n",
    "        color=\"teal\",\n",
    "        stat=\"density\",\n",
    "    )\n",
    "\n",
    "    axs[0, 1].set_title(\"Distribution of target for target=\" + str(target_uniq[1]))\n",
    "    sns.histplot(\n",
    "        data=data[data[target] == target_uniq[1]],\n",
    "        x=predictor,\n",
    "        kde=True,\n",
    "        ax=axs[0, 1],\n",
    "        color=\"orange\",\n",
    "        stat=\"density\",\n",
    "    )\n",
    "\n",
    "    axs[1, 0].set_title(\"Boxplot w.r.t target\")\n",
    "    sns.boxplot(data=data, x=target, y=predictor, ax=axs[1, 0], palette=\"gist_rainbow\")\n",
    "\n",
    "    axs[1, 1].set_title(\"Boxplot (without outliers) w.r.t target\")\n",
    "    sns.boxplot(\n",
    "        data=data,\n",
    "        x=target,\n",
    "        y=predictor,\n",
    "        ax=axs[1, 1],\n",
    "        showfliers=False,\n",
    "        palette=\"gist_rainbow\",\n",
    "    )\n",
    "\n",
    "    plt.tight_layout()\n",
    "    plt.show()"
   ]
  },
  {
   "cell_type": "code",
   "execution_count": null,
   "id": "third-sheriff",
   "metadata": {
    "id": "third-sheriff"
   },
   "outputs": [],
   "source": [
    "def stacked_barplot(data, predictor, target):\n",
    "    \"\"\"\n",
    "    Print the category counts and plot a stacked bar chart\n",
    "\n",
    "    data: dataframe\n",
    "    predictor: independent variable\n",
    "    target: target variable\n",
    "    \"\"\"\n",
    "    count = data[predictor].nunique()\n",
    "    sorter = data[target].value_counts().index[-1]\n",
    "    tab1 = pd.crosstab(data[predictor], data[target], margins=True).sort_values(\n",
    "        by=sorter, ascending=False\n",
    "    )\n",
    "    print(tab1)\n",
    "    print(\"-\" * 120)\n",
    "    tab = pd.crosstab(data[predictor], data[target], normalize=\"index\").sort_values(\n",
    "        by=sorter, ascending=False\n",
    "    )\n",
    "    tab.plot(kind=\"bar\", stacked=True, figsize=(count + 5, 5))\n",
    "    plt.legend(\n",
    "        loc=\"lower left\", frameon=False,\n",
    "    )\n",
    "    plt.legend(loc=\"upper left\", bbox_to_anchor=(1, 1))\n",
    "    plt.show()"
   ]
  },
  {
   "cell_type": "markdown",
   "id": "dressed-excuse",
   "metadata": {
    "id": "dressed-excuse"
   },
   "source": [
    "#### Does higher education increase the chances of visa certification for well-paid jobs abroad?"
   ]
  },
  {
   "cell_type": "code",
   "execution_count": null,
   "id": "VtZ978lDNxfu",
   "metadata": {
    "id": "VtZ978lDNxfu"
   },
   "outputs": [],
   "source": []
  },
  {
   "cell_type": "markdown",
   "id": "attended-current",
   "metadata": {
    "id": "attended-current"
   },
   "source": [
    "#### How does visa status vary across different continents?"
   ]
  },
  {
   "cell_type": "code",
   "execution_count": null,
   "id": "evbNlj4XNyBe",
   "metadata": {
    "id": "evbNlj4XNyBe"
   },
   "outputs": [],
   "source": []
  },
  {
   "cell_type": "markdown",
   "id": "macro-decrease",
   "metadata": {
    "id": "macro-decrease"
   },
   "source": [
    "#### Does having prior work experience influence the chances of visa certification for career opportunities abroad?"
   ]
  },
  {
   "cell_type": "code",
   "execution_count": null,
   "id": "d3fcf_oGNyfo",
   "metadata": {
    "id": "d3fcf_oGNyfo"
   },
   "outputs": [],
   "source": []
  },
  {
   "cell_type": "markdown",
   "id": "changing-kansas",
   "metadata": {
    "id": "changing-kansas"
   },
   "source": [
    "#### Is the prevailing wage consistent across all regions of the US?"
   ]
  },
  {
   "cell_type": "code",
   "execution_count": null,
   "id": "0FYdlpG5NzEe",
   "metadata": {
    "id": "0FYdlpG5NzEe"
   },
   "outputs": [],
   "source": []
  },
  {
   "cell_type": "markdown",
   "id": "lesser-bacteria",
   "metadata": {
    "id": "lesser-bacteria"
   },
   "source": [
    "#### Does visa status vary with changes in the prevailing wage set to protect both local talent and foreign workers?"
   ]
  },
  {
   "cell_type": "code",
   "execution_count": null,
   "id": "HIr2VsTGNzhA",
   "metadata": {
    "id": "HIr2VsTGNzhA"
   },
   "outputs": [],
   "source": []
  },
  {
   "cell_type": "markdown",
   "id": "suspected-asthma",
   "metadata": {
    "id": "suspected-asthma"
   },
   "source": [
    "#### Does the unit of prevailing wage (Hourly, Weekly, etc.) have any impact on the likelihood of visa application certification?"
   ]
  },
  {
   "cell_type": "code",
   "execution_count": null,
   "id": "KgXcBCf0N0IA",
   "metadata": {
    "id": "KgXcBCf0N0IA"
   },
   "outputs": [],
   "source": []
  },
  {
   "cell_type": "markdown",
   "id": "qBWlk20UBUAx",
   "metadata": {
    "id": "qBWlk20UBUAx"
   },
   "source": [
    "## Data Pre-processing"
   ]
  },
  {
   "cell_type": "markdown",
   "id": "allied-association",
   "metadata": {
    "id": "allied-association"
   },
   "source": [
    "### Outlier Check"
   ]
  },
  {
   "cell_type": "code",
   "execution_count": null,
   "id": "H76eABeDCJWY",
   "metadata": {
    "id": "H76eABeDCJWY"
   },
   "outputs": [],
   "source": []
  },
  {
   "cell_type": "markdown",
   "id": "flexible-independence",
   "metadata": {
    "id": "flexible-independence"
   },
   "source": [
    "### Data Preparation for modeling"
   ]
  },
  {
   "cell_type": "code",
   "execution_count": null,
   "id": "YsRIntveCJ9_",
   "metadata": {
    "id": "YsRIntveCJ9_"
   },
   "outputs": [],
   "source": []
  },
  {
   "cell_type": "markdown",
   "id": "dr7q6-dbfiQB",
   "metadata": {
    "id": "dr7q6-dbfiQB"
   },
   "source": [
    "## Model Building"
   ]
  },
  {
   "cell_type": "markdown",
   "id": "rrlw9AVcqk37",
   "metadata": {
    "id": "rrlw9AVcqk37"
   },
   "source": [
    "### Model Evaluation Criterion"
   ]
  },
  {
   "cell_type": "markdown",
   "id": "vw4vUNvIql3X",
   "metadata": {
    "id": "vw4vUNvIql3X"
   },
   "source": [
    "- Choose the primary metric to evaluate the model on\n",
    "- Elaborate on the rationale behind choosing the metric"
   ]
  },
  {
   "cell_type": "markdown",
   "id": "PepZef6UqpNa",
   "metadata": {
    "id": "PepZef6UqpNa"
   },
   "source": [
    "First, let's create functions to calculate different metrics and confusion matrix so that we don't have to use the same code repeatedly for each model.\n",
    "* The `model_performance_classification_sklearn` function will be used to check the model performance of models.\n",
    "* The `confusion_matrix_sklearn` function will be used to plot the confusion matrix."
   ]
  },
  {
   "cell_type": "code",
   "execution_count": null,
   "id": "mexican-database",
   "metadata": {
    "id": "mexican-database"
   },
   "outputs": [],
   "source": [
    "# defining a function to compute different metrics to check performance of a classification model built using sklearn\n",
    "\n",
    "\n",
    "def model_performance_classification_sklearn(model, predictors, target):\n",
    "    \"\"\"\n",
    "    Function to compute different metrics to check classification model performance\n",
    "\n",
    "    model: classifier\n",
    "    predictors: independent variables\n",
    "    target: dependent variable\n",
    "    \"\"\"\n",
    "\n",
    "    # predicting using the independent variables\n",
    "    pred = model.predict(predictors)\n",
    "\n",
    "    acc = accuracy_score(target, pred)  # to compute Accuracy\n",
    "    recall = recall_score(target, pred)  # to compute Recall\n",
    "    precision = precision_score(target, pred)  # to compute Precision\n",
    "    f1 = f1_score(target, pred)  # to compute F1-score\n",
    "\n",
    "    # creating a dataframe of metrics\n",
    "    df_perf = pd.DataFrame(\n",
    "        {\"Accuracy\": acc, \"Recall\": recall, \"Precision\": precision, \"F1\": f1,},\n",
    "        index=[0],\n",
    "    )\n",
    "\n",
    "    return df_perf"
   ]
  },
  {
   "cell_type": "code",
   "execution_count": null,
   "id": "recreational-topic",
   "metadata": {
    "id": "recreational-topic"
   },
   "outputs": [],
   "source": [
    "def confusion_matrix_sklearn(model, predictors, target):\n",
    "    \"\"\"\n",
    "    To plot the confusion_matrix with percentages\n",
    "\n",
    "    model: classifier\n",
    "    predictors: independent variables\n",
    "    target: dependent variable\n",
    "    \"\"\"\n",
    "    y_pred = model.predict(predictors)\n",
    "    cm = confusion_matrix(target, y_pred)\n",
    "    labels = np.asarray(\n",
    "        [\n",
    "            [\"{0:0.0f}\".format(item) + \"\\n{0:.2%}\".format(item / cm.flatten().sum())]\n",
    "            for item in cm.flatten()\n",
    "        ]\n",
    "    ).reshape(2, 2)\n",
    "\n",
    "    plt.figure(figsize=(6, 4))\n",
    "    sns.heatmap(cm, annot=labels, fmt=\"\")\n",
    "    plt.ylabel(\"True label\")\n",
    "    plt.xlabel(\"Predicted label\")"
   ]
  },
  {
   "cell_type": "markdown",
   "id": "0QZZoxoDcoDm",
   "metadata": {
    "id": "0QZZoxoDcoDm"
   },
   "source": [
    "#### Defining scorer to be used for cross-validation and hyperparameter tuning"
   ]
  },
  {
   "cell_type": "markdown",
   "id": "XWoHuUpjbp0_",
   "metadata": {
    "id": "XWoHuUpjbp0_"
   },
   "source": [
    "**We are now done with pre-processing and evaluation criterion, so let's start building the model.**"
   ]
  },
  {
   "cell_type": "markdown",
   "id": "4fI98GOV0pTY",
   "metadata": {
    "id": "4fI98GOV0pTY"
   },
   "source": [
    "### Model building with Original data"
   ]
  },
  {
   "cell_type": "code",
   "execution_count": null,
   "id": "vOPuYn7dCGjx",
   "metadata": {
    "id": "vOPuYn7dCGjx"
   },
   "outputs": [],
   "source": []
  },
  {
   "cell_type": "markdown",
   "id": "C91_6Swtbp1A",
   "metadata": {
    "id": "C91_6Swtbp1A"
   },
   "source": [
    "### Model Building with Oversampled data"
   ]
  },
  {
   "cell_type": "code",
   "execution_count": null,
   "id": "PzWwDZrwCHJJ",
   "metadata": {
    "id": "PzWwDZrwCHJJ"
   },
   "outputs": [],
   "source": []
  },
  {
   "cell_type": "markdown",
   "id": "fYLfDmHvbp1B",
   "metadata": {
    "id": "fYLfDmHvbp1B"
   },
   "source": [
    "### Model Building with Undersampled data"
   ]
  },
  {
   "cell_type": "code",
   "execution_count": null,
   "id": "LAvFgREaCHqm",
   "metadata": {
    "id": "LAvFgREaCHqm"
   },
   "outputs": [],
   "source": []
  },
  {
   "cell_type": "markdown",
   "id": "Cg_OREBD1NOy",
   "metadata": {
    "id": "Cg_OREBD1NOy"
   },
   "source": [
    "## Hyperparameter Tuning"
   ]
  },
  {
   "cell_type": "markdown",
   "id": "nVuzJqcU8cd0",
   "metadata": {
    "id": "nVuzJqcU8cd0"
   },
   "source": [
    "**Best practices for hyperparameter tuning in AdaBoost:**\n",
    "\n",
    "`n_estimators`:\n",
    "\n",
    "- Start with a specific number (50 is used in general) and increase in steps: 50, 75, 85, 100\n",
    "\n",
    "- Use fewer estimators (e.g., 50 to 100) if using complex base learners (like deeper decision trees)\n",
    "\n",
    "- Use more estimators (e.g., 100 to 150) when learning rate is low (e.g., 0.1 or lower)\n",
    "\n",
    "- Avoid very high values unless performance keeps improving on validation\n",
    "\n",
    "`learning_rate`:\n",
    "\n",
    "- Common values to try: 1.0, 0.5, 0.1, 0.01\n",
    "\n",
    "- Use 1.0 for faster training, suitable for fewer estimators\n",
    "\n",
    "- Use 0.1 or 0.01 when using more estimators to improve generalization\n",
    "\n",
    "- Avoid very small values (< 0.01) unless you plan to use many estimators (e.g., >500) and have sufficient data\n",
    "\n",
    "\n",
    "---"
   ]
  },
  {
   "cell_type": "markdown",
   "id": "cciBaj3v8dSs",
   "metadata": {
    "id": "cciBaj3v8dSs"
   },
   "source": [
    "**Best practices for hyperparameter tuning in Random Forest:**\n",
    "\n",
    "\n",
    "`n_estimators`:\n",
    "\n",
    "* Start with a specific number (50 is used in general) and increase in steps: 50, 75, 100, 125\n",
    "* Higher values generally improve performance but increase training time\n",
    "* Use 100-150 for large datasets or when variance is high\n",
    "\n",
    "\n",
    "`min_samples_leaf`:\n",
    "\n",
    "* Try values like: 1, 2, 4, 5, 10\n",
    "* Higher values reduce model complexity and help prevent overfitting\n",
    "* Use 1–2 for low-bias models, higher (like 5 or 10) for more regularized models\n",
    "* Works well in noisy datasets to smooth predictions\n",
    "\n",
    "\n",
    "`max_features`:\n",
    "\n",
    "* Try values: `\"sqrt\"` (default for classification), `\"log2\"`, `None`, or float values (e.g., `0.3`, `0.5`)\n",
    "* `\"sqrt\"` balances between diversity and performance for classification tasks\n",
    "* Lower values (e.g., `0.3`) increase tree diversity, reducing overfitting\n",
    "* Higher values (closer to `1.0`) may capture more interactions but risk overfitting\n",
    "\n",
    "\n",
    "`max_samples` (for bootstrap sampling):\n",
    "\n",
    "* Try float values between `0.5` to `1.0` or fixed integers\n",
    "* Use `0.6–0.9` to introduce randomness and reduce overfitting\n",
    "* Smaller values increase diversity between trees, improving generalization\n",
    "\n",
    "---"
   ]
  },
  {
   "cell_type": "markdown",
   "id": "EvIBMJe-8gEm",
   "metadata": {
    "id": "EvIBMJe-8gEm"
   },
   "source": [
    "**Best practices for hyperparameter tuning in Gradient Boosting:**\n",
    "\n",
    "`n_estimators`:\n",
    "\n",
    "* Start with 100 (default) and increase: 100, 200, 300, 500\n",
    "* Typically, higher values lead to better performance, but they also increase training time\n",
    "* Use 200–500 for larger datasets or complex problems\n",
    "* Monitor validation performance to avoid overfitting, as too many estimators can degrade generalization\n",
    "\n",
    "\n",
    "`learning_rate`:\n",
    "\n",
    "* Common values to try: 0.1, 0.05, 0.01, 0.005\n",
    "* Use lower values (e.g., 0.01 or 0.005) if you are using many estimators (e.g., > 200)\n",
    "* Higher learning rates (e.g., 0.1) can be used with fewer estimators for faster convergence\n",
    "* Always balance the learning rate with `n_estimators` to prevent overfitting or underfitting\n",
    "\n",
    "\n",
    "`subsample`:\n",
    "\n",
    "* Common values: 0.7, 0.8, 0.9, 1.0\n",
    "* Use a value between `0.7` and `0.9` for improved generalization by introducing randomness\n",
    "* `1.0` uses the full dataset for each boosting round, potentially leading to overfitting\n",
    "* Reducing `subsample` can help reduce overfitting, especially in smaller datasets\n",
    "\n",
    "\n",
    "`max_features`:\n",
    "\n",
    "* Common values: `\"sqrt\"`, `\"log2\"`, or float (e.g., `0.3`, `0.5`)\n",
    "* `\"sqrt\"` (default) works well for classification tasks\n",
    "* Lower values (e.g., `0.3`) help reduce overfitting by limiting the number of features considered at each split\n",
    "\n",
    "---"
   ]
  },
  {
   "cell_type": "markdown",
   "id": "A17AkKJU8iuM",
   "metadata": {
    "id": "A17AkKJU8iuM"
   },
   "source": [
    "**Best practices for hyperparameter tuning in XGBoost:**\n",
    "\n",
    "`n_estimators`:\n",
    "\n",
    "* Start with 50 and increase in steps: 50,75,100,125.\n",
    "* Use more estimators (e.g., 150-250) when using lower learning rates\n",
    "* Monitor validation performance\n",
    "* High values improve learning but increase training time\n",
    "\n",
    "`subsample`:\n",
    "\n",
    "* Common values: 0.5, 0.7, 0.8, 1.0\n",
    "* Use `0.7–0.9` to introduce randomness and reduce overfitting\n",
    "* `1.0` uses the full dataset in each boosting round; may overfit on small datasets\n",
    "* Values < 0.5 are rarely useful unless dataset is very large\n",
    "\n",
    "`gamma`:\n",
    "\n",
    "* Try values: 0 (default), 1, 3, 5, 8\n",
    "* Controls minimum loss reduction needed for a split\n",
    "* Higher values make the algorithm more conservative (i.e., fewer splits)\n",
    "* Use values > 0 to regularize and reduce overfitting, especially on noisy data\n",
    "\n",
    "\n",
    "`colsample_bytree`:\n",
    "\n",
    "* Try values: 0.3, 0.5, 0.7, 1.0\n",
    "* Fraction of features sampled per tree\n",
    "* Lower values (e.g., 0.3 or 0.5) increase randomness and improve generalization\n",
    "* Use `1.0` when you want all features considered for every tree\n",
    "\n",
    "\n",
    "`colsample_bylevel`:\n",
    "\n",
    "* Try values: 0.3, 0.5, 0.7, 1.0\n",
    "* Fraction of features sampled at each tree level (i.e., per split depth)\n",
    "* Lower values help in regularization and reducing overfitting\n",
    "* Often used in combination with `colsample_bytree` for fine control over feature sampling\n",
    "\n",
    "---"
   ]
  },
  {
   "cell_type": "code",
   "execution_count": null,
   "id": "Wyi8RcInCDDE",
   "metadata": {
    "id": "Wyi8RcInCDDE"
   },
   "outputs": [],
   "source": []
  },
  {
   "cell_type": "markdown",
   "id": "D9JNnpxa4jau",
   "metadata": {
    "id": "D9JNnpxa4jau"
   },
   "source": [
    "## Model Performance Summary and Final Model Selection"
   ]
  },
  {
   "cell_type": "code",
   "execution_count": null,
   "id": "jYiaUm-UCB_y",
   "metadata": {
    "id": "jYiaUm-UCB_y"
   },
   "outputs": [],
   "source": []
  },
  {
   "cell_type": "markdown",
   "id": "congressional-knock",
   "metadata": {
    "id": "congressional-knock"
   },
   "source": [
    "## Actionable Insights and Recommendations"
   ]
  },
  {
   "cell_type": "markdown",
   "id": "Y2HdXLmSJi8K",
   "metadata": {
    "id": "Y2HdXLmSJi8K"
   },
   "source": [
    "<font size=6 color='blue'>Power Ahead</font>\n",
    "___"
   ]
  }
 ],
 "metadata": {
  "colab": {
   "collapsed_sections": [
    "yZvo8CHcetWN",
    "empty-shanghai",
    "Lm7obbsV_RUT",
    "thorough-passion",
    "mq-1s9p-_aKl",
    "wooden-christian",
    "qBWlk20UBUAx",
    "D9JNnpxa4jau",
    "congressional-knock"
   ],
   "provenance": []
  },
  "kernelspec": {
   "display_name": "Python 3",
   "name": "python3"
  },
  "language_info": {
   "codemirror_mode": {
    "name": "ipython",
    "version": 3
   },
   "file_extension": ".py",
   "mimetype": "text/x-python",
   "name": "python",
   "nbconvert_exporter": "python",
   "pygments_lexer": "ipython3",
   "version": "3.11.9"
  }
 },
 "nbformat": 4,
 "nbformat_minor": 5
}
