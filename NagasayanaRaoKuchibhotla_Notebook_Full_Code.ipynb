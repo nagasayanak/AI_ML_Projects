{
  "cells": [
    {
      "cell_type": "markdown",
      "metadata": {
        "id": "Gc8x8QimJY_H"
      },
      "source": [
        "# Project Python Foundations: FoodHub Data Analysis"
      ]
    },
    {
      "cell_type": "markdown",
      "metadata": {
        "id": "NqikjkWwJY_L"
      },
      "source": [
        "### Context\n",
        "\n",
        "The number of restaurants in New York is increasing day by day. Lots of students and busy professionals rely on those restaurants due to their hectic lifestyles. Online food delivery service is a great option for them. It provides them with good food from their favorite restaurants. A food aggregator company FoodHub offers access to multiple restaurants through a single smartphone app.\n",
        "\n",
        "The app allows the restaurants to receive a direct online order from a customer. The app assigns a delivery person from the company to pick up the order after it is confirmed by the restaurant. The delivery person then uses the map to reach the restaurant and waits for the food package. Once the food package is handed over to the delivery person, he/she confirms the pick-up in the app and travels to the customer's location to deliver the food. The delivery person confirms the drop-off in the app after delivering the food package to the customer. The customer can rate the order in the app. The food aggregator earns money by collecting a fixed margin of the delivery order from the restaurants.\n",
        "\n",
        "### Objective\n",
        "\n",
        "The food aggregator company has stored the data of the different orders made by the registered customers in their online portal. They want to analyze the data to get a fair idea about the demand of different restaurants which will help them in enhancing their customer experience. Suppose you are hired as a Data Scientist in this company and the Data Science team has shared some of the key questions that need to be answered. Perform the data analysis to find answers to these questions that will help the company to improve the business.\n",
        "\n",
        "### Data Description\n",
        "\n",
        "The data contains the different data related to a food order. The detailed data dictionary is given below.\n",
        "\n",
        "### Data Dictionary\n",
        "\n",
        "* order_id: Unique ID of the order\n",
        "* customer_id: ID of the customer who ordered the food\n",
        "* restaurant_name: Name of the restaurant\n",
        "* cuisine_type: Cuisine ordered by the customer\n",
        "* cost_of_the_order: Cost of the order\n",
        "* day_of_the_week: Indicates whether the order is placed on a weekday or weekend (The weekday is from Monday to Friday and the weekend is Saturday and Sunday)\n",
        "* rating: Rating given by the customer out of 5\n",
        "* food_preparation_time: Time (in minutes) taken by the restaurant to prepare the food. This is calculated by taking the difference between the timestamps of the restaurant's order confirmation and the delivery person's pick-up confirmation.\n",
        "* delivery_time: Time (in minutes) taken by the delivery person to deliver the food package. This is calculated by taking the difference between the timestamps of the delivery person's pick-up confirmation and drop-off information"
      ]
    },
    {
      "cell_type": "markdown",
      "metadata": {
        "id": "cEtNUxNAJY_M"
      },
      "source": [
        "### Let us start by importing the required libraries"
      ]
    },
    {
      "cell_type": "code",
      "execution_count": 1,
      "metadata": {
        "id": "_aG-ZzhYXs_1"
      },
      "outputs": [
        {
          "name": "stdout",
          "output_type": "stream",
          "text": [
            "Note: you may need to restart the kernel to use updated packages.\n"
          ]
        }
      ],
      "source": [
        "# Installing the libraries with the specified version.\n",
        "%pip install numpy==1.25.2 pandas==1.5.3 matplotlib==3.7.1 seaborn==0.13.1 -q --user"
      ]
    },
    {
      "cell_type": "markdown",
      "metadata": {
        "id": "7ueES9WOzI5X"
      },
      "source": [
        "**Note**: *After running the above cell, kindly restart the notebook kernel and run all cells sequentially from the start again.*"
      ]
    },
    {
      "cell_type": "code",
      "execution_count": 2,
      "metadata": {
        "id": "u6PlpJAPJY_N"
      },
      "outputs": [],
      "source": [
        "# import libraries for data manipulation\n",
        "import numpy as np\n",
        "import pandas as pd\n",
        "\n",
        "# import libraries for data visualization\n",
        "import matplotlib.pyplot as plt\n",
        "import seaborn as sns"
      ]
    },
    {
      "cell_type": "markdown",
      "metadata": {
        "id": "AdracY0HJY_O"
      },
      "source": [
        "### Understanding the structure of the data"
      ]
    },
    {
      "cell_type": "code",
      "execution_count": 3,
      "metadata": {
        "id": "WBh2ZGB9kFhU"
      },
      "outputs": [],
      "source": [
        "# uncomment and run the following lines for Google Colab\n",
        "# from google.colab import drive\n",
        "# drive.mount('/content/drive')"
      ]
    },
    {
      "cell_type": "markdown",
      "metadata": {},
      "source": [
        "This markdown has been added by Nagasayana Rao Kuchibhotla, to inform that the code is being run locally using VS Code and not in Google Colab.\n",
        "The files are saved locally but available in the GitHub repository at https://github.com/nagasayanak/AI_ML_Projects.git"
      ]
    },
    {
      "cell_type": "code",
      "execution_count": 4,
      "metadata": {
        "id": "GF01IZDbJY_O",
        "scrolled": true
      },
      "outputs": [
        {
          "data": {
            "application/vnd.microsoft.datawrangler.viewer.v0+json": {
              "columns": [
                {
                  "name": "index",
                  "rawType": "int64",
                  "type": "integer"
                },
                {
                  "name": "order_id",
                  "rawType": "int64",
                  "type": "integer"
                },
                {
                  "name": "customer_id",
                  "rawType": "int64",
                  "type": "integer"
                },
                {
                  "name": "restaurant_name",
                  "rawType": "object",
                  "type": "string"
                },
                {
                  "name": "cuisine_type",
                  "rawType": "object",
                  "type": "string"
                },
                {
                  "name": "cost_of_the_order",
                  "rawType": "float64",
                  "type": "float"
                },
                {
                  "name": "day_of_the_week",
                  "rawType": "object",
                  "type": "string"
                },
                {
                  "name": "rating",
                  "rawType": "object",
                  "type": "string"
                },
                {
                  "name": "food_preparation_time",
                  "rawType": "int64",
                  "type": "integer"
                },
                {
                  "name": "delivery_time",
                  "rawType": "int64",
                  "type": "integer"
                }
              ],
              "ref": "db28ba67-a98d-4f0e-9c77-84be549705fa",
              "rows": [
                [
                  "0",
                  "1477147",
                  "337525",
                  "Hangawi",
                  "Korean",
                  "30.75",
                  "Weekend",
                  "Not given",
                  "25",
                  "20"
                ],
                [
                  "1",
                  "1477685",
                  "358141",
                  "Blue Ribbon Sushi Izakaya",
                  "Japanese",
                  "12.08",
                  "Weekend",
                  "Not given",
                  "25",
                  "23"
                ],
                [
                  "2",
                  "1477070",
                  "66393",
                  "Cafe Habana",
                  "Mexican",
                  "12.23",
                  "Weekday",
                  "5",
                  "23",
                  "28"
                ],
                [
                  "3",
                  "1477334",
                  "106968",
                  "Blue Ribbon Fried Chicken",
                  "American",
                  "29.2",
                  "Weekend",
                  "3",
                  "25",
                  "15"
                ],
                [
                  "4",
                  "1478249",
                  "76942",
                  "Dirty Bird to Go",
                  "American",
                  "11.59",
                  "Weekday",
                  "4",
                  "25",
                  "24"
                ],
                [
                  "5",
                  "1477224",
                  "147468",
                  "Tamarind TriBeCa",
                  "Indian",
                  "25.22",
                  "Weekday",
                  "3",
                  "20",
                  "24"
                ],
                [
                  "6",
                  "1477894",
                  "157711",
                  "The Meatball Shop",
                  "Italian",
                  "6.07",
                  "Weekend",
                  "Not given",
                  "28",
                  "21"
                ],
                [
                  "7",
                  "1477859",
                  "89574",
                  "Barbounia",
                  "Mediterranean",
                  "5.97",
                  "Weekday",
                  "3",
                  "33",
                  "30"
                ],
                [
                  "8",
                  "1477174",
                  "121706",
                  "Anjappar Chettinad",
                  "Indian",
                  "16.44",
                  "Weekday",
                  "5",
                  "21",
                  "26"
                ],
                [
                  "9",
                  "1477311",
                  "39705",
                  "Bukhara Grill",
                  "Indian",
                  "7.18",
                  "Weekday",
                  "5",
                  "29",
                  "26"
                ],
                [
                  "10",
                  "1477895",
                  "143926",
                  "Big Wong Restaurant _¤¾Ñ¼",
                  "Chinese",
                  "5.92",
                  "Weekday",
                  "Not given",
                  "34",
                  "28"
                ],
                [
                  "11",
                  "1478437",
                  "221206",
                  "Empanada Mama (closed)",
                  "Mexican",
                  "8.1",
                  "Weekend",
                  "5",
                  "23",
                  "22"
                ],
                [
                  "12",
                  "1476966",
                  "129969",
                  "Blue Ribbon Fried Chicken",
                  "American",
                  "24.3",
                  "Weekend",
                  "5",
                  "23",
                  "17"
                ],
                [
                  "13",
                  "1477449",
                  "104548",
                  "Pylos",
                  "Mediterranean",
                  "11.3",
                  "Weekend",
                  "3",
                  "24",
                  "23"
                ],
                [
                  "14",
                  "1478198",
                  "62667",
                  "Lucky's Famous Burgers",
                  "American",
                  "12.13",
                  "Weekday",
                  "Not given",
                  "23",
                  "30"
                ],
                [
                  "15",
                  "1477414",
                  "66222",
                  "Shake Shack",
                  "American",
                  "16.2",
                  "Weekend",
                  "5",
                  "33",
                  "25"
                ],
                [
                  "16",
                  "1477486",
                  "104555",
                  "Sushi of Gari",
                  "Japanese",
                  "16.98",
                  "Weekend",
                  "Not given",
                  "30",
                  "16"
                ],
                [
                  "17",
                  "1477373",
                  "139885",
                  "Blue Ribbon Sushi Izakaya",
                  "Japanese",
                  "33.03",
                  "Weekend",
                  "Not given",
                  "21",
                  "22"
                ],
                [
                  "18",
                  "1477138",
                  "47280",
                  "RedFarm Hudson",
                  "Chinese",
                  "14.12",
                  "Weekend",
                  "4",
                  "25",
                  "24"
                ],
                [
                  "19",
                  "1477354",
                  "67487",
                  "Blue Ribbon Sushi",
                  "Japanese",
                  "16.2",
                  "Weekend",
                  "4",
                  "35",
                  "26"
                ],
                [
                  "20",
                  "1478296",
                  "250494",
                  "Five Guys Burgers and Fries",
                  "American",
                  "24.2",
                  "Weekend",
                  "4",
                  "21",
                  "24"
                ],
                [
                  "21",
                  "1478226",
                  "137565",
                  "Shake Shack",
                  "American",
                  "15.91",
                  "Weekend",
                  "Not given",
                  "25",
                  "20"
                ],
                [
                  "22",
                  "1478287",
                  "150599",
                  "Shake Shack",
                  "American",
                  "29.1",
                  "Weekday",
                  "5",
                  "21",
                  "30"
                ],
                [
                  "23",
                  "1478014",
                  "54630",
                  "Tortaria",
                  "Mexican",
                  "8.92",
                  "Weekend",
                  "Not given",
                  "33",
                  "16"
                ],
                [
                  "24",
                  "1476714",
                  "363783",
                  "Cafe Mogador",
                  "Middle Eastern",
                  "15.86",
                  "Weekday",
                  "Not given",
                  "32",
                  "29"
                ],
                [
                  "25",
                  "1476693",
                  "41877",
                  "Cafe Mogador",
                  "Middle Eastern",
                  "29.1",
                  "Weekday",
                  "5",
                  "20",
                  "29"
                ],
                [
                  "26",
                  "1476995",
                  "371590",
                  "The Meatball Shop",
                  "Italian",
                  "21.88",
                  "Weekday",
                  "5",
                  "24",
                  "27"
                ],
                [
                  "27",
                  "1476844",
                  "175290",
                  "Otto Enoteca Pizzeria",
                  "Italian",
                  "14.02",
                  "Weekend",
                  "Not given",
                  "24",
                  "16"
                ],
                [
                  "28",
                  "1477015",
                  "76686",
                  "Vezzo Thin Crust Pizza",
                  "Italian",
                  "9.17",
                  "Weekend",
                  "Not given",
                  "21",
                  "24"
                ],
                [
                  "29",
                  "1476889",
                  "149984",
                  "Sushi of Gari 46",
                  "Japanese",
                  "12.18",
                  "Weekday",
                  "Not given",
                  "20",
                  "29"
                ],
                [
                  "30",
                  "1478289",
                  "318874",
                  "The Kati Roll Company",
                  "Indian",
                  "31.33",
                  "Weekend",
                  "5",
                  "28",
                  "25"
                ],
                [
                  "31",
                  "1477699",
                  "302790",
                  "Klong",
                  "Thai",
                  "29.05",
                  "Weekend",
                  "5",
                  "35",
                  "24"
                ],
                [
                  "32",
                  "1476855",
                  "317794",
                  "5 Napkin Burger",
                  "American",
                  "8.39",
                  "Weekday",
                  "Not given",
                  "35",
                  "24"
                ],
                [
                  "33",
                  "1477748",
                  "105349",
                  "TAO",
                  "Japanese",
                  "9.12",
                  "Weekend",
                  "Not given",
                  "34",
                  "18"
                ],
                [
                  "34",
                  "1478244",
                  "181782",
                  "Parm",
                  "Italian",
                  "29.1",
                  "Weekend",
                  "5",
                  "30",
                  "26"
                ],
                [
                  "35",
                  "1478310",
                  "65224",
                  "Sushi Samba",
                  "Japanese",
                  "15.47",
                  "Weekend",
                  "Not given",
                  "32",
                  "26"
                ],
                [
                  "36",
                  "1478017",
                  "148649",
                  "Blue Ribbon Sushi",
                  "Japanese",
                  "16.01",
                  "Weekday",
                  "4",
                  "23",
                  "31"
                ],
                [
                  "37",
                  "1476871",
                  "118709",
                  "The Meatball Shop",
                  "Italian",
                  "24.3",
                  "Weekday",
                  "4",
                  "31",
                  "29"
                ],
                [
                  "38",
                  "1477999",
                  "208020",
                  "Haru Gramercy Park",
                  "Japanese",
                  "29.83",
                  "Weekday",
                  "5",
                  "20",
                  "32"
                ],
                [
                  "39",
                  "1476891",
                  "220693",
                  "Shake Shack",
                  "American",
                  "19.89",
                  "Weekend",
                  "Not given",
                  "27",
                  "19"
                ],
                [
                  "40",
                  "1477425",
                  "378482",
                  "Chipotle Mexican Grill $1.99 Delivery",
                  "Mexican",
                  "19.35",
                  "Weekend",
                  "4",
                  "21",
                  "18"
                ],
                [
                  "41",
                  "1478143",
                  "337525",
                  "TAO",
                  "Japanese",
                  "33.22",
                  "Weekend",
                  "Not given",
                  "23",
                  "19"
                ],
                [
                  "42",
                  "1477267",
                  "133637",
                  "RedFarm Broadway",
                  "Chinese",
                  "24.25",
                  "Weekend",
                  "5",
                  "22",
                  "15"
                ],
                [
                  "43",
                  "1477728",
                  "107909",
                  "Cafeteria",
                  "American",
                  "16.44",
                  "Weekend",
                  "Not given",
                  "33",
                  "22"
                ],
                [
                  "44",
                  "1476908",
                  "365237",
                  "Five Guys Burgers and Fries",
                  "American",
                  "22.75",
                  "Weekend",
                  "5",
                  "30",
                  "20"
                ],
                [
                  "45",
                  "1476581",
                  "322162",
                  "The Meatball Shop",
                  "Italian",
                  "6.74",
                  "Weekend",
                  "5",
                  "29",
                  "23"
                ],
                [
                  "46",
                  "1476930",
                  "198802",
                  "DuMont Burger",
                  "American",
                  "29.05",
                  "Weekend",
                  "5",
                  "22",
                  "30"
                ],
                [
                  "47",
                  "1477621",
                  "122864",
                  "Sarabeth's East",
                  "American",
                  "13.78",
                  "Weekend",
                  "4",
                  "34",
                  "24"
                ],
                [
                  "48",
                  "1478354",
                  "52037",
                  "Blue Ribbon Fried Chicken",
                  "American",
                  "19.89",
                  "Weekday",
                  "Not given",
                  "27",
                  "24"
                ],
                [
                  "49",
                  "1477251",
                  "81110",
                  "Hill Country Fried Chicken",
                  "Southern",
                  "16.93",
                  "Weekend",
                  "5",
                  "33",
                  "21"
                ]
              ],
              "shape": {
                "columns": 9,
                "rows": 1898
              }
            },
            "text/html": [
              "<div>\n",
              "<style scoped>\n",
              "    .dataframe tbody tr th:only-of-type {\n",
              "        vertical-align: middle;\n",
              "    }\n",
              "\n",
              "    .dataframe tbody tr th {\n",
              "        vertical-align: top;\n",
              "    }\n",
              "\n",
              "    .dataframe thead th {\n",
              "        text-align: right;\n",
              "    }\n",
              "</style>\n",
              "<table border=\"1\" class=\"dataframe\">\n",
              "  <thead>\n",
              "    <tr style=\"text-align: right;\">\n",
              "      <th></th>\n",
              "      <th>order_id</th>\n",
              "      <th>customer_id</th>\n",
              "      <th>restaurant_name</th>\n",
              "      <th>cuisine_type</th>\n",
              "      <th>cost_of_the_order</th>\n",
              "      <th>day_of_the_week</th>\n",
              "      <th>rating</th>\n",
              "      <th>food_preparation_time</th>\n",
              "      <th>delivery_time</th>\n",
              "    </tr>\n",
              "  </thead>\n",
              "  <tbody>\n",
              "    <tr>\n",
              "      <th>0</th>\n",
              "      <td>1477147</td>\n",
              "      <td>337525</td>\n",
              "      <td>Hangawi</td>\n",
              "      <td>Korean</td>\n",
              "      <td>30.75</td>\n",
              "      <td>Weekend</td>\n",
              "      <td>Not given</td>\n",
              "      <td>25</td>\n",
              "      <td>20</td>\n",
              "    </tr>\n",
              "    <tr>\n",
              "      <th>1</th>\n",
              "      <td>1477685</td>\n",
              "      <td>358141</td>\n",
              "      <td>Blue Ribbon Sushi Izakaya</td>\n",
              "      <td>Japanese</td>\n",
              "      <td>12.08</td>\n",
              "      <td>Weekend</td>\n",
              "      <td>Not given</td>\n",
              "      <td>25</td>\n",
              "      <td>23</td>\n",
              "    </tr>\n",
              "    <tr>\n",
              "      <th>2</th>\n",
              "      <td>1477070</td>\n",
              "      <td>66393</td>\n",
              "      <td>Cafe Habana</td>\n",
              "      <td>Mexican</td>\n",
              "      <td>12.23</td>\n",
              "      <td>Weekday</td>\n",
              "      <td>5</td>\n",
              "      <td>23</td>\n",
              "      <td>28</td>\n",
              "    </tr>\n",
              "    <tr>\n",
              "      <th>3</th>\n",
              "      <td>1477334</td>\n",
              "      <td>106968</td>\n",
              "      <td>Blue Ribbon Fried Chicken</td>\n",
              "      <td>American</td>\n",
              "      <td>29.20</td>\n",
              "      <td>Weekend</td>\n",
              "      <td>3</td>\n",
              "      <td>25</td>\n",
              "      <td>15</td>\n",
              "    </tr>\n",
              "    <tr>\n",
              "      <th>4</th>\n",
              "      <td>1478249</td>\n",
              "      <td>76942</td>\n",
              "      <td>Dirty Bird to Go</td>\n",
              "      <td>American</td>\n",
              "      <td>11.59</td>\n",
              "      <td>Weekday</td>\n",
              "      <td>4</td>\n",
              "      <td>25</td>\n",
              "      <td>24</td>\n",
              "    </tr>\n",
              "    <tr>\n",
              "      <th>...</th>\n",
              "      <td>...</td>\n",
              "      <td>...</td>\n",
              "      <td>...</td>\n",
              "      <td>...</td>\n",
              "      <td>...</td>\n",
              "      <td>...</td>\n",
              "      <td>...</td>\n",
              "      <td>...</td>\n",
              "      <td>...</td>\n",
              "    </tr>\n",
              "    <tr>\n",
              "      <th>1893</th>\n",
              "      <td>1476701</td>\n",
              "      <td>292602</td>\n",
              "      <td>Chipotle Mexican Grill $1.99 Delivery</td>\n",
              "      <td>Mexican</td>\n",
              "      <td>22.31</td>\n",
              "      <td>Weekend</td>\n",
              "      <td>5</td>\n",
              "      <td>31</td>\n",
              "      <td>17</td>\n",
              "    </tr>\n",
              "    <tr>\n",
              "      <th>1894</th>\n",
              "      <td>1477421</td>\n",
              "      <td>397537</td>\n",
              "      <td>The Smile</td>\n",
              "      <td>American</td>\n",
              "      <td>12.18</td>\n",
              "      <td>Weekend</td>\n",
              "      <td>5</td>\n",
              "      <td>31</td>\n",
              "      <td>19</td>\n",
              "    </tr>\n",
              "    <tr>\n",
              "      <th>1895</th>\n",
              "      <td>1477819</td>\n",
              "      <td>35309</td>\n",
              "      <td>Blue Ribbon Sushi</td>\n",
              "      <td>Japanese</td>\n",
              "      <td>25.22</td>\n",
              "      <td>Weekday</td>\n",
              "      <td>Not given</td>\n",
              "      <td>31</td>\n",
              "      <td>24</td>\n",
              "    </tr>\n",
              "    <tr>\n",
              "      <th>1896</th>\n",
              "      <td>1477513</td>\n",
              "      <td>64151</td>\n",
              "      <td>Jack's Wife Freda</td>\n",
              "      <td>Mediterranean</td>\n",
              "      <td>12.18</td>\n",
              "      <td>Weekday</td>\n",
              "      <td>5</td>\n",
              "      <td>23</td>\n",
              "      <td>31</td>\n",
              "    </tr>\n",
              "    <tr>\n",
              "      <th>1897</th>\n",
              "      <td>1478056</td>\n",
              "      <td>120353</td>\n",
              "      <td>Blue Ribbon Sushi</td>\n",
              "      <td>Japanese</td>\n",
              "      <td>19.45</td>\n",
              "      <td>Weekend</td>\n",
              "      <td>Not given</td>\n",
              "      <td>28</td>\n",
              "      <td>24</td>\n",
              "    </tr>\n",
              "  </tbody>\n",
              "</table>\n",
              "<p>1898 rows × 9 columns</p>\n",
              "</div>"
            ],
            "text/plain": [
              "      order_id  customer_id                        restaurant_name  \\\n",
              "0      1477147       337525                                Hangawi   \n",
              "1      1477685       358141              Blue Ribbon Sushi Izakaya   \n",
              "2      1477070        66393                            Cafe Habana   \n",
              "3      1477334       106968              Blue Ribbon Fried Chicken   \n",
              "4      1478249        76942                       Dirty Bird to Go   \n",
              "...        ...          ...                                    ...   \n",
              "1893   1476701       292602  Chipotle Mexican Grill $1.99 Delivery   \n",
              "1894   1477421       397537                              The Smile   \n",
              "1895   1477819        35309                      Blue Ribbon Sushi   \n",
              "1896   1477513        64151                      Jack's Wife Freda   \n",
              "1897   1478056       120353                      Blue Ribbon Sushi   \n",
              "\n",
              "       cuisine_type  cost_of_the_order day_of_the_week     rating  \\\n",
              "0            Korean              30.75         Weekend  Not given   \n",
              "1          Japanese              12.08         Weekend  Not given   \n",
              "2           Mexican              12.23         Weekday          5   \n",
              "3          American              29.20         Weekend          3   \n",
              "4          American              11.59         Weekday          4   \n",
              "...             ...                ...             ...        ...   \n",
              "1893        Mexican              22.31         Weekend          5   \n",
              "1894       American              12.18         Weekend          5   \n",
              "1895       Japanese              25.22         Weekday  Not given   \n",
              "1896  Mediterranean              12.18         Weekday          5   \n",
              "1897       Japanese              19.45         Weekend  Not given   \n",
              "\n",
              "      food_preparation_time  delivery_time  \n",
              "0                        25             20  \n",
              "1                        25             23  \n",
              "2                        23             28  \n",
              "3                        25             15  \n",
              "4                        25             24  \n",
              "...                     ...            ...  \n",
              "1893                     31             17  \n",
              "1894                     31             19  \n",
              "1895                     31             24  \n",
              "1896                     23             31  \n",
              "1897                     28             24  \n",
              "\n",
              "[1898 rows x 9 columns]"
            ]
          },
          "execution_count": 4,
          "metadata": {},
          "output_type": "execute_result"
        }
      ],
      "source": [
        "# Write your code here to read the data\n",
        "# Read the data from the CSV file. The path to the location of CSV file has been changed to a local path.\n",
        "\n",
        "path = r\"C:\\Users\\nagas\\Downloads\\Introduction to Python\\AI_ML\\AI_ML\\FoodHub_project\\FoodHub_order.csv\"\n",
        "data = pd.read_csv(path)\n",
        "data"
      ]
    },
    {
      "cell_type": "code",
      "execution_count": 5,
      "metadata": {
        "id": "v32Z7ZZQVYB3"
      },
      "outputs": [
        {
          "data": {
            "application/vnd.microsoft.datawrangler.viewer.v0+json": {
              "columns": [
                {
                  "name": "index",
                  "rawType": "int64",
                  "type": "integer"
                },
                {
                  "name": "order_id",
                  "rawType": "int64",
                  "type": "integer"
                },
                {
                  "name": "customer_id",
                  "rawType": "int64",
                  "type": "integer"
                },
                {
                  "name": "restaurant_name",
                  "rawType": "object",
                  "type": "string"
                },
                {
                  "name": "cuisine_type",
                  "rawType": "object",
                  "type": "string"
                },
                {
                  "name": "cost_of_the_order",
                  "rawType": "float64",
                  "type": "float"
                },
                {
                  "name": "day_of_the_week",
                  "rawType": "object",
                  "type": "string"
                },
                {
                  "name": "rating",
                  "rawType": "object",
                  "type": "string"
                },
                {
                  "name": "food_preparation_time",
                  "rawType": "int64",
                  "type": "integer"
                },
                {
                  "name": "delivery_time",
                  "rawType": "int64",
                  "type": "integer"
                }
              ],
              "ref": "55ce159b-38f9-454a-b1f8-3fc0f1bc3402",
              "rows": [
                [
                  "0",
                  "1477147",
                  "337525",
                  "Hangawi",
                  "Korean",
                  "30.75",
                  "Weekend",
                  "Not given",
                  "25",
                  "20"
                ],
                [
                  "1",
                  "1477685",
                  "358141",
                  "Blue Ribbon Sushi Izakaya",
                  "Japanese",
                  "12.08",
                  "Weekend",
                  "Not given",
                  "25",
                  "23"
                ],
                [
                  "2",
                  "1477070",
                  "66393",
                  "Cafe Habana",
                  "Mexican",
                  "12.23",
                  "Weekday",
                  "5",
                  "23",
                  "28"
                ],
                [
                  "3",
                  "1477334",
                  "106968",
                  "Blue Ribbon Fried Chicken",
                  "American",
                  "29.2",
                  "Weekend",
                  "3",
                  "25",
                  "15"
                ],
                [
                  "4",
                  "1478249",
                  "76942",
                  "Dirty Bird to Go",
                  "American",
                  "11.59",
                  "Weekday",
                  "4",
                  "25",
                  "24"
                ]
              ],
              "shape": {
                "columns": 9,
                "rows": 5
              }
            },
            "text/html": [
              "<div>\n",
              "<style scoped>\n",
              "    .dataframe tbody tr th:only-of-type {\n",
              "        vertical-align: middle;\n",
              "    }\n",
              "\n",
              "    .dataframe tbody tr th {\n",
              "        vertical-align: top;\n",
              "    }\n",
              "\n",
              "    .dataframe thead th {\n",
              "        text-align: right;\n",
              "    }\n",
              "</style>\n",
              "<table border=\"1\" class=\"dataframe\">\n",
              "  <thead>\n",
              "    <tr style=\"text-align: right;\">\n",
              "      <th></th>\n",
              "      <th>order_id</th>\n",
              "      <th>customer_id</th>\n",
              "      <th>restaurant_name</th>\n",
              "      <th>cuisine_type</th>\n",
              "      <th>cost_of_the_order</th>\n",
              "      <th>day_of_the_week</th>\n",
              "      <th>rating</th>\n",
              "      <th>food_preparation_time</th>\n",
              "      <th>delivery_time</th>\n",
              "    </tr>\n",
              "  </thead>\n",
              "  <tbody>\n",
              "    <tr>\n",
              "      <th>0</th>\n",
              "      <td>1477147</td>\n",
              "      <td>337525</td>\n",
              "      <td>Hangawi</td>\n",
              "      <td>Korean</td>\n",
              "      <td>30.75</td>\n",
              "      <td>Weekend</td>\n",
              "      <td>Not given</td>\n",
              "      <td>25</td>\n",
              "      <td>20</td>\n",
              "    </tr>\n",
              "    <tr>\n",
              "      <th>1</th>\n",
              "      <td>1477685</td>\n",
              "      <td>358141</td>\n",
              "      <td>Blue Ribbon Sushi Izakaya</td>\n",
              "      <td>Japanese</td>\n",
              "      <td>12.08</td>\n",
              "      <td>Weekend</td>\n",
              "      <td>Not given</td>\n",
              "      <td>25</td>\n",
              "      <td>23</td>\n",
              "    </tr>\n",
              "    <tr>\n",
              "      <th>2</th>\n",
              "      <td>1477070</td>\n",
              "      <td>66393</td>\n",
              "      <td>Cafe Habana</td>\n",
              "      <td>Mexican</td>\n",
              "      <td>12.23</td>\n",
              "      <td>Weekday</td>\n",
              "      <td>5</td>\n",
              "      <td>23</td>\n",
              "      <td>28</td>\n",
              "    </tr>\n",
              "    <tr>\n",
              "      <th>3</th>\n",
              "      <td>1477334</td>\n",
              "      <td>106968</td>\n",
              "      <td>Blue Ribbon Fried Chicken</td>\n",
              "      <td>American</td>\n",
              "      <td>29.20</td>\n",
              "      <td>Weekend</td>\n",
              "      <td>3</td>\n",
              "      <td>25</td>\n",
              "      <td>15</td>\n",
              "    </tr>\n",
              "    <tr>\n",
              "      <th>4</th>\n",
              "      <td>1478249</td>\n",
              "      <td>76942</td>\n",
              "      <td>Dirty Bird to Go</td>\n",
              "      <td>American</td>\n",
              "      <td>11.59</td>\n",
              "      <td>Weekday</td>\n",
              "      <td>4</td>\n",
              "      <td>25</td>\n",
              "      <td>24</td>\n",
              "    </tr>\n",
              "  </tbody>\n",
              "</table>\n",
              "</div>"
            ],
            "text/plain": [
              "   order_id  customer_id            restaurant_name cuisine_type  \\\n",
              "0   1477147       337525                    Hangawi       Korean   \n",
              "1   1477685       358141  Blue Ribbon Sushi Izakaya     Japanese   \n",
              "2   1477070        66393                Cafe Habana      Mexican   \n",
              "3   1477334       106968  Blue Ribbon Fried Chicken     American   \n",
              "4   1478249        76942           Dirty Bird to Go     American   \n",
              "\n",
              "   cost_of_the_order day_of_the_week     rating  food_preparation_time  \\\n",
              "0              30.75         Weekend  Not given                     25   \n",
              "1              12.08         Weekend  Not given                     25   \n",
              "2              12.23         Weekday          5                     23   \n",
              "3              29.20         Weekend          3                     25   \n",
              "4              11.59         Weekday          4                     25   \n",
              "\n",
              "   delivery_time  \n",
              "0             20  \n",
              "1             23  \n",
              "2             28  \n",
              "3             15  \n",
              "4             24  "
            ]
          },
          "execution_count": 5,
          "metadata": {},
          "output_type": "execute_result"
        }
      ],
      "source": [
        "# Write your code here to view the first 5 rows\n",
        "data.head()"
      ]
    },
    {
      "cell_type": "markdown",
      "metadata": {
        "id": "c3kenV4vJY_Q"
      },
      "source": [
        "### **Question 1:** How many rows and columns are present in the data? [0.5 mark]"
      ]
    },
    {
      "cell_type": "code",
      "execution_count": 6,
      "metadata": {
        "id": "Yvz5i-PhJY_Q"
      },
      "outputs": [
        {
          "name": "stdout",
          "output_type": "stream",
          "text": [
            "Number of rows:  1898\n",
            "Number of columns:  9\n"
          ]
        }
      ],
      "source": [
        "# Write your code here\n",
        "num_rows, num_cols = data.shape\n",
        "print(\"Number of rows: \",num_rows) \n",
        "print(\"Number of columns: \", num_cols)\n"
      ]
    },
    {
      "cell_type": "markdown",
      "metadata": {
        "id": "UsTNy3unJY_R"
      },
      "source": [
        "#### Observations:\n",
        "There are 1898 rows and 9 columns and this indicates that the dataset is not too big, but contains information for nearly 1898 individual orders across 9 different attributes or variables for each order. This amount of data is generally sufficient to perform analysis on the data, including identifying trends, customer behavior, and restaurant performance"
      ]
    },
    {
      "cell_type": "markdown",
      "metadata": {
        "id": "jRXakVrUJY_R"
      },
      "source": [
        "### **Question 2:** What are the datatypes of the different columns in the dataset? (The info() function can be used) [0.5 mark]"
      ]
    },
    {
      "cell_type": "code",
      "execution_count": 7,
      "metadata": {
        "id": "Kp70Z0BNJY_R"
      },
      "outputs": [
        {
          "name": "stdout",
          "output_type": "stream",
          "text": [
            "The data types in the data set are: \n",
            "<class 'pandas.core.frame.DataFrame'>\n",
            "RangeIndex: 1898 entries, 0 to 1897\n",
            "Data columns (total 9 columns):\n",
            " #   Column                 Non-Null Count  Dtype  \n",
            "---  ------                 --------------  -----  \n",
            " 0   order_id               1898 non-null   int64  \n",
            " 1   customer_id            1898 non-null   int64  \n",
            " 2   restaurant_name        1898 non-null   object \n",
            " 3   cuisine_type           1898 non-null   object \n",
            " 4   cost_of_the_order      1898 non-null   float64\n",
            " 5   day_of_the_week        1898 non-null   object \n",
            " 6   rating                 1898 non-null   object \n",
            " 7   food_preparation_time  1898 non-null   int64  \n",
            " 8   delivery_time          1898 non-null   int64  \n",
            "dtypes: float64(1), int64(4), object(4)\n",
            "memory usage: 133.6+ KB\n",
            "None\n"
          ]
        }
      ],
      "source": [
        "print(\"The data types in the data set are: \");\n",
        "print(data.info());"
      ]
    },
    {
      "cell_type": "markdown",
      "metadata": {
        "id": "WJes5GP2JY_S"
      },
      "source": [
        "#### Observations:\n",
        "The different data types present in the data are as follows:\n",
        "\n",
        "* order_id: int64 (Integer) \n",
        "* customer_id: int64 (Integer) \n",
        "* restaurant_name: object (String/Categorical) \n",
        "* cuisine_type: object (String/Categorical) \n",
        "* cost_of_the_order: float64 (Floating-point number) \n",
        "* day_of_the_week: object (String/Categorical) \n",
        "* rating: object (String/Categorical, but converted to numeric in the following steps as part of data cleansing and analysis) \n",
        "* food_preparation_time: int64 (Integer) \n",
        "* delivery_time: int64 (Integer) "
      ]
    },
    {
      "cell_type": "markdown",
      "metadata": {
        "id": "pF_92MN6JY_S"
      },
      "source": [
        "### **Question 3:** Are there any missing values in the data? If yes, treat them using an appropriate method. [1 mark]"
      ]
    },
    {
      "cell_type": "code",
      "execution_count": 8,
      "metadata": {
        "id": "Zth-RR1PJY_S"
      },
      "outputs": [
        {
          "name": "stdout",
          "output_type": "stream",
          "text": [
            "Number of missing values in each column:\n",
            "order_id                 0\n",
            "customer_id              0\n",
            "restaurant_name          0\n",
            "cuisine_type             0\n",
            "cost_of_the_order        0\n",
            "day_of_the_week          0\n",
            "rating                   0\n",
            "food_preparation_time    0\n",
            "delivery_time            0\n",
            "dtype: int64\n",
            "\n",
            "There are 736 rows where rating is 'Not given'\n",
            "\n",
            "After replacing 'Not given' with NaN and converting to numeric:\n",
            "<class 'pandas.core.frame.DataFrame'>\n",
            "RangeIndex: 1898 entries, 0 to 1897\n",
            "Data columns (total 9 columns):\n",
            " #   Column                 Non-Null Count  Dtype  \n",
            "---  ------                 --------------  -----  \n",
            " 0   order_id               1898 non-null   int64  \n",
            " 1   customer_id            1898 non-null   int64  \n",
            " 2   restaurant_name        1898 non-null   object \n",
            " 3   cuisine_type           1898 non-null   object \n",
            " 4   cost_of_the_order      1898 non-null   float64\n",
            " 5   day_of_the_week        1898 non-null   object \n",
            " 6   rating                 1162 non-null   Int64  \n",
            " 7   food_preparation_time  1898 non-null   int64  \n",
            " 8   delivery_time          1898 non-null   int64  \n",
            "dtypes: Int64(1), float64(1), int64(4), object(3)\n",
            "memory usage: 135.4+ KB\n",
            "None\n"
          ]
        }
      ],
      "source": [
        "# Write your code here\n",
        "\n",
        "print(\"Number of missing values in each column:\")\n",
        "print(data.isnull().sum())\n",
        "\n",
        "# Deeper analysis of missing values\n",
        "\n",
        "# Filter rows where 'rating' is 'Not given'\n",
        "filtered_data = data[data['rating'] == 'Not given']\n",
        "print(\"\")\n",
        "print(\"There are\", filtered_data['rating'].count(), \"rows where rating is 'Not given'\")\n",
        "\n",
        "#Replace 'Not given' with NaN\n",
        "data['rating'] = data['rating'].replace('Not given', np.nan)\n",
        "\n",
        "# Convert 'rating' column to numeric\n",
        "data['rating'] = pd.to_numeric(data['rating']).astype('Int64')\n",
        "print(\"\")\n",
        "print(\"After replacing 'Not given' with NaN and converting to numeric:\")\n",
        "print(data.info())\n"
      ]
    },
    {
      "cell_type": "markdown",
      "metadata": {
        "id": "jDHT3vD1JY_S"
      },
      "source": [
        "#### Observations:\n",
        "At a first glance there were no missing or null values, but deeper analysis revealed that \"rating\" column had  some \"Not Given\" values. \n",
        "It was converted to NaN and the data type of the column has been converted from object to integer type"
      ]
    },
    {
      "cell_type": "markdown",
      "metadata": {
        "id": "MnJo7MWrJY_S"
      },
      "source": [
        "### **Question 4:** Check the statistical summary of the data. What is the minimum, average, and maximum time it takes for food to be prepared once an order is placed? [2 marks]"
      ]
    },
    {
      "cell_type": "code",
      "execution_count": 9,
      "metadata": {
        "id": "WprQBgOSJY_T"
      },
      "outputs": [
        {
          "name": "stdout",
          "output_type": "stream",
          "text": [
            "Statistical summary of food preparation time:\n",
            "Average (Mean)    27.37\n",
            "Minimum           20.00\n",
            "Maximum           35.00\n",
            "Name: food_preparation_time, dtype: float64\n"
          ]
        }
      ],
      "source": [
        "# Write your code here\n",
        "stat_summary = data['food_preparation_time'].describe().loc[[\"mean\", \"min\", \"max\"]].rename(index={\"mean\": \"Average (Mean)\", \"min\": \"Minimum\", \"max\": \"Maximum\"});\n",
        "print(\"Statistical summary of food preparation time:\")\n",
        "print(stat_summary.round(2))\n",
        "\n"
      ]
    },
    {
      "cell_type": "markdown",
      "metadata": {
        "id": "9YbSOR5wJY_T"
      },
      "source": [
        "#### Observations:\n",
        "Statistical Summary of Food Preparation Time:\n",
        "\n",
        "* Minimum preparation time: 20.00 minutes\n",
        "* Average (mean) preparation time: 27.37 minutes\n",
        "* Maximum preparation time: 35.00 minutes\n",
        "\n",
        "<br> This means the food preperation time is consistent between 20 to 35 minutes and the mean 27.37 minutes is consistent and closer to the middle and does not have any outliers"
      ]
    },
    {
      "cell_type": "markdown",
      "metadata": {
        "id": "cw3l58z_JY_T"
      },
      "source": [
        "### **Question 5:** How many orders are not rated? [1 mark]"
      ]
    },
    {
      "cell_type": "code",
      "execution_count": 10,
      "metadata": {
        "id": "hEzDUL9wgksi"
      },
      "outputs": [
        {
          "name": "stdout",
          "output_type": "stream",
          "text": [
            "Number of missing ratings: 736\n"
          ]
        }
      ],
      "source": [
        "# Write the code here\n",
        "missing_ratings_count = data['rating'].isnull().sum()\n",
        "print(\"Number of missing ratings:\", missing_ratings_count)"
      ]
    },
    {
      "cell_type": "markdown",
      "metadata": {
        "id": "5E0O_oviJY_T"
      },
      "source": [
        "#### Observations:\n",
        "The number of missing rating on the orders is 736. The ratings \"Not Given\" were converted to NaN in Question 3. We are just finding the NaN values here and counting them. \n",
        "<br> This is about of 39% of the orders that do not have a rating. It will be difficult to analyze customer satisfaction"
      ]
    },
    {
      "cell_type": "markdown",
      "metadata": {
        "id": "7msIfXE-JY_T"
      },
      "source": [
        "### Exploratory Data Analysis (EDA)"
      ]
    },
    {
      "cell_type": "markdown",
      "metadata": {
        "id": "-2xfI28YJY_T"
      },
      "source": [
        "### Univariate Analysis"
      ]
    },
    {
      "cell_type": "markdown",
      "metadata": {
        "id": "0RHZnugBJY_U"
      },
      "source": [
        "### **Question 6:** Explore all the variables and provide observations on their distributions. (Generally, histograms, boxplots, countplots, etc. are used for univariate exploration.) [9 marks]"
      ]
    },
    {
      "cell_type": "code",
      "execution_count": 32,
      "metadata": {
        "id": "rU5ZqISjJY_U"
      },
      "outputs": [
        {
          "name": "stdout",
          "output_type": "stream",
          "text": [
            "There are 1200 unique customers in the dataset and there are  1898 unique orders in the dataset.\n",
            "There are 14 unique cuisine types in the dataset.\n",
            "There are 178 unique restaurants in the dataset.\n"
          ]
        },
        {
          "data": {
            "image/png": "[encoded data removed]",
            "text/plain": [
              "<Figure size 1800x500 with 4 Axes>"
            ]
          },
          "metadata": {},
          "output_type": "display_data"
        },
        {
          "data": {
            "image/png": "[encoded data removed]",
            "text/plain": [
              "<Figure size 2000x600 with 3 Axes>"
            ]
          },
          "metadata": {},
          "output_type": "display_data"
        }
      ],
      "source": [
        "# # Write the code here\n",
        "\n",
        "print(\"There are\", data.customer_id.nunique(), \"unique customers in the dataset and there are \", data.order_id.nunique(), \"unique orders in the dataset.\")\n",
        "print(\"There are\", data.cuisine_type.nunique(), \"unique cuisine types in the dataset.\")\n",
        "print(\"There are\", data.restaurant_name.nunique(), \"unique restaurants in the dataset.\")   \n",
        "# Data Visualization\n",
        "\n",
        "\n",
        "#Numerical Variable Analysis\n",
        "fig, axes = plt.subplots(1, 4, figsize=(18, 5)) \n",
        "fig.suptitle(\"Numerical Variable Analysis\", fontsize=16)\n",
        "\n",
        "# Histogram of order cost (left)\n",
        "sns.histplot(data[\"cost_of_the_order\"], bins=20, kde=True, ax=axes[0])\n",
        "axes[0].set_title(\"Order Cost Distribution\")\n",
        "axes[0].set_xlabel(\"Cost of the Order\")\n",
        "\n",
        "# Boxplot of food preparation time (right)\n",
        "sns.boxplot(x=data[\"food_preparation_time\"], ax=axes[1])\n",
        "axes[1].set_title(\"Food Preparation Time Distribution\")\n",
        "axes[1].set_xlabel(\"Food Preparation Time\")\n",
        "\n",
        "sns.histplot(data[\"delivery_time\"], bins=20, kde=True, ax=axes[2])\n",
        "axes[2].set_title(\"Delivery Time Distribution\")\n",
        "axes[2].set_xlabel(\"Delivery Time\")\n",
        "\n",
        "data_plot = data.copy()\n",
        "# Replace NaN values with \"Not given\" for plotting  \n",
        "data_plot['rating'] = data_plot['rating'].astype(object).fillna('Not given')\n",
        "\n",
        "sns.countplot(x=data_plot[\"rating\"], ax=axes[3], order=data_plot['rating'].value_counts().index)\n",
        "axes[3].set_title(\"Rating Counts\")\n",
        "axes[3].set_xlabel(\"Rating\")\n",
        "# add value labels on top of the bars\n",
        "for p in axes[3].patches:\n",
        "    axes[3].annotate(f'{int(p.get_height())}', (p.get_x() + p.get_width() / 2, p.get_height()),\n",
        "                     ha='center', va='bottom', fontsize=10, color='black')\n",
        "\n",
        "# Show the plots\n",
        "plt.tight_layout()\n",
        "plt.show()\n",
        "\n",
        "#Categorical Variable Analysis\n",
        "fig2, axes2 = plt.subplots(1, 3, figsize=(20, 6))\n",
        "fig2.suptitle(\"Categorical Variable Analysis\", fontsize=16)\n",
        "\n",
        "axes2[0].set_title(\"Popular Cuisine Types\")\n",
        "sns.countplot(x=data[\"cuisine_type\"], ax=axes2[0], order=data['cuisine_type'].value_counts().index)\n",
        "axes2[0].set_xlabel(\"Cuisine Type\")\n",
        "axes2[0].set_xticks(range(len(axes2[0].get_xticklabels())))  # Ensure tick positions are set\n",
        "axes2[0].set_xticklabels(axes2[0].get_xticklabels(), rotation=90)\n",
        "\n",
        "sns.countplot(x=data[\"day_of_the_week\"], ax=axes2[1], order=data['day_of_the_week'].value_counts().index)\n",
        "axes2[1].set_title(\"Orders Per Day of the Week\")\n",
        "axes2[1].set_xlabel(\"Day of the Week\")\n",
        "\n",
        "top_restaurants = data[\"restaurant_name\"].value_counts().nlargest(10)\n",
        "sns.barplot(y=top_restaurants.index, x=top_restaurants.values, ax=axes2[2])\n",
        "axes2[2].set_title(\"Top 10 Most Ordered Restaurants\")\n",
        "axes2[2].set_xlabel(\"Number of Orders\")\n",
        "axes2[2].set_ylabel(\"Restaurant Name\")\n",
        "plt.tight_layout()\n",
        "plt.show()\n",
        "\n"
      ]
    },
    {
      "cell_type": "markdown",
      "metadata": {},
      "source": [
        "<span style=\"font-size:16px;\">\n",
        "<b>Observation - </b><br>\n",
        "<br>Numerical Variable Analysis:\n",
        "<br>Cost of order is <b>Right-skewed</b>, meaning most orders are low-cost, but a few high-cost ones increase the mean.\n",
        "<br>Food preperation time distribution does not have outliers and is in the consistent range of 20 to 30 minutes.\n",
        "<br>Delivery time is fairly normal, with a few extreme cases taking longer to deliver.\n",
        "<br>Most orders that have been rated have a rating of 4s and 5s meaning that people are liking/loyal to some the resturants making them repeat customers. Approximately 39% of the orders/resturants have not been rated. Resturants need to focus if there are issues that the customers are not unhappy and focus on increasing their rating\n",
        "<br>\n",
        "<br>Categorical Variable Analysis:\n",
        "<br>Some cuisines dominate order trends more than others. American food is most prefered and the vietnamese is the least prefered.\n",
        "<br>There are higher number of orders on weekends than weekdays.\n",
        "</br>\n",
        "</span>"
      ]
    },
    {
      "cell_type": "markdown",
      "metadata": {
        "id": "K9CqA5H_JY_U"
      },
      "source": [
        "### **Question 7**: Which are the top 5 restaurants in terms of the number of orders received? [1 mark]"
      ]
    },
    {
      "cell_type": "code",
      "execution_count": 12,
      "metadata": {
        "id": "PaJZ3wlOJY_U"
      },
      "outputs": [
        {
          "data": {
            "image/png": "[encoded data removed]",
            "text/plain": [
              "<Figure size 800x400 with 1 Axes>"
            ]
          },
          "metadata": {},
          "output_type": "display_data"
        },
        {
          "name": "stdout",
          "output_type": "stream",
          "text": [
            "The top 5 most ordered restaurants are:\n"
          ]
        },
        {
          "data": {
            "application/vnd.microsoft.datawrangler.viewer.v0+json": {
              "columns": [
                {
                  "name": "index",
                  "rawType": "int64",
                  "type": "integer"
                },
                {
                  "name": "Restaurant Name",
                  "rawType": "object",
                  "type": "string"
                },
                {
                  "name": "Cuisine Type",
                  "rawType": "object",
                  "type": "string"
                },
                {
                  "name": "Number of Orders",
                  "rawType": "object",
                  "type": "string"
                },
                {
                  "name": "Delivery Time",
                  "rawType": "object",
                  "type": "string"
                },
                {
                  "name": "Percentage (%)",
                  "rawType": "object",
                  "type": "string"
                }
              ],
              "ref": "72ccf325-67d8-443d-868e-a77487590675",
              "rows": [
                [
                  "0",
                  "Shake Shack",
                  "American",
                  "219",
                  "24.66",
                  "34.54%"
                ],
                [
                  "1",
                  "The Meatball Shop",
                  "Italian",
                  "132",
                  "24.24",
                  "20.82%"
                ],
                [
                  "2",
                  "Blue Ribbon Sushi",
                  "Japanese",
                  "119",
                  "23.94",
                  "18.77%"
                ],
                [
                  "3",
                  "Blue Ribbon Fried Chicken",
                  "American",
                  "96",
                  "24.15",
                  "15.14%"
                ],
                [
                  "4",
                  "Parm",
                  "Italian",
                  "68",
                  "25.5",
                  "10.73%"
                ],
                [
                  "5",
                  "Summary",
                  "",
                  "634 (Total)",
                  "24.16 (Avg)",
                  "100.00% (Total)"
                ]
              ],
              "shape": {
                "columns": 5,
                "rows": 6
              }
            },
            "text/html": [
              "<div>\n",
              "<style scoped>\n",
              "    .dataframe tbody tr th:only-of-type {\n",
              "        vertical-align: middle;\n",
              "    }\n",
              "\n",
              "    .dataframe tbody tr th {\n",
              "        vertical-align: top;\n",
              "    }\n",
              "\n",
              "    .dataframe thead th {\n",
              "        text-align: right;\n",
              "    }\n",
              "</style>\n",
              "<table border=\"1\" class=\"dataframe\">\n",
              "  <thead>\n",
              "    <tr style=\"text-align: right;\">\n",
              "      <th></th>\n",
              "      <th>Restaurant Name</th>\n",
              "      <th>Cuisine Type</th>\n",
              "      <th>Number of Orders</th>\n",
              "      <th>Delivery Time</th>\n",
              "      <th>Percentage (%)</th>\n",
              "    </tr>\n",
              "  </thead>\n",
              "  <tbody>\n",
              "    <tr>\n",
              "      <th>0</th>\n",
              "      <td>Shake Shack</td>\n",
              "      <td>American</td>\n",
              "      <td>219</td>\n",
              "      <td>24.66</td>\n",
              "      <td>34.54%</td>\n",
              "    </tr>\n",
              "    <tr>\n",
              "      <th>1</th>\n",
              "      <td>The Meatball Shop</td>\n",
              "      <td>Italian</td>\n",
              "      <td>132</td>\n",
              "      <td>24.24</td>\n",
              "      <td>20.82%</td>\n",
              "    </tr>\n",
              "    <tr>\n",
              "      <th>2</th>\n",
              "      <td>Blue Ribbon Sushi</td>\n",
              "      <td>Japanese</td>\n",
              "      <td>119</td>\n",
              "      <td>23.94</td>\n",
              "      <td>18.77%</td>\n",
              "    </tr>\n",
              "    <tr>\n",
              "      <th>3</th>\n",
              "      <td>Blue Ribbon Fried Chicken</td>\n",
              "      <td>American</td>\n",
              "      <td>96</td>\n",
              "      <td>24.15</td>\n",
              "      <td>15.14%</td>\n",
              "    </tr>\n",
              "    <tr>\n",
              "      <th>4</th>\n",
              "      <td>Parm</td>\n",
              "      <td>Italian</td>\n",
              "      <td>68</td>\n",
              "      <td>25.5</td>\n",
              "      <td>10.73%</td>\n",
              "    </tr>\n",
              "    <tr>\n",
              "      <th>5</th>\n",
              "      <td>Summary</td>\n",
              "      <td></td>\n",
              "      <td>634 (Total)</td>\n",
              "      <td>24.16 (Avg)</td>\n",
              "      <td>100.00% (Total)</td>\n",
              "    </tr>\n",
              "  </tbody>\n",
              "</table>\n",
              "</div>"
            ],
            "text/plain": [
              "             Restaurant Name Cuisine Type Number of Orders Delivery Time  \\\n",
              "0                Shake Shack     American              219         24.66   \n",
              "1          The Meatball Shop      Italian              132         24.24   \n",
              "2          Blue Ribbon Sushi     Japanese              119         23.94   \n",
              "3  Blue Ribbon Fried Chicken     American               96         24.15   \n",
              "4                       Parm      Italian               68          25.5   \n",
              "5                    Summary                   634 (Total)   24.16 (Avg)   \n",
              "\n",
              "    Percentage (%)  \n",
              "0           34.54%  \n",
              "1           20.82%  \n",
              "2           18.77%  \n",
              "3           15.14%  \n",
              "4           10.73%  \n",
              "5  100.00% (Total)  "
            ]
          },
          "execution_count": 12,
          "metadata": {},
          "output_type": "execute_result"
        }
      ],
      "source": [
        "# Write the code here\n",
        "top_restaurants = data[\"restaurant_name\"].value_counts().nlargest(5)\n",
        "top_restaurants\n",
        "\n",
        "plt.figure(figsize=(8, 4))\n",
        "ax = sns.barplot(y=top_restaurants.index, x=top_restaurants.values, color=\"darkgreen\")\n",
        "for i, value in enumerate(top_restaurants.values):\n",
        "    ax.text(value, i, str(value), ha='left', va='center', fontsize=10, color='black')\n",
        "plt.title(\"Top 5 Most Ordered Restaurants\")\n",
        "plt.xlabel(\"Number of Orders\")\n",
        "plt.ylabel(\"Restaurant Name\")\n",
        "plt.show()\n",
        "\n",
        "print(\"The top 5 most ordered restaurants are:\")\n",
        "top_restaurants_df = top_restaurants.reset_index()\n",
        "top_restaurants_df.columns = [\"Restaurant Name\", \"Number of Orders\"]\n",
        "\n",
        "# Add cuisine type to the top restaurants DataFrame\n",
        "top_restaurants_cuisine = data.groupby(\"restaurant_name\")[\"cuisine_type\"].agg(lambda x: x.mode()[0])\n",
        "top_restaurants_df[\"Cuisine Type\"] = top_restaurants_df[\"Restaurant Name\"].map(top_restaurants_cuisine)\n",
        "\n",
        "# Reorder columns for clarity\n",
        "top_restaurants_df = top_restaurants_df[[\"Restaurant Name\", \"Cuisine Type\", \"Number of Orders\"]]\n",
        "\n",
        "# Calculate total number of orders\n",
        "total_orders = top_restaurants_df[\"Number of Orders\"].sum()\n",
        "\n",
        "# Calculate mean delivery time for each restaurant\n",
        "mean_delivery_times = data.groupby(\"restaurant_name\")[\"delivery_time\"].mean().round(2)\n",
        "\n",
        "# Map mean delivery time to the DataFrame\n",
        "top_restaurants_df[\"Delivery Time\"] = top_restaurants_df[\"Restaurant Name\"].map(mean_delivery_times)\n",
        "\n",
        "# Calculate percentage of total orders (do this before adding summary row)\n",
        "top_restaurants_df[\"Percentage (%)\"] = ((top_restaurants_df[\"Number of Orders\"] / total_orders) * 100).round(2).astype(str) + \"%\"\n",
        "\n",
        "# Calculate the overall average delivery time\n",
        "average_delivery_time = data[\"delivery_time\"].mean().round(2)\n",
        "\n",
        "#total Percentage of orders\n",
        "total_percentage = top_restaurants_df[\"Percentage (%)\"].str.rstrip('%').astype(float).sum()\n",
        "\n",
        "# Add a row for total with the average delivery time\n",
        "summary_row = {\n",
        "    \"Restaurant Name\": \"Summary\",\n",
        "    \"Cuisine Type\": \"\",\n",
        "    \"Number of Orders\": f\"{total_orders} (Total)\",\n",
        "    \"Delivery Time\": f\"{average_delivery_time} (Avg)\",\n",
        "    \"Percentage (%)\": f\"{total_percentage:.2f}% (Total)\"\n",
        "}\n",
        "top_restaurants_df = pd.concat([top_restaurants_df, pd.DataFrame([summary_row])], ignore_index=True)\n",
        "\n",
        "top_restaurants_df\n",
        "\n",
        "\n"
      ]
    },
    {
      "cell_type": "markdown",
      "metadata": {
        "id": "tnjhWgUfJY_U"
      },
      "source": [
        "#### Observations:\n",
        "<span style=\"font-size:16px;\">\n",
        "<br>The top 5 most ordered restaurants are below and we can find that American resturants account for 315 orders which make it the most preferred food or cuisine type.\n",
        "<br>Shake Shack                  219\n",
        "<br>The Meatball Shop            132\n",
        "<br>Blue Ribbon Sushi            119\n",
        "<br>Blue Ribbon Fried Chicken     96\n",
        "<br>Parm                          68\n",
        "<br>Name: restaurant_name, dtype: int64\n",
        "</br>\n",
        "</span>"
      ]
    },
    {
      "cell_type": "code",
      "execution_count": 13,
      "metadata": {},
      "outputs": [
        {
          "name": "stdout",
          "output_type": "stream",
          "text": [
            "The top 5 most ordered restaurants are:\n"
          ]
        },
        {
          "data": {
            "application/vnd.microsoft.datawrangler.viewer.v0+json": {
              "columns": [
                {
                  "name": "index",
                  "rawType": "int64",
                  "type": "integer"
                },
                {
                  "name": "Restaurant Name",
                  "rawType": "object",
                  "type": "string"
                },
                {
                  "name": "Cuisine Type",
                  "rawType": "object",
                  "type": "string"
                },
                {
                  "name": "Number of Orders",
                  "rawType": "int64",
                  "type": "integer"
                },
                {
                  "name": "Delivery Time",
                  "rawType": "float64",
                  "type": "float"
                },
                {
                  "name": "Percentage (%)",
                  "rawType": "object",
                  "type": "string"
                }
              ],
              "ref": "d933c224-1c77-495b-a78e-c886eb878590",
              "rows": [
                [
                  "0",
                  "Shake Shack",
                  "American",
                  "219",
                  "24.66",
                  "34.54%"
                ],
                [
                  "1",
                  "The Meatball Shop",
                  "Italian",
                  "132",
                  "24.24",
                  "20.82%"
                ],
                [
                  "2",
                  "Blue Ribbon Sushi",
                  "Japanese",
                  "119",
                  "23.94",
                  "18.77%"
                ],
                [
                  "3",
                  "Blue Ribbon Fried Chicken",
                  "American",
                  "96",
                  "24.15",
                  "15.14%"
                ],
                [
                  "4",
                  "Parm",
                  "Italian",
                  "68",
                  "25.5",
                  "10.73%"
                ],
                [
                  "5",
                  "Summary",
                  "",
                  "634",
                  "24.16",
                  "100.0%"
                ]
              ],
              "shape": {
                "columns": 5,
                "rows": 6
              }
            },
            "text/html": [
              "<div>\n",
              "<style scoped>\n",
              "    .dataframe tbody tr th:only-of-type {\n",
              "        vertical-align: middle;\n",
              "    }\n",
              "\n",
              "    .dataframe tbody tr th {\n",
              "        vertical-align: top;\n",
              "    }\n",
              "\n",
              "    .dataframe thead th {\n",
              "        text-align: right;\n",
              "    }\n",
              "</style>\n",
              "<table border=\"1\" class=\"dataframe\">\n",
              "  <thead>\n",
              "    <tr style=\"text-align: right;\">\n",
              "      <th></th>\n",
              "      <th>Restaurant Name</th>\n",
              "      <th>Cuisine Type</th>\n",
              "      <th>Number of Orders</th>\n",
              "      <th>Delivery Time</th>\n",
              "      <th>Percentage (%)</th>\n",
              "    </tr>\n",
              "  </thead>\n",
              "  <tbody>\n",
              "    <tr>\n",
              "      <th>0</th>\n",
              "      <td>Shake Shack</td>\n",
              "      <td>American</td>\n",
              "      <td>219</td>\n",
              "      <td>24.66</td>\n",
              "      <td>34.54%</td>\n",
              "    </tr>\n",
              "    <tr>\n",
              "      <th>1</th>\n",
              "      <td>The Meatball Shop</td>\n",
              "      <td>Italian</td>\n",
              "      <td>132</td>\n",
              "      <td>24.24</td>\n",
              "      <td>20.82%</td>\n",
              "    </tr>\n",
              "    <tr>\n",
              "      <th>2</th>\n",
              "      <td>Blue Ribbon Sushi</td>\n",
              "      <td>Japanese</td>\n",
              "      <td>119</td>\n",
              "      <td>23.94</td>\n",
              "      <td>18.77%</td>\n",
              "    </tr>\n",
              "    <tr>\n",
              "      <th>3</th>\n",
              "      <td>Blue Ribbon Fried Chicken</td>\n",
              "      <td>American</td>\n",
              "      <td>96</td>\n",
              "      <td>24.15</td>\n",
              "      <td>15.14%</td>\n",
              "    </tr>\n",
              "    <tr>\n",
              "      <th>4</th>\n",
              "      <td>Parm</td>\n",
              "      <td>Italian</td>\n",
              "      <td>68</td>\n",
              "      <td>25.50</td>\n",
              "      <td>10.73%</td>\n",
              "    </tr>\n",
              "    <tr>\n",
              "      <th>5</th>\n",
              "      <td>Summary</td>\n",
              "      <td></td>\n",
              "      <td>634</td>\n",
              "      <td>24.16</td>\n",
              "      <td>100.0%</td>\n",
              "    </tr>\n",
              "  </tbody>\n",
              "</table>\n",
              "</div>"
            ],
            "text/plain": [
              "             Restaurant Name Cuisine Type  Number of Orders  Delivery Time  \\\n",
              "0                Shake Shack     American               219          24.66   \n",
              "1          The Meatball Shop      Italian               132          24.24   \n",
              "2          Blue Ribbon Sushi     Japanese               119          23.94   \n",
              "3  Blue Ribbon Fried Chicken     American                96          24.15   \n",
              "4                       Parm      Italian                68          25.50   \n",
              "5                    Summary                            634          24.16   \n",
              "\n",
              "  Percentage (%)  \n",
              "0         34.54%  \n",
              "1         20.82%  \n",
              "2         18.77%  \n",
              "3         15.14%  \n",
              "4         10.73%  \n",
              "5         100.0%  "
            ]
          },
          "execution_count": 13,
          "metadata": {},
          "output_type": "execute_result"
        }
      ],
      "source": [
        "print(\"The top 5 most ordered restaurants are:\")\n",
        "top_restaurants_df = top_restaurants.reset_index()\n",
        "top_restaurants_df.columns = [\"Restaurant Name\", \"Number of Orders\"]\n",
        "\n",
        "# Add cuisine type to the top restaurants DataFrame\n",
        "top_restaurants_cuisine = data.groupby(\"restaurant_name\")[\"cuisine_type\"].agg(lambda x: x.mode()[0])\n",
        "top_restaurants_df[\"Cuisine Type\"] = top_restaurants_df[\"Restaurant Name\"].map(top_restaurants_cuisine)\n",
        "\n",
        "# Reorder columns for clarity\n",
        "top_restaurants_df = top_restaurants_df[[\"Restaurant Name\", \"Cuisine Type\", \"Number of Orders\"]]\n",
        "\n",
        "# Calculate total number of orders\n",
        "total_orders = top_restaurants_df[\"Number of Orders\"].sum()\n",
        "\n",
        "# Calculate mean delivery time for each restaurant\n",
        "mean_delivery_times = data.groupby(\"restaurant_name\")[\"delivery_time\"].mean().round(2)\n",
        "\n",
        "# Map mean delivery time to the DataFrame\n",
        "top_restaurants_df[\"Delivery Time\"] = top_restaurants_df[\"Restaurant Name\"].map(mean_delivery_times)\n",
        "\n",
        "# Calculate the overall average delivery time\n",
        "average_delivery_time = data[\"delivery_time\"].mean().round(2)\n",
        "\n",
        "# Add a row for total with the average delivery time\n",
        "top_restaurants_df.loc[len(top_restaurants_df)] = [\"Summary\", \"\", total_orders, average_delivery_time]\n",
        "\n",
        "# Calculate percentage of total orders\n",
        "top_restaurants_df[\"Percentage (%)\"] = ((top_restaurants_df[\"Number of Orders\"] / total_orders) * 100).round(2).astype(str) + \"%\"\n",
        "\n",
        "top_restaurants_df\n"
      ]
    },
    {
      "cell_type": "markdown",
      "metadata": {
        "id": "gWPMqGq0JY_U"
      },
      "source": [
        "### **Question 8**: Which is the most popular cuisine on weekends? [1 mark]"
      ]
    },
    {
      "cell_type": "code",
      "execution_count": 14,
      "metadata": {
        "id": "c-Xnus3VJY_U"
      },
      "outputs": [
        {
          "name": "stdout",
          "output_type": "stream",
          "text": [
            "Most popular restaurant on weekends is Shake Shack with 145 orders.\n",
            "Number of Shake Shack orders without a rating: 86\n"
          ]
        }
      ],
      "source": [
        "# Write the code here\n",
        "weekend_orders = data[data[\"day_of_the_week\"] == \"Weekend\"]\n",
        "# Count orders for each restaurant\n",
        "popular_restaurant = weekend_orders[\"restaurant_name\"].value_counts().idxmax()\n",
        "popular_restaurant_count = weekend_orders[\"restaurant_name\"].value_counts().max()\n",
        "print(\"Most popular restaurant on weekends is\", popular_restaurant, \"with\", popular_restaurant_count, \"orders.\")\n",
        "\n",
        "\n",
        "popular_restaurant_orders = data[data[\"restaurant_name\"] ==popular_restaurant]\n",
        "\n",
        "# Count orders where the rating is missing or 'Not Given'\n",
        "unrated_orders = popular_restaurant_orders[\"rating\"].isna().sum() + (popular_restaurant_orders[\"rating\"] == \"Not Given\").sum()\n",
        "\n",
        "print(f\"Number of \" + popular_restaurant + \" orders without a rating: \" + unrated_orders.astype(str))\n"
      ]
    },
    {
      "cell_type": "markdown",
      "metadata": {
        "id": "bpQ270TUJY_U"
      },
      "source": [
        "#### Observations:\n",
        "Most popular restaurant on weekends is Shake Shack with 145 orders. The number of orders that have not been rated are 86. Shake Shack can offer promotions for rating the orders. This will increase the customer base and Shake Shacks business."
      ]
    },
    {
      "cell_type": "markdown",
      "metadata": {
        "id": "88xgTqkxJY_U"
      },
      "source": [
        "### **Question 9**: What percentage of the orders cost more than 20 dollars? [2 marks]"
      ]
    },
    {
      "cell_type": "code",
      "execution_count": 15,
      "metadata": {
        "id": "OTpHyTdzJY_U"
      },
      "outputs": [
        {
          "name": "stdout",
          "output_type": "stream",
          "text": [
            "Percentage of orders costing more than $20: 29.24%\n"
          ]
        }
      ],
      "source": [
        "# Write the code here\n",
        "percentage = (data[\"cost_of_the_order\"] > 20).mean() * 100\n",
        "print(f\"Percentage of orders costing more than $20: {percentage:.2f}%\")\n"
      ]
    },
    {
      "cell_type": "markdown",
      "metadata": {
        "id": "77KNAC5zJY_U"
      },
      "source": [
        "#### Observations:\n",
        "Percentage of orders costing more than $20 is 29.24%. This means that remaining ~70% of the orders are under $20 which confirms that the cost of the orders tends to be lower and resturants might have reasonably priced items."
      ]
    },
    {
      "cell_type": "markdown",
      "metadata": {
        "id": "HFyHn7hsJY_V"
      },
      "source": [
        "### **Question 10**: What is the mean order delivery time? [1 mark]"
      ]
    },
    {
      "cell_type": "code",
      "execution_count": 16,
      "metadata": {
        "id": "cyFL13hNJY_V"
      },
      "outputs": [
        {
          "name": "stdout",
          "output_type": "stream",
          "text": [
            "Mean Order Delivery Time: 24.16 minutes\n",
            "Mean Order Delivery Time by Day of the Week:\n",
            "day_of_the_week\n",
            "Weekday    28.340037\n",
            "Weekend    22.470022\n",
            "Name: delivery_time, dtype: float64\n"
          ]
        }
      ],
      "source": [
        "# Write the code here\n",
        "mean_delivery_time = data[\"delivery_time\"].mean()\n",
        "print(f\"Mean Order Delivery Time: {mean_delivery_time:.2f} minutes\")\n",
        "mean_delivery_time_by_day = data.groupby(\"day_of_the_week\")[\"delivery_time\"].mean()\n",
        "print(\"Mean Order Delivery Time by Day of the Week:\")\n",
        "print(mean_delivery_time_by_day);"
      ]
    },
    {
      "cell_type": "markdown",
      "metadata": {
        "id": "F35SRV-HJY_V"
      },
      "source": [
        "#### Observations:\n",
        "The mean delivery time of 24.16 minutes suggests that, on average, food orders from placement to delivery take just under half an hour. This could be considered a reasonable timeframe for food delivery"
      ]
    },
    {
      "cell_type": "markdown",
      "metadata": {
        "id": "48IjaOuDJY_V"
      },
      "source": [
        "### **Question 11:** The company has decided to give 20% discount vouchers to the top 3 most frequent customers. Find the IDs of these customers and the number of orders they placed. [1 mark]"
      ]
    },
    {
      "cell_type": "code",
      "execution_count": 17,
      "metadata": {
        "id": "Hz8-DE4Zge0j"
      },
      "outputs": [
        {
          "name": "stdout",
          "output_type": "stream",
          "text": [
            "Top 3 customers with the most orders:\n"
          ]
        },
        {
          "data": {
            "application/vnd.microsoft.datawrangler.viewer.v0+json": {
              "columns": [
                {
                  "name": "index",
                  "rawType": "int64",
                  "type": "integer"
                },
                {
                  "name": "Customer ID",
                  "rawType": "int64",
                  "type": "integer"
                },
                {
                  "name": "Number of Orders",
                  "rawType": "int64",
                  "type": "integer"
                },
                {
                  "name": "Total Order Amount",
                  "rawType": "object",
                  "type": "string"
                }
              ],
              "ref": "fa252e56-a726-4ca3-834e-2f9b4dd8738e",
              "rows": [
                [
                  "0",
                  "52832",
                  "13",
                  "$225.80"
                ],
                [
                  "1",
                  "47440",
                  "10",
                  "$158.18"
                ],
                [
                  "2",
                  "83287",
                  "9",
                  "$139.31"
                ]
              ],
              "shape": {
                "columns": 3,
                "rows": 3
              }
            },
            "text/html": [
              "<div>\n",
              "<style scoped>\n",
              "    .dataframe tbody tr th:only-of-type {\n",
              "        vertical-align: middle;\n",
              "    }\n",
              "\n",
              "    .dataframe tbody tr th {\n",
              "        vertical-align: top;\n",
              "    }\n",
              "\n",
              "    .dataframe thead th {\n",
              "        text-align: right;\n",
              "    }\n",
              "</style>\n",
              "<table border=\"1\" class=\"dataframe\">\n",
              "  <thead>\n",
              "    <tr style=\"text-align: right;\">\n",
              "      <th></th>\n",
              "      <th>Customer ID</th>\n",
              "      <th>Number of Orders</th>\n",
              "      <th>Total Order Amount</th>\n",
              "    </tr>\n",
              "  </thead>\n",
              "  <tbody>\n",
              "    <tr>\n",
              "      <th>0</th>\n",
              "      <td>52832</td>\n",
              "      <td>13</td>\n",
              "      <td>$225.80</td>\n",
              "    </tr>\n",
              "    <tr>\n",
              "      <th>1</th>\n",
              "      <td>47440</td>\n",
              "      <td>10</td>\n",
              "      <td>$158.18</td>\n",
              "    </tr>\n",
              "    <tr>\n",
              "      <th>2</th>\n",
              "      <td>83287</td>\n",
              "      <td>9</td>\n",
              "      <td>$139.31</td>\n",
              "    </tr>\n",
              "  </tbody>\n",
              "</table>\n",
              "</div>"
            ],
            "text/plain": [
              "   Customer ID  Number of Orders Total Order Amount\n",
              "0        52832                13            $225.80\n",
              "1        47440                10            $158.18\n",
              "2        83287                 9            $139.31"
            ]
          },
          "execution_count": 17,
          "metadata": {},
          "output_type": "execute_result"
        }
      ],
      "source": [
        "# Write the code here\n",
        "\n",
        "# Calculate total order amount per customer and format as string with dollar sign\n",
        "customer_totals = data.groupby(\"customer_id\")[\"cost_of_the_order\"].sum().round(2).apply(lambda x: f\"${x:.2f}\")\n",
        "\n",
        "top_customers = data[\"customer_id\"].value_counts().nlargest(3)\n",
        "top_customers = top_customers.reset_index()\n",
        "top_customers.columns = [\"Customer ID\", \"Number of Orders\"]\n",
        "top_customers[\"Total Order Amount\"] = top_customers[\"Customer ID\"].map(customer_totals)\n",
        "print(\"Top 3 customers with the most orders:\")\n",
        "top_customers"
      ]
    },
    {
      "cell_type": "markdown",
      "metadata": {
        "id": "9tWVwfX6JY_V"
      },
      "source": [
        "#### Observations:\n",
        "The top 3 most frequent customers and their order counts are:\n",
        "\n",
        "* Customer ID 52832: Placed 13 orders.\n",
        "* Customer ID 47440: Placed 10 orders.\n",
        "* Customer ID 83287: Placed 9 orders.\n",
        "\n",
        "About 1.6% of the orders are from the top 3 customers which indicate strong customer loyalty\n"
      ]
    },
    {
      "cell_type": "markdown",
      "metadata": {
        "id": "AfIc2jPaJY_V"
      },
      "source": [
        "### Multivariate Analysis"
      ]
    },
    {
      "cell_type": "markdown",
      "metadata": {
        "id": "iqiS0RT_JY_V"
      },
      "source": [
        "### **Question 12**: Perform a multivariate analysis to explore relationships between the important variables in the dataset. (It is a good idea to explore relations between numerical variables as well as relations between numerical and categorical variables) [10 marks]\n"
      ]
    },
    {
      "cell_type": "code",
      "execution_count": 38,
      "metadata": {
        "id": "3qt4MCNTJY_V"
      },
      "outputs": [
        {
          "data": {
            "image/png": "[encoded data removed]",
            "text/plain": [
              "<Figure size 1800x1800 with 5 Axes>"
            ]
          },
          "metadata": {},
          "output_type": "display_data"
        }
      ],
      "source": [
        "# Write the code here\n",
        "\n",
        "fig3, axes3 = plt.subplots(2, 2, figsize=(18, 18)) \n",
        "fig3.suptitle(\"Multivariate Analysis\", fontsize=16)\n",
        "\n",
        "corr_matrix = data[[\"cost_of_the_order\", \"food_preparation_time\",\"rating\", \"delivery_time\"]].corr()\n",
        "\n",
        "# Plot heatmap\n",
        "sns.heatmap(corr_matrix, annot=True, cmap=\"Spectral\", fmt=\".3f\", ax=axes3[0, 0])\n",
        "axes3[0, 0].set_title(\"Correlation Matrix of Numerical Variables\", fontsize=10)\n",
        "axes3[0, 0].set_xlabel(\"Variables\")\n",
        "axes3[0, 0].set_xticklabels([label.get_text().replace(\"_\", \" \") for label in axes3[0, 0].get_xticklabels()], rotation=90)\n",
        "axes3[0, 0].set_yticklabels([label.get_text().replace(\"_\", \" \") for label in axes3[0, 0].get_yticklabels()], rotation=0)\n",
        "\n",
        "# Bivariate KDE plot: Cost of the Order vs Delivery Time\n",
        "sns.kdeplot(\n",
        "\tx=data[\"cost_of_the_order\"],\n",
        "\ty=data[\"delivery_time\"],\n",
        "\tfill=True,\n",
        "\tcolor=\"green\",\n",
        "\talpha=0.5,\n",
        "\tax=axes3[0, 1]\n",
        ")\n",
        "axes3[0, 1].set_title(\"Cost of the Order vs Delivery Time (KDE)\", fontsize=10)\n",
        "axes3[0, 1].set_xlabel(\"Cost of the Order\")\n",
        "axes3[0, 1].set_ylabel(\"Delivery Time\")\n",
        "\n",
        "# Violin plot: Delivery time by Day of the Week\n",
        "sns.violinplot(data=data, x=\"day_of_the_week\", y=\"delivery_time\", ax=axes3[1, 0])\n",
        "axes3[1, 0].set_title(\"Delivery time by Day of the Week\", fontsize=10)\n",
        "axes3[1, 0].set_xlabel(\"Day of the Week\")\n",
        "axes3[1, 0].set_ylabel(\"Delivery Time\")\n",
        "\n",
        "# Boxplot: Average Order Cost by Cuisine Type\n",
        "sns.boxplot(data=data, x=\"cuisine_type\", y=\"cost_of_the_order\", ax=axes3[1, 1], hue=\"day_of_the_week\")\n",
        "axes3[1, 1].set_title(\"Average Order Cost by Cuisine Type\", fontsize=10)\n",
        "categories = data[\"cuisine_type\"].unique()\n",
        "axes3[1, 1].set_xlabel(\"Cuisine Type\")\n",
        "axes3[1, 1].set_xticks(range(len(categories)))\n",
        "axes3[1, 1].set_xticklabels(categories, rotation=90)\n",
        "axes3[1, 1].set_ylabel(\"Average Cost of the Order\")\n",
        "axes3[1, 1].set_xticks(range(len(axes3[1, 1].get_xticklabels())))  # Ensure tick positions are set\n",
        "\n",
        "plt.tight_layout()\n",
        "plt.show()\n"
      ]
    },
    {
      "cell_type": "markdown",
      "metadata": {},
      "source": [
        "## Multivariate Analysis\n",
        "\n",
        "### 1. Correlation Matrix of Numerical Variables\n",
        "### **What It Shows**\n",
        "This is a heatmap displaying Pearson correlation coefficients between four numerical variables: **cost of the order, food preparation time, rating, and delivery time**.\n",
        "\n",
        "### **Interpretation**\n",
        "- **Diagonal (1.000)**: Each variable is perfectly correlated with itself.\n",
        "- **Cost of the order vs. food preparation time (0.042)**: A very weak positive correlation. Slight increases in order cost **might** lead to marginally longer preparation times, but the relationship is negligible.\n",
        "- **Cost of the order vs. rating (0.034)**: High-cost orders **do not** have a strong relationship with higher/lower ratings.\n",
        "- **Cost of the order vs. delivery time (-0.030)**: A very weak negative correlation—suggesting that order cost **does not significantly** impact delivery time.\n",
        "- **Food preparation time vs. rating (-0.006)**: Almost **no correlation**, meaning preparation time **does not affect** ratings.\n",
        "- **Food preparation time vs. delivery time (0.011)**: Negligible relationship—longer prep times **barely influence** delivery times.\n",
        "- **Rating vs. delivery time (-0.010)**: No notable effect of delivery time on customer ratings.\n",
        "\n",
        "### **Conclusion**\n",
        "- The correlations are **extremely low**, implying that these numerical variables are **largely independent** of each other.\n",
        "\n",
        "---\n",
        "\n",
        "## 2. Cost of the Order vs. Delivery Time (KDE Plot)\n",
        "### **What It Shows**\n",
        "A 2D **Kernel Density Estimate (KDE)** plot that visualizes the **joint probability density** of **Cost of the Order** and **Delivery Time**.  \n",
        "Darker green areas indicate **higher concentrations** of orders within certain cost and time ranges.\n",
        "\n",
        "### **Interpretation**\n",
        "- The **densest area** (darkest green) occurs around:\n",
        "  - **Cost of the Order**: **$10-$15**\n",
        "  - **Delivery Time**: **20-25 minutes**\n",
        "- The **spread of contours** indicates **varied delivery times** across cost ranges.\n",
        "- The **distribution is elliptical**, reinforcing the **lack of a strong correlation** between cost and delivery time.\n",
        "\n",
        "### **Key Takeaways**\n",
        "- Orders across **different cost ranges** share **similar delivery times**.\n",
        "- **More expensive orders do not necessarily take longer or shorter to arrive**.\n",
        "\n",
        "---\n",
        "\n",
        "## 3. Delivery Time by Day of the Week (Violin Plot)\n",
        "### **What It Shows**\n",
        "A **violin plot** comparing the distribution of **Delivery Time** across **Weekends** and **Weekdays**.  \n",
        "Violin plots reveal **data density** at different points along with **box plots inside**.\n",
        "\n",
        "### **Interpretation**\n",
        "- **Median & IQR** (Interquartile Range):\n",
        "  - **Weekday & Weekend medians are nearly identical (~25 mins)**.\n",
        "  - **Central spread is consistent**, meaning delivery times **do not vary significantly** between weekdays and weekends.\n",
        "- **Density Distribution**:\n",
        "  - Majority of deliveries **cluster around 20-30 minutes**.\n",
        "  - Both distributions are **symmetrical**, suggesting **similar efficiency** on weekdays and weekends.\n",
        "- **Outliers & Tails**:\n",
        "  - There may be **small variations in extreme short/long delivery times**, but they **do not significantly affect overall trends**.\n",
        "\n",
        "### **Conclusion**\n",
        "- **Delivery times remain stable** across weekdays and weekends, meaning operational speed **is consistent**.\n",
        "\n",
        "---\n",
        "\n",
        "## 4. Average Order Cost by Cuisine Type (Grouped Box Plot)\n",
        "### **What It Shows**\n",
        "A **box plot** illustrating **Average Order Cost** across different **Cuisine Types**, further divided into **Weekday vs. Weekend spending**.\n",
        "\n",
        "### **Interpretation**\n",
        "- **Cuisine Cost Variation**:\n",
        "  - **Southern cuisine has the highest average cost**, while **Korean & Vietnamese cuisines are the lowest**.\n",
        "- **Weekend vs. Weekday Spending**:\n",
        "  - **Most cuisines show slightly higher weekend spending** (orange box **above** blue box).\n",
        "  - Indicates **higher consumer spending on weekends**.\n",
        "- **Exceptions**:\n",
        "  - **Korean & Vietnamese cuisines** show minimal cost difference across days.\n",
        "  - **Mediterranean cuisine** trends **slightly higher on weekdays**.\n",
        "- **Variability**:\n",
        "  - **Southern & Thai cuisines** have **greater fluctuations**, while **Korean & Vietnamese cuisines** remain **stable**.\n",
        "- **Outliers**:\n",
        "  - Points outside the box plot indicate **unusually high or low** order costs for **specific cuisine orders**.\n",
        "\n",
        "---\n",
        "\n",
        "## **Final Summary**\n",
        "This **dashboard analysis** reveals key trends:\n",
        "\n",
        "✅ **Numerical Features are Uncorrelated** → Cost, Preparation Time, Rating, and Delivery Time act **independently**.  \n",
        "✅ **Delivery Time Remains Consistent** → No significant differences between **Weekdays and Weekends**.  \n",
        "✅ **Cuisine Type Drives Cost Differences** → Certain cuisines have **higher spending trends** (especially on weekends).  \n",
        "\n",
        "These insights can **help optimize** pricing strategies, operational efficiency, and customer satisfaction improvements.\n"
      ]
    },
    {
      "cell_type": "markdown",
      "metadata": {},
      "source": [
        "#### Observations:\n",
        "* Weak to no linear Coorelation meaning the cofficients are closer to 0. This means that factors other than just the numerical values of cost, preparation time, and delivery time are more significant drivers for ratings\n",
        "* There is a signiificant variation on the cost of order with respect to cuisine type and delivery time. \n",
        "* There’s a noticeable dip in density around 15-20 minutes of delivery time for costs between 10-20, indicating fewer orders in that range.\n",
        "* Weekends show slightly more variability in delivery time, with a wider spread (longer tails), suggesting more inconsistent delivery times compared to weekdays.\n",
        "* Error bars indicate variability; cuisines like Japanese and Thai show higher variability in order costs compared to others like Korean. Most cuisines have average costs between 20-25."
      ]
    },
    {
      "cell_type": "markdown",
      "metadata": {
        "id": "YLkMf09YJY_V"
      },
      "source": [
        "### **Question 13:** The company wants to provide a promotional offer in the advertisement of the restaurants. The condition to get the offer is that the restaurants must have a rating count of more than 50 and the average rating should be greater than 4. Find the restaurants fulfilling the criteria to get the promotional offer. [3 marks]"
      ]
    },
    {
      "cell_type": "code",
      "execution_count": 20,
      "metadata": {
        "id": "0M_QDvbYJY_V"
      },
      "outputs": [
        {
          "name": "stdout",
          "output_type": "stream",
          "text": [
            "Restaurants eligible for the promotional offer:\n"
          ]
        },
        {
          "data": {
            "application/vnd.microsoft.datawrangler.viewer.v0+json": {
              "columns": [
                {
                  "name": "index",
                  "rawType": "int64",
                  "type": "integer"
                },
                {
                  "name": "restaurant_name",
                  "rawType": "object",
                  "type": "string"
                },
                {
                  "name": "cuisine_type",
                  "rawType": "object",
                  "type": "string"
                },
                {
                  "name": "rating_count",
                  "rawType": "int64",
                  "type": "integer"
                },
                {
                  "name": "average_rating",
                  "rawType": "Float64",
                  "type": "float"
                }
              ],
              "ref": "32592074-fedf-4cf9-bb56-273bbdcf808e",
              "rows": [
                [
                  "0",
                  "The Meatball Shop",
                  "Italian",
                  "84",
                  "4.51"
                ],
                [
                  "1",
                  "Blue Ribbon Fried Chicken",
                  "American",
                  "64",
                  "4.33"
                ],
                [
                  "2",
                  "Shake Shack",
                  "American",
                  "133",
                  "4.28"
                ],
                [
                  "3",
                  "Blue Ribbon Sushi",
                  "Japanese",
                  "73",
                  "4.22"
                ]
              ],
              "shape": {
                "columns": 4,
                "rows": 4
              }
            },
            "text/html": [
              "<div>\n",
              "<style scoped>\n",
              "    .dataframe tbody tr th:only-of-type {\n",
              "        vertical-align: middle;\n",
              "    }\n",
              "\n",
              "    .dataframe tbody tr th {\n",
              "        vertical-align: top;\n",
              "    }\n",
              "\n",
              "    .dataframe thead th {\n",
              "        text-align: right;\n",
              "    }\n",
              "</style>\n",
              "<table border=\"1\" class=\"dataframe\">\n",
              "  <thead>\n",
              "    <tr style=\"text-align: right;\">\n",
              "      <th></th>\n",
              "      <th>restaurant_name</th>\n",
              "      <th>cuisine_type</th>\n",
              "      <th>rating_count</th>\n",
              "      <th>average_rating</th>\n",
              "    </tr>\n",
              "  </thead>\n",
              "  <tbody>\n",
              "    <tr>\n",
              "      <th>0</th>\n",
              "      <td>The Meatball Shop</td>\n",
              "      <td>Italian</td>\n",
              "      <td>84</td>\n",
              "      <td>4.51</td>\n",
              "    </tr>\n",
              "    <tr>\n",
              "      <th>1</th>\n",
              "      <td>Blue Ribbon Fried Chicken</td>\n",
              "      <td>American</td>\n",
              "      <td>64</td>\n",
              "      <td>4.33</td>\n",
              "    </tr>\n",
              "    <tr>\n",
              "      <th>2</th>\n",
              "      <td>Shake Shack</td>\n",
              "      <td>American</td>\n",
              "      <td>133</td>\n",
              "      <td>4.28</td>\n",
              "    </tr>\n",
              "    <tr>\n",
              "      <th>3</th>\n",
              "      <td>Blue Ribbon Sushi</td>\n",
              "      <td>Japanese</td>\n",
              "      <td>73</td>\n",
              "      <td>4.22</td>\n",
              "    </tr>\n",
              "  </tbody>\n",
              "</table>\n",
              "</div>"
            ],
            "text/plain": [
              "             restaurant_name cuisine_type  rating_count  average_rating\n",
              "0          The Meatball Shop      Italian            84            4.51\n",
              "1  Blue Ribbon Fried Chicken     American            64            4.33\n",
              "2                Shake Shack     American           133            4.28\n",
              "3          Blue Ribbon Sushi     Japanese            73            4.22"
            ]
          },
          "execution_count": 20,
          "metadata": {},
          "output_type": "execute_result"
        }
      ],
      "source": [
        "# Write the code here\n",
        "\n",
        "data_dropna = data.dropna(subset=['rating'])\n",
        "\n",
        "restaurant_stats = data_dropna.groupby('restaurant_name').agg(\n",
        "    average_rating=('rating', 'mean'),\n",
        "    rating_count=('rating', 'count'),\n",
        "    cuisine_type=('cuisine_type', lambda x: x.mode()[0] if not x.mode().empty else x.iloc[0])\n",
        ").reset_index()\n",
        "\n",
        "restaurant_stats['average_rating'] = restaurant_stats['average_rating'].round(2)\n",
        "restaurant_stats = restaurant_stats.sort_values(by='average_rating', ascending=False)\n",
        "\n",
        "# Filter restaurants based on criteria\n",
        "# Now, eligible_restaurants is a fresh DataFrame created by filtering,\n",
        "# so no SettingWithCopyWarning should occur when displaying or further manipulating it.\n",
        "eligible_restaurants = restaurant_stats[\n",
        "     (restaurant_stats['average_rating'] > 4)&\n",
        "    (restaurant_stats['rating_count'] > 50) \n",
        "   \n",
        "]\n",
        "\n",
        "eligible_restaurants = eligible_restaurants[\n",
        "    ['restaurant_name', 'cuisine_type', 'rating_count', 'average_rating']\n",
        "]\n",
        "eligible_restaurants = eligible_restaurants.reset_index(drop=True)\n",
        "\n",
        "# Display the eligible restaurants\n",
        "print(\"Restaurants eligible for the promotional offer:\")\n",
        "eligible_restaurants"
      ]
    },
    {
      "cell_type": "markdown",
      "metadata": {
        "id": "10uryUMhJY_V"
      },
      "source": [
        "#### Observations:\n",
        "There are only 4 resturants that made it to the list. This means that there are a lot of orders that have not been rated or rating is less than 4. Also considering the cuisine types mean that the italian, American and Japanese are rated higher than other cuisine types. Also Shake Shack has the highest count of rating meaning that there are high number of returning and loyal customers. Resturants should provides some incentives or offers for returing loyal customers and request customers to provide the ratings."
      ]
    },
    {
      "cell_type": "markdown",
      "metadata": {
        "id": "1gvWBkRUJY_V"
      },
      "source": [
        "### **Question 14:** The company charges the restaurant 25% on the orders having cost greater than 20 dollars and 15% on the orders having cost greater than 5 dollars. Find the net revenue generated by the company across all orders. [3 marks]"
      ]
    },
    {
      "cell_type": "code",
      "execution_count": 21,
      "metadata": {
        "id": "rEjbnTNEJY_W"
      },
      "outputs": [
        {
          "name": "stdout",
          "output_type": "stream",
          "text": [
            "The net revenue generated across all orders is $ 6166.4\n",
            "\n",
            "Top 5 restaurants that incurred the most revenue for the company:\n"
          ]
        },
        {
          "data": {
            "application/vnd.microsoft.datawrangler.viewer.v0+json": {
              "columns": [
                {
                  "name": "index",
                  "rawType": "int64",
                  "type": "integer"
                },
                {
                  "name": "restaurant_name",
                  "rawType": "object",
                  "type": "string"
                },
                {
                  "name": "revenue_per_order",
                  "rawType": "float64",
                  "type": "float"
                }
              ],
              "ref": "29c3e5fd-18f8-47c6-b649-7bc7aaf6d0b2",
              "rows": [
                [
                  "0",
                  "Shake Shack",
                  "703.59"
                ],
                [
                  "1",
                  "The Meatball Shop",
                  "419.8"
                ],
                [
                  "2",
                  "Blue Ribbon Sushi",
                  "360.48"
                ],
                [
                  "3",
                  "Blue Ribbon Fried Chicken",
                  "340.27"
                ],
                [
                  "4",
                  "Parm",
                  "218.58"
                ]
              ],
              "shape": {
                "columns": 2,
                "rows": 5
              }
            },
            "text/html": [
              "<div>\n",
              "<style scoped>\n",
              "    .dataframe tbody tr th:only-of-type {\n",
              "        vertical-align: middle;\n",
              "    }\n",
              "\n",
              "    .dataframe tbody tr th {\n",
              "        vertical-align: top;\n",
              "    }\n",
              "\n",
              "    .dataframe thead th {\n",
              "        text-align: right;\n",
              "    }\n",
              "</style>\n",
              "<table border=\"1\" class=\"dataframe\">\n",
              "  <thead>\n",
              "    <tr style=\"text-align: right;\">\n",
              "      <th></th>\n",
              "      <th>restaurant_name</th>\n",
              "      <th>revenue_per_order</th>\n",
              "    </tr>\n",
              "  </thead>\n",
              "  <tbody>\n",
              "    <tr>\n",
              "      <th>0</th>\n",
              "      <td>Shake Shack</td>\n",
              "      <td>703.59</td>\n",
              "    </tr>\n",
              "    <tr>\n",
              "      <th>1</th>\n",
              "      <td>The Meatball Shop</td>\n",
              "      <td>419.80</td>\n",
              "    </tr>\n",
              "    <tr>\n",
              "      <th>2</th>\n",
              "      <td>Blue Ribbon Sushi</td>\n",
              "      <td>360.48</td>\n",
              "    </tr>\n",
              "    <tr>\n",
              "      <th>3</th>\n",
              "      <td>Blue Ribbon Fried Chicken</td>\n",
              "      <td>340.27</td>\n",
              "    </tr>\n",
              "    <tr>\n",
              "      <th>4</th>\n",
              "      <td>Parm</td>\n",
              "      <td>218.58</td>\n",
              "    </tr>\n",
              "  </tbody>\n",
              "</table>\n",
              "</div>"
            ],
            "text/plain": [
              "             restaurant_name  revenue_per_order\n",
              "0                Shake Shack             703.59\n",
              "1          The Meatball Shop             419.80\n",
              "2          Blue Ribbon Sushi             360.48\n",
              "3  Blue Ribbon Fried Chicken             340.27\n",
              "4                       Parm             218.58"
            ]
          },
          "execution_count": 21,
          "metadata": {},
          "output_type": "execute_result"
        }
      ],
      "source": [
        "# Write the code here\n",
        "\n",
        "# Function to calculate revenue per order\n",
        "def calculate_revenue_per_order(row):\n",
        "    cost = row['cost_of_the_order']\n",
        "    if cost > 20:\n",
        "        return cost * 0.25\n",
        "    elif cost > 5:\n",
        "        return cost * 0.15\n",
        "    else:\n",
        "        return 0.00\n",
        "\n",
        "# Apply the function to create a new 'revenue_per_order' column\n",
        "data['revenue_per_order'] = data.apply(calculate_revenue_per_order, axis=1).round(2)\n",
        "\n",
        "# Group by restaurant name and sum the revenue to get total revenue per restaurant\n",
        "restaurant_revenue = data.groupby('restaurant_name')['revenue_per_order'].sum().reset_index()\n",
        "\n",
        "# Sort in descending order by revenue to find the top restaurants\n",
        "top_revenue_restaurants = restaurant_revenue.sort_values(by='revenue_per_order', ascending=False)\n",
        "\n",
        "print(\"The net revenue generated across all orders is $\",data[\"revenue_per_order\"].sum().round(2))\n",
        "print(\"\")\n",
        "\n",
        "print(\"Top 5 restaurants that incurred the most revenue for the company:\")\n",
        "top_revenue_restaurants.reset_index(drop=True).head(5)"
      ]
    },
    {
      "cell_type": "markdown",
      "metadata": {
        "id": "XHCEJgH0JY_W"
      },
      "source": [
        "#### Observations:\n",
        "As expected, current and previous observations conclude that the revenue is again from the top resturants like Shake Shack, Meatball shop and Blue ribbon suchi and fried chicken. Shake shack is the leader and indicates that the resturant is highly popular. This can also mean that the resturant has maximum number of orders or the cost of the order is on the higher range leading to higher cut to the company."
      ]
    },
    {
      "cell_type": "markdown",
      "metadata": {
        "id": "pRlVW-oeJY_W"
      },
      "source": [
        "### **Question 15:** The company wants to analyze the total time required to deliver the food. What percentage of orders take more than 60 minutes to get delivered from the time the order is placed? (The food has to be prepared and then delivered.) [2 marks]"
      ]
    },
    {
      "cell_type": "code",
      "execution_count": 22,
      "metadata": {
        "id": "zxoTrxfLJY_W"
      },
      "outputs": [
        {
          "name": "stdout",
          "output_type": "stream",
          "text": [
            "Percentage of orders that take more than 60 minutes to be delivered: 10.54 %\n"
          ]
        }
      ],
      "source": [
        "# Write the code here\n",
        "\n",
        "# Calculate the total time required for delivery\n",
        "data['total_delivery_time'] = data['food_preparation_time'] + data['delivery_time']\n",
        "\n",
        "# Count orders that take more than 60 minutes\n",
        "orders_gt_60_minutes = data[data['total_delivery_time'] > 60].shape[0]\n",
        "\n",
        "# Total number of orders\n",
        "total_orders = data.shape[0]\n",
        "\n",
        "# Calculate the percentage\n",
        "percentage_gt_60_minutes = (orders_gt_60_minutes / total_orders) * 100\n",
        "\n",
        "print(\"Percentage of orders that take more than 60 minutes to be delivered:\", round(percentage_gt_60_minutes, 2), \"%\")\n"
      ]
    },
    {
      "cell_type": "markdown",
      "metadata": {
        "id": "iqzBXn2yJY_W"
      },
      "source": [
        "#### Observations:\n",
        "There are about 10.54% of the orders that take more than 60 minutes for preperation of the food and delivery. This could be because of various factors like slower food preperation time, longer or inefficient delivery process/routes, busy resturants (might be because of the peak timing). Longer delivery timings could also mean poor customer experience and highly dissatisfied customers. This could result in poor customer loyality, ratings as well."
      ]
    },
    {
      "cell_type": "markdown",
      "metadata": {
        "id": "bUd6cYpPJY_W"
      },
      "source": [
        "### **Question 16:** The company wants to analyze the delivery time of the orders on weekdays and weekends. How does the mean delivery time vary during weekdays and weekends? [2 marks]"
      ]
    },
    {
      "cell_type": "code",
      "execution_count": 23,
      "metadata": {
        "id": "pIU5xZZ6JY_W"
      },
      "outputs": [
        {
          "name": "stdout",
          "output_type": "stream",
          "text": [
            "Mean delivery time by day of the week:\n"
          ]
        },
        {
          "data": {
            "application/vnd.microsoft.datawrangler.viewer.v0+json": {
              "columns": [
                {
                  "name": "index",
                  "rawType": "int64",
                  "type": "integer"
                },
                {
                  "name": "day_of_the_week",
                  "rawType": "object",
                  "type": "string"
                },
                {
                  "name": "delivery_time",
                  "rawType": "float64",
                  "type": "float"
                }
              ],
              "ref": "c53c2ca8-0a47-4938-be5d-0d6dc29710fe",
              "rows": [
                [
                  "0",
                  "Weekday",
                  "28.34"
                ],
                [
                  "1",
                  "Weekend",
                  "22.47"
                ]
              ],
              "shape": {
                "columns": 2,
                "rows": 2
              }
            },
            "text/html": [
              "<div>\n",
              "<style scoped>\n",
              "    .dataframe tbody tr th:only-of-type {\n",
              "        vertical-align: middle;\n",
              "    }\n",
              "\n",
              "    .dataframe tbody tr th {\n",
              "        vertical-align: top;\n",
              "    }\n",
              "\n",
              "    .dataframe thead th {\n",
              "        text-align: right;\n",
              "    }\n",
              "</style>\n",
              "<table border=\"1\" class=\"dataframe\">\n",
              "  <thead>\n",
              "    <tr style=\"text-align: right;\">\n",
              "      <th></th>\n",
              "      <th>day_of_the_week</th>\n",
              "      <th>delivery_time</th>\n",
              "    </tr>\n",
              "  </thead>\n",
              "  <tbody>\n",
              "    <tr>\n",
              "      <th>0</th>\n",
              "      <td>Weekday</td>\n",
              "      <td>28.34</td>\n",
              "    </tr>\n",
              "    <tr>\n",
              "      <th>1</th>\n",
              "      <td>Weekend</td>\n",
              "      <td>22.47</td>\n",
              "    </tr>\n",
              "  </tbody>\n",
              "</table>\n",
              "</div>"
            ],
            "text/plain": [
              "  day_of_the_week  delivery_time\n",
              "0         Weekday          28.34\n",
              "1         Weekend          22.47"
            ]
          },
          "execution_count": 23,
          "metadata": {},
          "output_type": "execute_result"
        }
      ],
      "source": [
        "# Write the code here\n",
        "\n",
        "mean_delivery_time_by_day = data.groupby('day_of_the_week')['delivery_time'].mean().reset_index().round(2)\n",
        "\n",
        "# Display the result\n",
        "print(\"Mean delivery time by day of the week:\")\n",
        "mean_delivery_time_by_day"
      ]
    },
    {
      "cell_type": "markdown",
      "metadata": {
        "id": "8H-ODxbVJY_W"
      },
      "source": [
        "#### Observations:\n",
        "The mean delivery time varies between weekdays and weekends as follows:\n",
        "<br>Weekday: The mean delivery time on weekdays is approximately 28.34 minutes.\n",
        "<br>Weekend: The mean delivery time on weekends is approximately 22.47 minutes.\n",
        "\n",
        "<br> Orders placed on weekends have a quicker delivery time than the orders placed on weekdays. This could mean a lot of things like better delivery logistics, lesser traffic, increased delivery personnel may be part time who work on weekdays and delvier food on weekends\n",
        "\n"
      ]
    },
    {
      "cell_type": "markdown",
      "metadata": {
        "id": "17roJywaJY_W"
      },
      "source": [
        "### Conclusion and Recommendations"
      ]
    },
    {
      "cell_type": "markdown",
      "metadata": {
        "id": "ZdX2Wz4FJY_W"
      },
      "source": [
        "### **Question 17:** What are your conclusions from the analysis? What recommendations would you like to share to help improve the business? (You can use cuisine type and feedback ratings to drive your business recommendations.) [6 marks]"
      ]
    },
    {
      "cell_type": "markdown",
      "metadata": {
        "id": "VTugVsL4Ddz-"
      },
      "source": [
        "### Conclusions:\n",
        "* The analysis shows weak linear correlation between numerical factors like Cost of order, preperation time and delivery time.\n",
        "* Customers have a choice of cuisine types with different cost options.\n",
        "* There are some high performing resturants like Shake shack, Meatball shop, Blue Ribbon Sushi, Blue Ribbon Fried Chicken with consistent metrics having high rating counts, average ratings and contribute to the revenue generation\n",
        "* Customers visit a small number of resturants increasing the customer loyalty for those resturants\n",
        "* 90% of the deliveries are under 60 minutes which is reasonable but contributes to the customer loyalty and satisfaction"
      ]
    },
    {
      "cell_type": "markdown",
      "metadata": {
        "id": "PWnsI0i_guWJ"
      },
      "source": [
        "### Recommendations:\n",
        "\n",
        "*  The focus needs to be on deepening relationships with restaurants like Shake Shack, The Meatball Shop, Blue Ribbon Sushi, and Blue Ribbon Fried Chicken. These are not only popular but also generate significant \n",
        "* We need to address the longer mean delivery times on weekdays and for the 10.54% of orders exceeding 60 minutes.\n",
        "* We need to get more ratings to estimate the customer loyalty and sentiment. Implement steps to get post delivery survey, improve weekday delivery timings.\n",
        "* Retain customers and improve customer loyalty by incentivizing the retruning customers."
      ]
    },
    {
      "cell_type": "markdown",
      "metadata": {
        "id": "tSoucKKbg9Hc"
      },
      "source": [
        "---"
      ]
    }
  ],
  "metadata": {
    "colab": {
      "provenance": []
    },
    "kernelspec": {
      "display_name": "Python 3",
      "language": "python",
      "name": "python3"
    },
    "language_info": {
      "codemirror_mode": {
        "name": "ipython",
        "version": 3
      },
      "file_extension": ".py",
      "mimetype": "text/x-python",
      "name": "python",
      "nbconvert_exporter": "python",
      "pygments_lexer": "ipython3",
      "version": "3.11.9"
    }
  },
  "nbformat": 4,
  "nbformat_minor": 0
}
